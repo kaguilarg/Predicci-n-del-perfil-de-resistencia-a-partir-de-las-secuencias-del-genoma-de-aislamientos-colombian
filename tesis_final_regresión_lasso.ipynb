{
  "nbformat": 4,
  "nbformat_minor": 0,
  "metadata": {
    "colab": {
      "name": "tesis final regresión lineal con lasso",
      "provenance": [],
      "collapsed_sections": []
    },
    "kernelspec": {
      "name": "python3",
      "display_name": "Python 3"
    }
  },
  "cells": [
    {
      "cell_type": "code",
      "metadata": {
        "id": "SNPs6_l8lkzW"
      },
      "source": [
        "import pandas as pd\n",
        "import numpy as np\n",
        "import math \n",
        "import matplotlib.pyplot as plt \n",
        "from sklearn.linear_model import Lasso\n",
        "from sklearn.linear_model import LinearRegression\n",
        "from sklearn.metrics import r2_score\n",
        "from sklearn.metrics import mean_squared_error\n",
        "from sklearn.metrics import mean_absolute_error\n",
        "from sklearn.model_selection import cross_val_score\n",
        "from sklearn.model_selection import train_test_split\n",
        "from sklearn.preprocessing import StandardScaler\n",
        "from sklearn.preprocessing import OneHotEncoder\n",
        "from sklearn.model_selection import train_test_split\n",
        "from sklearn.model_selection import GridSearchCV\n",
        "from sklearn.model_selection import RandomizedSearchCV\n",
        "from sklearn.feature_selection import SelectFromModel\n",
        "from scipy.stats import uniform\n",
        "from sklearn.metrics import  make_scorer\n",
        "from sklearn.utils.fixes import loguniform\n",
        "from sklearn.linear_model import Ridge, ElasticNet\n",
        "from sklearn.model_selection import validation_curve"
      ],
      "execution_count": null,
      "outputs": []
    },
    {
      "cell_type": "code",
      "metadata": {
        "id": "lEZ54gsDmDCJ",
        "colab": {
          "base_uri": "https://localhost:8080/"
        },
        "outputId": "7efa48d0-6612-4909-e5cd-ecdef8643216"
      },
      "source": [
        "#cargo los datos en el dataframe\n",
        "dataframe=pd.read_csv('/content/100-fosfo-343.csv')\n",
        "dataframe = dataframe.drop(['id', 'aislamiento', 'FOSFOI'], axis='columns')\n",
        "print(dataframe)"
      ],
      "execution_count": null,
      "outputs": [
        {
          "output_type": "stream",
          "text": [
            "    OXA-64  rosA  rosA_cp1  macB  ...  OXA-104  OXA-132  OXA-180  FOSFOMICINA_\n",
            "0      1.0   8.0      -1.0   1.0  ...     -1.0     -1.0     -1.0          2048\n",
            "1      1.0   8.0      -1.0   1.0  ...     -1.0     -1.0     -1.0          4096\n",
            "2     -1.0   5.0      -1.0   4.0  ...     -1.0     -1.0     -1.0          4096\n",
            "3     -1.0   5.0      -1.0   4.0  ...     -1.0     -1.0     -1.0          2048\n",
            "4     -1.0   5.0      -1.0   4.0  ...     -1.0     -1.0     -1.0          4096\n",
            "..     ...   ...       ...   ...  ...      ...      ...      ...           ...\n",
            "81    -1.0   7.0      -1.0   4.0  ...     -1.0     -1.0     -1.0            64\n",
            "82    -1.0   2.0      -1.0   2.0  ...     -1.0     -1.0     -1.0            64\n",
            "83    -1.0   2.0      -1.0   2.0  ...     -1.0     -1.0     -1.0            64\n",
            "84    -1.0   9.0      -1.0   1.0  ...     -1.0     -1.0     -1.0            64\n",
            "85    -1.0   2.0      -1.0   2.0  ...     -1.0     -1.0     -1.0            64\n",
            "\n",
            "[86 rows x 212 columns]\n"
          ],
          "name": "stdout"
        }
      ]
    },
    {
      "cell_type": "code",
      "metadata": {
        "id": "PdLGVEovTr6k",
        "colab": {
          "base_uri": "https://localhost:8080/"
        },
        "outputId": "cec0ecde-4a04-4463-af07-6e118f7b0e0f"
      },
      "source": [
        "#defino las variables \"X\" y \"y\"\n",
        "X = dataframe.drop(['FOSFOMICINA_'], axis='columns')\n",
        "y = dataframe.iloc[:, -1] \n",
        "print(X)\n",
        "print(y)"
      ],
      "execution_count": null,
      "outputs": [
        {
          "output_type": "stream",
          "text": [
            "    OXA-64  rosA  rosA_cp1  macB  ...  OXA-431  OXA-104  OXA-132  OXA-180\n",
            "0      1.0   8.0      -1.0   1.0  ...     -1.0     -1.0     -1.0     -1.0\n",
            "1      1.0   8.0      -1.0   1.0  ...     -1.0     -1.0     -1.0     -1.0\n",
            "2     -1.0   5.0      -1.0   4.0  ...     -1.0     -1.0     -1.0     -1.0\n",
            "3     -1.0   5.0      -1.0   4.0  ...     -1.0     -1.0     -1.0     -1.0\n",
            "4     -1.0   5.0      -1.0   4.0  ...     -1.0     -1.0     -1.0     -1.0\n",
            "..     ...   ...       ...   ...  ...      ...      ...      ...      ...\n",
            "81    -1.0   7.0      -1.0   4.0  ...     -1.0     -1.0     -1.0     -1.0\n",
            "82    -1.0   2.0      -1.0   2.0  ...     -1.0     -1.0     -1.0     -1.0\n",
            "83    -1.0   2.0      -1.0   2.0  ...     -1.0     -1.0     -1.0     -1.0\n",
            "84    -1.0   9.0      -1.0   1.0  ...     -1.0     -1.0     -1.0     -1.0\n",
            "85    -1.0   2.0      -1.0   2.0  ...     -1.0     -1.0     -1.0     -1.0\n",
            "\n",
            "[86 rows x 211 columns]\n",
            "0     2048\n",
            "1     4096\n",
            "2     4096\n",
            "3     2048\n",
            "4     4096\n",
            "      ... \n",
            "81      64\n",
            "82      64\n",
            "83      64\n",
            "84      64\n",
            "85      64\n",
            "Name: FOSFOMICINA_, Length: 86, dtype: int64\n"
          ],
          "name": "stdout"
        }
      ]
    },
    {
      "cell_type": "code",
      "metadata": {
        "id": "_TL_qiWj1il3",
        "colab": {
          "base_uri": "https://localhost:8080/"
        },
        "outputId": "93814236-52e4-490d-c1af-b004d30a1bc1"
      },
      "source": [
        "#cambio de variables a categoricas por dummys \n",
        "datadummy = pd.get_dummies(X.astype(str))\n",
        "print(datadummy)"
      ],
      "execution_count": null,
      "outputs": [
        {
          "output_type": "stream",
          "text": [
            "    OXA-64_-1.0  OXA-64_1.0  rosA_2.0  ...  OXA-104_-1.0  OXA-132_-1.0  OXA-180_-1.0\n",
            "0             0           1         0  ...             1             1             1\n",
            "1             0           1         0  ...             1             1             1\n",
            "2             1           0         0  ...             1             1             1\n",
            "3             1           0         0  ...             1             1             1\n",
            "4             1           0         0  ...             1             1             1\n",
            "..          ...         ...       ...  ...           ...           ...           ...\n",
            "81            1           0         0  ...             1             1             1\n",
            "82            1           0         1  ...             1             1             1\n",
            "83            1           0         1  ...             1             1             1\n",
            "84            1           0         0  ...             1             1             1\n",
            "85            1           0         1  ...             1             1             1\n",
            "\n",
            "[86 rows x 572 columns]\n"
          ],
          "name": "stdout"
        }
      ]
    },
    {
      "cell_type": "code",
      "metadata": {
        "id": "xxrtV1TGMPJi",
        "colab": {
          "base_uri": "https://localhost:8080/"
        },
        "outputId": "d0241b44-5cec-4537-eb15-7beba53bbfce"
      },
      "source": [
        "#Eliminar columnas que indican la ausencia del gen \n",
        "for col in datadummy.columns: \n",
        "  if col[-4:] == '-1.0':\n",
        "    print(col)\n",
        "    del(datadummy[col])\n",
        "\n",
        "print(datadummy.columns)\n",
        "print(datadummy.shape)"
      ],
      "execution_count": null,
      "outputs": [
        {
          "output_type": "stream",
          "text": [
            "OXA-64_-1.0\n",
            "rosA_cp1_-1.0\n",
            "Acinetobacter_baumannii_AmvA_-1.0\n",
            "Acinetobacter_baumannii_AmvA_cp1_-1.0\n",
            "adeN_-1.0\n",
            "adeH_-1.0\n",
            "adeF_cp1_-1.0\n",
            "adeL_-1.0\n",
            "abeS_-1.0\n",
            "abeS_cp1_-1.0\n",
            "ANT(3'')-IIc_-1.0\n",
            "ANT(3'')-IIc_cp1_-1.0\n",
            "adeB_-1.0\n",
            "adeB_cp1_-1.0\n",
            "adeA_-1.0\n",
            "adeA_cp1_-1.0\n",
            "adeR_-1.0\n",
            "adeR_cp1_-1.0\n",
            "adeS_-1.0\n",
            "adeS_cp1_-1.0\n",
            "ADC-5_-1.0\n",
            "MexK_-1.0\n",
            "Mycobacterium_tuberculosis_rpoB_mutants_conferring_resistance_to_rifampicin_-1.0\n",
            "adeJ_-1.0\n",
            "Clostridioides_difficile_gyrB_conferring_resistance_to_fluoroquinolone_-1.0\n",
            "Clostridioides_difficile_gyrB_conferring_resistance_to_fluoroquinolone_cp1_-1.0\n",
            "Escherichia_coli_soxR_with_mutation_conferring_antibiotic_resistance_-1.0\n",
            "sul2_-1.0\n",
            "sul2_cp1_-1.0\n",
            "sul2_cp2_-1.0\n",
            "tet(B)_-1.0\n",
            "APH(6)-Id_-1.0\n",
            "APH(6)-Id_cp1_-1.0\n",
            "APH(3'')-Ib_-1.0\n",
            "APH(3'')-Ib_cp1_-1.0\n",
            "OXA-23_-1.0\n",
            "OXA-23_cp1_-1.0\n",
            "AAC(3)-IIe_-1.0\n",
            "AAC(6')-Ian_-1.0\n",
            "TEM-1_-1.0\n",
            "Escherichia_coli_gyrA_conferring_resistance_to_fluoroquinolones_-1.0\n",
            "Mycobacterium_tuberculosis_thyA_with_mutation_conferring_resistance_to_para-aminosalicylic_acid_-1.0\n",
            "Mycobacterium_tuberculosis_thyA_with_mutation_conferring_resistance_to_para-aminosalicylic_acid_cp1_-1.0\n",
            "tetR_-1.0\n",
            "ugd_-1.0\n",
            "OXA-65_-1.0\n",
            "cmlB1_-1.0\n",
            "OXA-90_-1.0\n",
            "Salmonella_serovars_gyrB_conferring_resistance_to_fluoroquinolone_-1.0\n",
            "ADC-2_-1.0\n",
            "CTX-M-115_-1.0\n",
            "mphE_-1.0\n",
            "msrE_-1.0\n",
            "armA_-1.0\n",
            "CARB-16_-1.0\n",
            "APH(3')-Ia_-1.0\n",
            "APH(3')-Ia_cp1_-1.0\n",
            "ANT(2'')-Ia_-1.0\n",
            "Escherichia_coli_EF-Tu_mutants_conferring_resistance_to_Pulvomycin_-1.0\n",
            "Escherichia_coli_EF-Tu_mutants_conferring_resistance_to_Pulvomycin_cp1_-1.0\n",
            "OXA-366_-1.0\n",
            "OXA-68_-1.0\n",
            "ADC-76_-1.0\n",
            "OXA-106_-1.0\n",
            "OXA-255_-1.0\n",
            "OXA-72_-1.0\n",
            "tmrB_-1.0\n",
            "vanRF_-1.0\n",
            "vanSM_-1.0\n",
            "bmr_-1.0\n",
            "Staphylococcus_aureus_rpoB_mutants_conferring_resistance_to_rifampicin_-1.0\n",
            "ykkD_-1.0\n",
            "ykkC_-1.0\n",
            "Clostridioides_difficile_gyrA_conferring_resistance_to_fluoroquinolones_-1.0\n",
            "Acinetobacter_baumannii_ampC_beta-lactamase_-1.0\n",
            "BRP(MBL)_-1.0\n",
            "NDM-1_-1.0\n",
            "adeC_-1.0\n",
            "OXA-385_-1.0\n",
            "dfrA20_-1.0\n",
            "Tet(X3)_-1.0\n",
            "VEB-9_-1.0\n",
            "APH(3')-VI_-1.0\n",
            "ADC-58_-1.0\n",
            "OXA-120_-1.0\n",
            "golS_-1.0\n",
            "sul1_-1.0\n",
            "sul1_cp1_-1.0\n",
            "qacH_-1.0\n",
            "VIM-4_-1.0\n",
            "AAC(6')-Ib7_-1.0\n",
            "APH(3')-VIa_-1.0\n",
            "OXA-259_-1.0\n",
            "OXA-146_-1.0\n",
            "floR_-1.0\n",
            "ADC-6_-1.0\n",
            "OXA-51_-1.0\n",
            "OprM_-1.0\n",
            "mdsA_-1.0\n",
            "KPC-2_-1.0\n",
            "AAC(3)-IIc_-1.0\n",
            "aadA_-1.0\n",
            "SAT-2_-1.0\n",
            "dfrA1_-1.0\n",
            "Escherichia_coli_emrE_-1.0\n",
            "mdsC_-1.0\n",
            "OXA-66_-1.0\n",
            "ADC-30_-1.0\n",
            "AAC(3)-Ia_-1.0\n",
            "ADC-79_-1.0\n",
            "OXA-71_-1.0\n",
            "tet(A)_-1.0\n",
            "OXA-113_-1.0\n",
            "dfrB1_-1.0\n",
            "aadA11_-1.0\n",
            "SHV-5_-1.0\n",
            "OXA-402_-1.0\n",
            "ADC-3_-1.0\n",
            "OXA-317_-1.0\n",
            "ADC-81_-1.0\n",
            "tet(D)_-1.0\n",
            "catB8_-1.0\n",
            "OXA-235_-1.0\n",
            "arr-2_-1.0\n",
            "cmlA5_-1.0\n",
            "PER-7_-1.0\n",
            "OXA-144_-1.0\n",
            "OXA-371_-1.0\n",
            "OXA-24_-1.0\n",
            "ADC-77_-1.0\n",
            "ADC-25_-1.0\n",
            "aadA2_-1.0\n",
            "OXA-223_-1.0\n",
            "ADC-82_-1.0\n",
            "catB3_-1.0\n",
            "AAC(6')-Iaf_-1.0\n",
            "OXA-100_-1.0\n",
            "OXA-121_-1.0\n",
            "OXA-82_-1.0\n",
            "ADC-56_-1.0\n",
            "FosA6_-1.0\n",
            "OXA-338_-1.0\n",
            "OXA-58_-1.0\n",
            "OXA-314_-1.0\n",
            "OXA-340_-1.0\n",
            "OXA-94_-1.0\n",
            "OXA-98_-1.0\n",
            "ADC-7_-1.0\n",
            "OXA-171_-1.0\n",
            "OXA-78_-1.0\n",
            "OXA-69_-1.0\n",
            "ADC-74_-1.0\n",
            "Mycobacterium_tuberculosis_rpsL_mutations_conferring_resistance_to_Streptomycin_-1.0\n",
            "OXA-217_-1.0\n",
            "OXA-172_-1.0\n",
            "ADC-4_-1.0\n",
            "Salmonella_enterica_gyrA_with_mutation_conferring_resistance_to_triclosan_-1.0\n",
            "ADC-10_-1.0\n",
            "rosB_-1.0\n",
            "catI_-1.0\n",
            "tet(39)_-1.0\n",
            "ADC-43_-1.0\n",
            "OXA-407_-1.0\n",
            "OXA-429_-1.0\n",
            "OXA-208_-1.0\n",
            "OXA-263_-1.0\n",
            "FosC2_-1.0\n",
            "ANT(3'')-IIa_-1.0\n",
            "ADC-11_-1.0\n",
            "GES-11_-1.0\n",
            "aadA3_-1.0\n",
            "dfrA19_-1.0\n",
            "Haemophilus_parainfluenzae_parC_conferring_resistance_to_fluoroquinolones_-1.0\n",
            "CTX-M-15_-1.0\n",
            "PER-1_-1.0\n",
            "catB11_-1.0\n",
            "cmlA6_-1.0\n",
            "CARB-3_-1.0\n",
            "Pseudomonas_aeruginosa_parE_conferring_resistance_to_fluoroquinolones_-1.0\n",
            "OXA-88_-1.0\n",
            "OXA-365_-1.0\n",
            "OXA-95_-1.0\n",
            "OXA-126_-1.0\n",
            "ADC-75_-1.0\n",
            "AAC(3)-IId_-1.0\n",
            "OXA-374_-1.0\n",
            "OXA-387_-1.0\n",
            "arr-3_-1.0\n",
            "AAC(6')-Ib9_-1.0\n",
            "IMP-16_-1.0\n",
            "OXA-70_-1.0\n",
            "OXA-253_-1.0\n",
            "ADC-73_-1.0\n",
            "dfrA16_-1.0\n",
            "CARB-4_-1.0\n",
            "OXA-424_-1.0\n",
            "OXA-431_-1.0\n",
            "OXA-104_-1.0\n",
            "OXA-132_-1.0\n",
            "OXA-180_-1.0\n",
            "Index(['OXA-64_1.0', 'rosA_2.0', 'rosA_20.0', 'rosA_27.0', 'rosA_31.0',\n",
            "       'rosA_36.0', 'rosA_4.0', 'rosA_42.0', 'rosA_5.0', 'rosA_7.0',\n",
            "       ...\n",
            "       'ADC-30_3.0', 'ADC-79_11.0', 'catB8_1.0', 'OXA-235_1.0', 'arr-2_1.0',\n",
            "       'cmlA5_1.0', 'cmlA5_2.0', 'PER-7_1.0', 'OXA-144_1.0', 'OXA-371_1.0'],\n",
            "      dtype='object', length=372)\n",
            "(86, 372)\n"
          ],
          "name": "stdout"
        }
      ]
    },
    {
      "cell_type": "code",
      "metadata": {
        "id": "KmpQNuOC_UId"
      },
      "source": [
        "#division de los datos en entrenamiento y prueba \n",
        "X_train, X_test, y_train, y_test = train_test_split(datadummy, y, test_size=0.20, random_state=27)\n",
        "print(X_train)\n",
        "print(y_test)"
      ],
      "execution_count": null,
      "outputs": []
    },
    {
      "cell_type": "code",
      "metadata": {
        "id": "qfOQcv7MNcUE",
        "colab": {
          "base_uri": "https://localhost:8080/"
        },
        "outputId": "d7d10811-4179-4ed2-ed3b-11fd8ef54148"
      },
      "source": [
        "#convierto las variables de \"y\" en log2\n",
        "y_train1 = np.log2(y_train)\n",
        "y_test1 = np.log2(y_test)\n",
        "print(y_test1)\n",
        "print(y_train1)"
      ],
      "execution_count": null,
      "outputs": [
        {
          "output_type": "stream",
          "text": [
            "59    11.0\n",
            "30     7.0\n",
            "21    10.0\n",
            "20     8.0\n",
            "60    10.0\n",
            "67     7.0\n",
            "22    11.0\n",
            "71     9.0\n",
            "55    11.0\n",
            "47     9.0\n",
            "6      7.0\n",
            "53    12.0\n",
            "83     6.0\n",
            "69    12.0\n",
            "14    11.0\n",
            "77     6.0\n",
            "79     6.0\n",
            "52    11.0\n",
            "Name: FOSFOMICINA_, dtype: float64\n",
            "1     12.0\n",
            "11    11.0\n",
            "38    12.0\n",
            "45     9.0\n",
            "50    12.0\n",
            "      ... \n",
            "84     6.0\n",
            "31     7.0\n",
            "72     7.0\n",
            "56    12.0\n",
            "19     7.0\n",
            "Name: FOSFOMICINA_, Length: 68, dtype: float64\n"
          ],
          "name": "stdout"
        }
      ]
    },
    {
      "cell_type": "code",
      "metadata": {
        "id": "uyWSuJ-9mFhZ"
      },
      "source": [
        "# find optimal alpha with grid search: REGULARIZACION\n",
        "lasso = Lasso()\n",
        "alpha = [0.001, 0.005, 0.01, 0.05, 0.06, 0.07, 0.08, 0.085, 0.086, 0.087, 0.088, 0.089, 0.09, 0.1, 0.2, 0.3, 0.4, 0.5, 0.6, 0.7, 0.8, 0.9, 1, 10, 100, 1000]\n",
        "param_grid = dict(alpha=alpha)\n",
        "grid = GridSearchCV(estimator=lasso, param_grid=param_grid, scoring='neg_root_mean_squared_error', verbose=1, n_jobs=-1, cv=10)\n",
        "grid_result = grid.fit(X_train, y_train1)\n",
        "print('Best Score: ', grid_result.best_score_)\n",
        "print('Best Params: ', grid_result.best_params_)"
      ],
      "execution_count": null,
      "outputs": []
    },
    {
      "cell_type": "code",
      "metadata": {
        "id": "INnGkoMT1qJX"
      },
      "source": [
        "#defino el modelo y los valores de alpha a evaluar (distantes)\n",
        "parametros = [0.001, 0.005, 0.009, 0.01, 0.03, 0.05, 0.1]"
      ],
      "execution_count": null,
      "outputs": []
    },
    {
      "cell_type": "code",
      "metadata": {
        "id": "pIKqcMC8amsL"
      },
      "source": [
        "#defino el modelo y los valores de alpha a evaluar (cortos)\n",
        "parametros = [0.005, 0.01, 0.03, 0.05, 0.07, 0.1, 0.3, 0.7]\n"
      ],
      "execution_count": null,
      "outputs": []
    },
    {
      "cell_type": "code",
      "metadata": {
        "id": "URje1XFp2HlL"
      },
      "source": [
        "#tunning de hiperparametros (resultados con r2)\n",
        "train_scores, valid_scores = validation_curve(Lasso(), X = X_train, y=y_train1, param_name =\"alpha\", param_range= parametros, cv=10, scoring=\"r2\")\n",
        "train_mean = np.mean(train_scores, axis=1)\n",
        "train_std = np.std(train_scores, axis=1)\n",
        "val_mean = np.mean(valid_scores, axis=1)\n",
        "val_std = np.std(valid_scores, axis=1)\n",
        "print('Score train: ', train_scores)\n",
        "print('Score test: ', valid_scores)\n",
        "print('RMSE train: ', train_mean)\n",
        "print('RMSE val: ', val_mean)"
      ],
      "execution_count": null,
      "outputs": []
    },
    {
      "cell_type": "code",
      "metadata": {
        "id": "BTlVRyKu3K1l"
      },
      "source": [
        "#grafica de validacion R2\n",
        "plt.plot(parametros, train_mean, color='blue', marker='o', markersize=5, label='training score')\n",
        "plt.fill_between(parametros, train_mean + train_std, train_mean - train_std, alpha=0.15, color='blue')\n",
        "\n",
        "plt.plot(parametros, val_mean, color='green', linestyle='--', marker='s', markersize=5, label='validation score')\n",
        "plt.fill_between(parametros, val_mean + val_std, val_mean - val_std, alpha=0.15, color='green')\n",
        "\n",
        "plt.grid()\n",
        "plt.xscale('log')\n",
        "#plt.xscale('linear')\n",
        "#plt.xticks(parametros)\n",
        "plt.legend(loc='upper righ')\n",
        "plt.xlabel('Alpha')\n",
        "plt.ylabel('Score')\n",
        "plt.ylim([-1, 1.1])\n",
        "plt.show()"
      ],
      "execution_count": null,
      "outputs": []
    },
    {
      "cell_type": "code",
      "metadata": {
        "id": "5gBuMupRb-ma"
      },
      "source": [
        "#tunning de hiperparametros (resultados con RMSE)\n",
        "train_scores, valid_scores = validation_curve(Lasso(), X = X_train, y=y_train1, param_name =\"alpha\", param_range= parametros, cv=5, scoring=\"neg_mean_squared_error\")\n",
        "train_scores_positive = np.array(train_scores) * -1\n",
        "valid_scores_positive = np.array(valid_scores) * -1\n",
        "train_mean = np.mean(train_scores_positive, axis=1)\n",
        "train_std = np.std(train_scores_positive, axis=1)\n",
        "val_mean = np.mean(valid_scores_positive, axis=1)\n",
        "val_std = np.std(valid_scores_positive, axis=1)\n",
        "print('Score train: ', train_scores_positive)\n",
        "print('Score test: ', valid_scores_positive)\n",
        "print('RMSE train: ', train_mean)\n",
        "print('RMSE val: ', val_mean)"
      ],
      "execution_count": null,
      "outputs": []
    },
    {
      "cell_type": "code",
      "metadata": {
        "id": "EvF7ZQK8f6WR"
      },
      "source": [
        "#grafica de validacion RMSE\n",
        "plt.plot(parametros, train_mean, color='blue', marker='o', markersize=5, label='training score')\n",
        "plt.fill_between(parametros, train_mean + train_std, train_mean - train_std, alpha=0.15, color='blue')\n",
        "\n",
        "plt.plot(parametros, val_mean, color='green', linestyle='--', marker='s', markersize=5, label='validation score')\n",
        "plt.fill_between(parametros, val_mean + val_std, val_mean - val_std, alpha=0.15, color='green')\n",
        "\n",
        "plt.grid()\n",
        "plt.xscale('log')\n",
        "#plt.xscale('linear')\n",
        "#plt.xticks(parametros)\n",
        "plt.legend(loc='upper righ')\n",
        "plt.xlabel('Alpha')\n",
        "plt.ylabel('Score')\n",
        "plt.ylim([0, 3])\n",
        "plt.show()"
      ],
      "execution_count": null,
      "outputs": []
    },
    {
      "cell_type": "code",
      "metadata": {
        "id": "6ZLjiveDKqVY"
      },
      "source": [
        "#entrenamos el modelo con el valor de alpha establecido por gride search \n",
        "lasso001 = Lasso(alpha=0.05, max_iter=10e5)\n",
        "lasso001.fit(X_train, y_train1)\n",
        "train_score = lasso001.score(X_train, y_train1)\n",
        "test_score = lasso001.score(X_test, y_test1)\n",
        "coeff_used = np.sum(lasso001.coef_!=0)\n",
        "print(\"train score:\", train_score) #r2 del entrenamiento \n",
        "print(\"test score:\", test_score) #r2 del test\n",
        "print(\"numero de caracteristicas usadas:\", coeff_used)\n"
      ],
      "execution_count": null,
      "outputs": []
    },
    {
      "cell_type": "code",
      "metadata": {
        "id": "6iiFnYjxXP1g",
        "colab": {
          "base_uri": "https://localhost:8080/"
        },
        "outputId": "214a64ea-3b07-41bb-9ff6-85895e2fb59c"
      },
      "source": [
        "#hacer prediccion \n",
        "print(\"Predicciones\")\n",
        "predictions = 2**np.round(lasso001.predict(X_test))\n",
        "print(predictions)\n",
        "verdaderos = y_test.to_numpy()\n",
        "print(verdaderos)\n",
        "# Por último, calculamos el error cuadrático medio y el estadístico R^2\n",
        "print ('Error cuadrático medio: %.2f' % mean_squared_error(y_test1, np.log2(predictions)))\n",
        "print ('Estadístico R_2: %.2f' % r2_score(y_test1, np.log2(predictions)))\n",
        "print(mean_absolute_error(y_test1, np.log2(predictions)))"
      ],
      "execution_count": null,
      "outputs": [
        {
          "output_type": "stream",
          "text": [
            "Predicciones\n",
            "[ 512.  512. 1024. 1024. 1024.  512. 1024. 1024. 1024.  256.  512. 1024.\n",
            "  128.  512. 1024.  128.   64. 1024.]\n",
            "[2048  128 1024  256 1024  128 2048  512 2048  512  128 4096   64 4096\n",
            " 2048   64   64 2048]\n",
            "Error cuadrático medio: 2.28\n",
            "Estadístico R_2: 0.49\n",
            "1.2777777777777777\n"
          ],
          "name": "stdout"
        }
      ]
    },
    {
      "cell_type": "code",
      "metadata": {
        "id": "GXeP8eI7XjL3"
      },
      "source": [
        "#funcion para calcular la excatitud con +/- una dilucion \n",
        "def within_dillution(y_test, predictions, dill=2):\n",
        "    frac = np.array(y_test) / np.array(predictions)\n",
        "    return ((frac >= 1/dill) & (frac <= dill)).mean()\n",
        "   "
      ],
      "execution_count": null,
      "outputs": []
    },
    {
      "cell_type": "code",
      "metadata": {
        "id": "xgRHWEyEXr-r",
        "colab": {
          "base_uri": "https://localhost:8080/"
        },
        "outputId": "af5ecce8-5569-44d5-8262-c34a85e763c7"
      },
      "source": [
        "acc2 = within_dillution(y_test, predictions, dill=2)\n",
        "acc4 = within_dillution(y_test, predictions, dill=4)\n",
        "print(acc2)\n",
        "print(acc4)"
      ],
      "execution_count": null,
      "outputs": [
        {
          "output_type": "stream",
          "text": [
            "0.6111111111111112\n",
            "0.9444444444444444\n"
          ],
          "name": "stdout"
        }
      ]
    },
    {
      "cell_type": "code",
      "metadata": {
        "id": "pTBPcJkb7Vpe",
        "colab": {
          "base_uri": "https://localhost:8080/"
        },
        "outputId": "cc329d50-1950-4b7b-b08c-f3e858d0d83f"
      },
      "source": [
        "threshold = 2 # estos valores correspondientes a los puntos de corte del para clasificar como suceptible un genoma (varia segun antibiotico)\n",
        "threshold1 = 2\n",
        "predDF = pd.DataFrame({'predictions':predictions, 'y_test':y_test})\n",
        "vme = len(predDF[(predDF.predictions<=threshold) & (predDF.y_test>threshold1)])\n",
        "me = len(predDF[(predDF.predictions>threshold1) & (predDF.y_test<=threshold)])\n",
        "print(vme)\n",
        "print(me)"
      ],
      "execution_count": null,
      "outputs": [
        {
          "output_type": "stream",
          "text": [
            "0\n",
            "0\n"
          ],
          "name": "stdout"
        }
      ]
    }
  ]
}