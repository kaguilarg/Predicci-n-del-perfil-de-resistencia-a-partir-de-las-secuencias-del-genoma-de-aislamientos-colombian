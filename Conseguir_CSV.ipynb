{
  "nbformat": 4,
  "nbformat_minor": 0,
  "metadata": {
    "colab": {
      "name": "Conseguir CSV",
      "provenance": []
    },
    "kernelspec": {
      "name": "python3",
      "display_name": "Python 3"
    }
  },
  "cells": [
    {
      "cell_type": "code",
      "metadata": {
        "id": "GSxOpVokp7ej"
      },
      "source": [
        "import pandas as pd\n",
        "import numpy as np\n",
        "#def leerfichero():\n",
        "    #leo el fichero y guardo el texto en la variable texto\n",
        "    #AQUI VA EL NOMBRE Y DIRECCION DEL ARCHIVO .txt\n",
        "archivo = open ('/content/AMK-100-featureimportance.txt','r')\n",
        "\n",
        "#leerfichero()"
      ],
      "execution_count": null,
      "outputs": []
    },
    {
      "cell_type": "code",
      "metadata": {
        "id": "wpaGvkB1ypWG"
      },
      "source": [
        "texto=archivo.read()\n",
        "archivo.close()\n",
        "    #reemplazo los saltos de lienea por * y guardo el texto en la variable reemplazoespacio\n",
        "reemplazoespacio = texto.replace(\"\\n\",\"*\") \n",
        "reemplazoespacio = reemplazoespacio.replace(\",\",\"_\")\n",
        "    #reemplazo los espacios simples por _\n",
        "reemplazoespacio=reemplazoespacio.replace(\" \",\"_\")\n",
        "    #reemplazo los espacios dobles por espacios simples\n",
        "    #reemplazoespacio=\"    \".join( reemplazoespacio.split() )\n",
        "reemplazoespacio=\" \".join( reemplazoespacio.split() )\n",
        "    #reemplazo los espacios simples por ,\n",
        "reemplazoespacio=reemplazoespacio.replace(\" \",\",\")\n",
        "    #Vuelvo a agregar los saltos de linea en los lugares donde se asigno *\n",
        "reemplazoespacio = reemplazoespacio.replace(\"*\",\"\\n\");"
      ],
      "execution_count": null,
      "outputs": []
    },
    {
      "cell_type": "code",
      "metadata": {
        "id": "zDwAAIhIypWJ"
      },
      "source": [
        "#creo un archivo resultado\n",
        "archivoresultado=open ('resultado.txt','a')\n",
        "archivoresultado=open ('resultado.txt','w')\n",
        "    #escribo el texto obtenido  en el archivo creado\n",
        "archivoresultado.write(reemplazoespacio)\n",
        "    # leo el nuevo archivo cy lo guardo como csv en la variable datos y en el archivo Datosorganizados\n",
        "datos=pd.read_csv('resultado.txt', sep=\",\",error_bad_lines=False)\n",
        "datos.to_csv ( '100-amk-featureimportance1.csv')\n",
        "display(datos)"
      ],
      "execution_count": null,
      "outputs": []
    }
  ]
}