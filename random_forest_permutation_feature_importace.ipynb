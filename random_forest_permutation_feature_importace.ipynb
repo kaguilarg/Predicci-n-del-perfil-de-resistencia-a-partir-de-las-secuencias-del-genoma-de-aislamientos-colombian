{
  "nbformat": 4,
  "nbformat_minor": 0,
  "metadata": {
    "colab": {
      "name": "permutation RF",
      "provenance": [],
      "collapsed_sections": []
    },
    "kernelspec": {
      "display_name": "Python 3",
      "name": "python3"
    }
  },
  "cells": [
    {
      "cell_type": "code",
      "metadata": {
        "id": "ZjYgEwPA0Pq4"
      },
      "source": [
        "#Importar librerias\n",
        "import pandas as pd\n",
        "import numpy as np\n",
        "from sklearn.feature_selection import SelectFromModel\n",
        "from sklearn.ensemble import RandomForestRegressor\n",
        "from sklearn.model_selection import train_test_split\n",
        "from sklearn.metrics import mean_squared_error, r2_score, mean_absolute_error\n",
        "from sklearn import metrics\n",
        "from sklearn.model_selection import GridSearchCV\n",
        "from sklearn.model_selection import validation_curve\n",
        "from sklearn.inspection import permutation_importance\n",
        "import matplotlib.pyplot as plt "
      ],
      "execution_count": null,
      "outputs": []
    },
    {
      "cell_type": "code",
      "metadata": {
        "id": "UHYp0nE50iy2"
      },
      "source": [
        "#leer el dataframe \n",
        "dataframe=pd.read_csv('//content/95-mero-343.csv')\n",
        "dataframe = dataframe.drop(['id', 'aislamiento', 'MEROI'], axis='columns')\n",
        "#defino las variables \"X\" y \"y\"\n",
        "X = dataframe.drop(['MEROPENEM'], axis='columns')\n",
        "y = dataframe.iloc[:, -1]  \n",
        "ylog=np.log2(y)"
      ],
      "execution_count": null,
      "outputs": []
    },
    {
      "cell_type": "code",
      "metadata": {
        "id": "P2xBNa-w5d0r"
      },
      "source": [
        "#perform permutation importance\n",
        "modelo = RandomForestRegressor ()\n",
        "modelo.fit(X, ylog)\n",
        "characteristic = dataframe.columns\n",
        "results = permutation_importance(modelo, X, ylog, scoring='neg_mean_squared_error')\n",
        "# get importance\n",
        "importances = results.importances_mean\n",
        "characteristics_importances = [(characteristic, round(importance, 2)) for characteristic, importance in zip(characteristic, importances)]\n",
        "characteristics_importances = sorted(characteristics_importances, key = lambda x: x[1], reverse = True)\n",
        "[print('Variable: {:20} Importance: {}'.format(*pair)) for pair in characteristics_importances];"
      ],
      "execution_count": null,
      "outputs": []
    },
    {
      "cell_type": "code",
      "metadata": {
        "id": "7-OvU6ExEzTf"
      },
      "source": [
        "#funcion para calcular la excatitud con +/- una dilucion \n",
        "def within_dillution(y_test, y_pred1, dill=2):\n",
        "    frac = np.array(y_test) / np.array(y_pred1)\n",
        "    return ((frac >= 1/dill) & (frac <= dill)).mean()"
      ],
      "execution_count": null,
      "outputs": []
    },
    {
      "cell_type": "code",
      "metadata": {
        "colab": {
          "background_save": true,
          "base_uri": "https://localhost:8080/"
        },
        "id": "tn4IFbHP7txX",
        "outputId": "ffd61b38-477c-4ab3-bc53-3730961e46b0"
      },
      "source": [
        "genes=[]\n",
        "linea=[]\n",
        "resultados=[]\n",
        "for pair in characteristics_importances [: 53]:#[:final]\n",
        "  linea=[]\n",
        "  genes.append(pair[0])\n",
        "  print(genes)\n",
        "  X = dataframe[genes]\n",
        "  X_train, X_test, y_train, y_test = train_test_split(X, y, test_size=0.20, random_state=27)\n",
        "  #convierto la variable \"y\" en log \n",
        "  y_train1 = np.log2(y_train)\n",
        "  y_test1 = np.log2(y_test)\n",
        "  #ajuste de hiperparametros por gridesearch\n",
        "  modelo1 = RandomForestRegressor()\n",
        "  n_estimators = [50, 100, 200, 300]\n",
        "  max_depth = [5, 6, 7, 8, 10]\n",
        "  min_samples_split = [2, 3, 5, 6] \n",
        "  min_samples_leaf = [1, 2, 3] \n",
        "  max_features = ['sqrt', 10, 20, 30, 45, 57]\n",
        "  hyperF = dict(max_depth = max_depth, min_samples_split = min_samples_split, min_samples_leaf = min_samples_leaf)\n",
        "  gridF = GridSearchCV(modelo1, hyperF, cv = 10, verbose = 1,n_jobs = -1)\n",
        "  bestF = gridF.fit(X_train, y_train)\n",
        "  print('Best Params: ', gridF.best_params_)\n",
        "  linea.append(gridF.best_params_)\n",
        "  #definir el modelo\n",
        "  modelo = RandomForestRegressor(max_depth= gridF.best_params_['max_depth'], min_samples_leaf= gridF.best_params_['min_samples_leaf'], min_samples_split= gridF.best_params_['min_samples_split'])\n",
        "  #entreno modelo y realiazo predicciones \n",
        "  modelo.fit(X_train, y_train1) #entreno\n",
        "  y_pred = modelo.predict(X_test)\n",
        "  #hago predicciones \n",
        "  #print(y_pred)\n",
        "  y_pred1 = 2**np.round(modelo.predict(X_test))\n",
        "  #print(y_pred1)\n",
        "  verdaderos = y_test.to_numpy()\n",
        "  #print(verdaderos)\n",
        "  #obtengo los valores que muestran el desempeño del modelo\n",
        "  maete=metrics.mean_absolute_error(y_test1, y_pred)\n",
        "  print('Mean Absolute Error_test:', maete)\n",
        "  linea.append(maete)\n",
        "  maetr=metrics.mean_absolute_error(y_train1, modelo.predict(X_train))\n",
        "  print('Mean Absolute Error_train:', maetr)\n",
        "  linea.append(maetr)\n",
        "  msete=metrics.mean_squared_error(y_test1, y_pred)\n",
        "  print('Mean Squared Error_test:', msete)\n",
        "  linea.append(msete)\n",
        "  msetr=metrics.mean_squared_error(y_train1, modelo.predict(X_train))\n",
        "  print('Mean Squared Error_train:', msetr)\n",
        "  linea.append(msetr)\n",
        "  rmsete=np.sqrt(metrics.mean_squared_error(y_test1, y_pred))\n",
        "  print('Root Mean Squared Error_test:', rmsete)\n",
        "  linea.append(rmsete)\n",
        "  rmstr=np.sqrt(metrics.mean_squared_error(y_train1, modelo.predict(X_train)))\n",
        "  print('RMSE_train:', rmstr)\n",
        "  linea.append(rmstr)\n",
        "  r2tr=metrics.r2_score(y_train1, modelo.predict(X_train))\n",
        "  print('r2_train:', r2tr)\n",
        "  linea.append(r2tr)\n",
        "  r2te=metrics.r2_score(y_test1, (y_pred))\n",
        "  print('r2_teste:', r2te)\n",
        "  linea.append(r2te)\n",
        "  #saco accuracy con +/- 1 dilucion, VME y ME\n",
        "  acc2 = within_dillution(y_test, y_pred1, dill=2)\n",
        "  acc4 = within_dillution(y_test, y_pred1, dill=4)\n",
        "  threshold = 2\n",
        "  threshold1 = 4 #colacel el punto de corte para el antibiotico que esta probando\n",
        "  predDF = pd.DataFrame({'y_pred1':y_pred1, 'y_test':y_test})\n",
        "  vme = len(predDF[(predDF.y_pred1<=threshold) & (predDF.y_test>threshold1)])\n",
        "  me = len(predDF[(predDF.y_pred1>threshold1) & (predDF.y_test<=threshold)])\n",
        "  #print(vme)\n",
        "  linea.append(vme)\n",
        "  #print(me)\n",
        "  linea.append(me)\n",
        "  #print(acc2)\n",
        "  linea.append(acc2)\n",
        "  #print(acc4)\n",
        "  resultados.append(linea)"
      ],
      "execution_count": null,
      "outputs": [
        {
          "output_type": "stream",
          "text": [
            "['Escherichia_coli_EF-Tu_mutants_conferring_resistance_to_Pulvomycin']\n",
            "Fitting 10 folds for each of 60 candidates, totalling 600 fits\n"
          ],
          "name": "stdout"
        },
        {
          "output_type": "stream",
          "text": [
            "[Parallel(n_jobs=-1)]: Using backend LokyBackend with 2 concurrent workers.\n",
            "[Parallel(n_jobs=-1)]: Done  46 tasks      | elapsed:    6.3s\n",
            "[Parallel(n_jobs=-1)]: Done 196 tasks      | elapsed:   22.7s\n",
            "[Parallel(n_jobs=-1)]: Done 446 tasks      | elapsed:   50.0s\n",
            "[Parallel(n_jobs=-1)]: Done 600 out of 600 | elapsed:  1.1min finished\n"
          ],
          "name": "stderr"
        },
        {
          "output_type": "stream",
          "text": [
            "Best Params:  {'max_depth': 10, 'min_samples_leaf': 3, 'min_samples_split': 3}\n",
            "Mean Absolute Error_test: 1.228824429396521\n",
            "Mean Absolute Error_train: 1.2951670443755106\n",
            "Mean Squared Error_test: 2.995656752897484\n",
            "Mean Squared Error_train: 2.550151813720123\n",
            "Root Mean Squared Error_test: 1.730796566005804\n",
            "RMSE_train: 1.5969194762792904\n",
            "r2_train: 0.44718054553713427\n",
            "r2_teste: 0.34768012255100045\n",
            "['Escherichia_coli_EF-Tu_mutants_conferring_resistance_to_Pulvomycin', 'OXA-23']\n",
            "Fitting 10 folds for each of 60 candidates, totalling 600 fits\n"
          ],
          "name": "stdout"
        },
        {
          "output_type": "stream",
          "text": [
            "[Parallel(n_jobs=-1)]: Using backend LokyBackend with 2 concurrent workers.\n",
            "[Parallel(n_jobs=-1)]: Done  46 tasks      | elapsed:   10.0s\n",
            "[Parallel(n_jobs=-1)]: Done 196 tasks      | elapsed:   27.7s\n",
            "[Parallel(n_jobs=-1)]: Done 446 tasks      | elapsed:   55.1s\n",
            "[Parallel(n_jobs=-1)]: Done 600 out of 600 | elapsed:  1.2min finished\n"
          ],
          "name": "stderr"
        },
        {
          "output_type": "stream",
          "text": [
            "Best Params:  {'max_depth': 7, 'min_samples_leaf': 3, 'min_samples_split': 5}\n",
            "Mean Absolute Error_test: 0.8678949973824482\n",
            "Mean Absolute Error_train: 0.907123093292841\n",
            "Mean Squared Error_test: 2.2450788961027643\n",
            "Mean Squared Error_train: 1.7724621880508957\n",
            "Root Mean Squared Error_test: 1.4983587341163545\n",
            "RMSE_train: 1.331338494918139\n",
            "r2_train: 0.6157673536992447\n",
            "r2_teste: 0.5111223644188957\n",
            "['Escherichia_coli_EF-Tu_mutants_conferring_resistance_to_Pulvomycin', 'OXA-23', 'OXA-65']\n",
            "Fitting 10 folds for each of 60 candidates, totalling 600 fits\n"
          ],
          "name": "stdout"
        },
        {
          "output_type": "stream",
          "text": [
            "[Parallel(n_jobs=-1)]: Using backend LokyBackend with 2 concurrent workers.\n",
            "[Parallel(n_jobs=-1)]: Done  46 tasks      | elapsed:    5.1s\n",
            "[Parallel(n_jobs=-1)]: Done 196 tasks      | elapsed:   21.7s\n",
            "[Parallel(n_jobs=-1)]: Done 446 tasks      | elapsed:   49.4s\n",
            "[Parallel(n_jobs=-1)]: Done 600 out of 600 | elapsed:  1.1min finished\n"
          ],
          "name": "stderr"
        },
        {
          "output_type": "stream",
          "text": [
            "Best Params:  {'max_depth': 5, 'min_samples_leaf': 3, 'min_samples_split': 2}\n",
            "Mean Absolute Error_test: 0.8715676467447292\n",
            "Mean Absolute Error_train: 0.8878507651199735\n",
            "Mean Squared Error_test: 2.164060082499101\n",
            "Mean Squared Error_train: 1.7448151241919296\n",
            "Root Mean Squared Error_test: 1.4710744653140782\n",
            "RMSE_train: 1.3209145029834177\n",
            "r2_train: 0.6217606575793451\n",
            "r2_teste: 0.5287646335172784\n",
            "['Escherichia_coli_EF-Tu_mutants_conferring_resistance_to_Pulvomycin', 'OXA-23', 'OXA-65', 'mphE']\n",
            "Fitting 10 folds for each of 60 candidates, totalling 600 fits\n"
          ],
          "name": "stdout"
        },
        {
          "output_type": "stream",
          "text": [
            "[Parallel(n_jobs=-1)]: Using backend LokyBackend with 2 concurrent workers.\n",
            "[Parallel(n_jobs=-1)]: Done  46 tasks      | elapsed:    5.3s\n",
            "[Parallel(n_jobs=-1)]: Done 196 tasks      | elapsed:   22.1s\n",
            "[Parallel(n_jobs=-1)]: Done 446 tasks      | elapsed:   50.1s\n",
            "[Parallel(n_jobs=-1)]: Done 600 out of 600 | elapsed:  1.1min finished\n"
          ],
          "name": "stderr"
        },
        {
          "output_type": "stream",
          "text": [
            "Best Params:  {'max_depth': 5, 'min_samples_leaf': 3, 'min_samples_split': 6}\n",
            "Mean Absolute Error_test: 0.8288884846439947\n",
            "Mean Absolute Error_train: 0.7539414062687689\n",
            "Mean Squared Error_test: 2.147081615093009\n",
            "Mean Squared Error_train: 1.4617210092077542\n",
            "Root Mean Squared Error_test: 1.4652923309336636\n",
            "RMSE_train: 1.2090165462919662\n",
            "r2_train: 0.6831295272149531\n",
            "r2_teste: 0.5324617833215414\n",
            "['Escherichia_coli_EF-Tu_mutants_conferring_resistance_to_Pulvomycin', 'OXA-23', 'OXA-65', 'mphE', 'Escherichia_coli_EF-Tu_mutants_conferring_resistance_to_Pulvomycin_cp1']\n",
            "Fitting 10 folds for each of 60 candidates, totalling 600 fits\n"
          ],
          "name": "stdout"
        },
        {
          "output_type": "stream",
          "text": [
            "[Parallel(n_jobs=-1)]: Using backend LokyBackend with 2 concurrent workers.\n",
            "[Parallel(n_jobs=-1)]: Done  46 tasks      | elapsed:    5.3s\n",
            "[Parallel(n_jobs=-1)]: Done 196 tasks      | elapsed:   22.2s\n",
            "[Parallel(n_jobs=-1)]: Done 446 tasks      | elapsed:   51.5s\n",
            "[Parallel(n_jobs=-1)]: Done 600 out of 600 | elapsed:  1.1min finished\n"
          ],
          "name": "stderr"
        },
        {
          "output_type": "stream",
          "text": [
            "Best Params:  {'max_depth': 7, 'min_samples_leaf': 3, 'min_samples_split': 2}\n",
            "Mean Absolute Error_test: 0.7388842863924754\n",
            "Mean Absolute Error_train: 0.6411063164791037\n",
            "Mean Squared Error_test: 2.199309692603172\n",
            "Mean Squared Error_train: 1.337161348152695\n",
            "Root Mean Squared Error_test: 1.4830069765861427\n",
            "RMSE_train: 1.1563569293919136\n",
            "r2_train: 0.7101314505914625\n",
            "r2_teste: 0.5210888471238699\n",
            "['Escherichia_coli_EF-Tu_mutants_conferring_resistance_to_Pulvomycin', 'OXA-23', 'OXA-65', 'mphE', 'Escherichia_coli_EF-Tu_mutants_conferring_resistance_to_Pulvomycin_cp1', \"APH(3')-VI\"]\n",
            "Fitting 10 folds for each of 60 candidates, totalling 600 fits\n"
          ],
          "name": "stdout"
        },
        {
          "output_type": "stream",
          "text": [
            "[Parallel(n_jobs=-1)]: Using backend LokyBackend with 2 concurrent workers.\n",
            "[Parallel(n_jobs=-1)]: Done  46 tasks      | elapsed:    5.4s\n",
            "[Parallel(n_jobs=-1)]: Done 196 tasks      | elapsed:   22.6s\n",
            "[Parallel(n_jobs=-1)]: Done 446 tasks      | elapsed:   51.2s\n",
            "[Parallel(n_jobs=-1)]: Done 600 out of 600 | elapsed:  1.2min finished\n"
          ],
          "name": "stderr"
        },
        {
          "output_type": "stream",
          "text": [
            "Best Params:  {'max_depth': 7, 'min_samples_leaf': 3, 'min_samples_split': 5}\n",
            "Mean Absolute Error_test: 0.7336490113255396\n",
            "Mean Absolute Error_train: 0.6395762497159387\n",
            "Mean Squared Error_test: 2.202859679081891\n",
            "Mean Squared Error_train: 1.3325383015544416\n",
            "Root Mean Squared Error_test: 1.484203381980344\n",
            "RMSE_train: 1.1543562281871405\n",
            "r2_train: 0.7111336301811846\n",
            "r2_teste: 0.5203158190583201\n",
            "['Escherichia_coli_EF-Tu_mutants_conferring_resistance_to_Pulvomycin', 'OXA-23', 'OXA-65', 'mphE', 'Escherichia_coli_EF-Tu_mutants_conferring_resistance_to_Pulvomycin_cp1', \"APH(3')-VI\", \"AAC(6')-Ian\"]\n",
            "Fitting 10 folds for each of 60 candidates, totalling 600 fits\n"
          ],
          "name": "stdout"
        },
        {
          "output_type": "stream",
          "text": [
            "[Parallel(n_jobs=-1)]: Using backend LokyBackend with 2 concurrent workers.\n",
            "[Parallel(n_jobs=-1)]: Done  46 tasks      | elapsed:    5.5s\n",
            "[Parallel(n_jobs=-1)]: Done 196 tasks      | elapsed:   22.7s\n",
            "[Parallel(n_jobs=-1)]: Done 446 tasks      | elapsed:   51.2s\n",
            "[Parallel(n_jobs=-1)]: Done 600 out of 600 | elapsed:  1.1min finished\n"
          ],
          "name": "stderr"
        },
        {
          "output_type": "stream",
          "text": [
            "Best Params:  {'max_depth': 7, 'min_samples_leaf': 3, 'min_samples_split': 2}\n",
            "Mean Absolute Error_test: 0.7327653080568887\n",
            "Mean Absolute Error_train: 0.5885719353544987\n",
            "Mean Squared Error_test: 2.264772575535184\n",
            "Mean Squared Error_train: 1.1513258575615886\n",
            "Root Mean Squared Error_test: 1.5049161357149388\n",
            "RMSE_train: 1.0729985356754168\n",
            "r2_train: 0.7504166892881142\n",
            "r2_teste: 0.5068339630386474\n",
            "['Escherichia_coli_EF-Tu_mutants_conferring_resistance_to_Pulvomycin', 'OXA-23', 'OXA-65', 'mphE', 'Escherichia_coli_EF-Tu_mutants_conferring_resistance_to_Pulvomycin_cp1', \"APH(3')-VI\", \"AAC(6')-Ian\", 'adeS']\n",
            "Fitting 10 folds for each of 60 candidates, totalling 600 fits\n"
          ],
          "name": "stdout"
        },
        {
          "output_type": "stream",
          "text": [
            "[Parallel(n_jobs=-1)]: Using backend LokyBackend with 2 concurrent workers.\n",
            "[Parallel(n_jobs=-1)]: Done  46 tasks      | elapsed:    5.4s\n",
            "[Parallel(n_jobs=-1)]: Done 196 tasks      | elapsed:   22.9s\n",
            "[Parallel(n_jobs=-1)]: Done 446 tasks      | elapsed:   51.7s\n",
            "[Parallel(n_jobs=-1)]: Done 600 out of 600 | elapsed:  1.2min finished\n"
          ],
          "name": "stderr"
        },
        {
          "output_type": "stream",
          "text": [
            "Best Params:  {'max_depth': 8, 'min_samples_leaf': 3, 'min_samples_split': 6}\n",
            "Mean Absolute Error_test: 0.7654177685208472\n",
            "Mean Absolute Error_train: 0.5933811151737443\n",
            "Mean Squared Error_test: 2.2771428280333414\n",
            "Mean Squared Error_train: 1.1274145108875104\n",
            "Root Mean Squared Error_test: 1.5090204862868302\n",
            "RMSE_train: 1.0617977730658086\n",
            "r2_train: 0.7556001679942519\n",
            "r2_teste: 0.5041402760580525\n",
            "['Escherichia_coli_EF-Tu_mutants_conferring_resistance_to_Pulvomycin', 'OXA-23', 'OXA-65', 'mphE', 'Escherichia_coli_EF-Tu_mutants_conferring_resistance_to_Pulvomycin_cp1', \"APH(3')-VI\", \"AAC(6')-Ian\", 'adeS', 'Escherichia_coli_gyrA_conferring_resistance_to_fluoroquinolones']\n",
            "Fitting 10 folds for each of 60 candidates, totalling 600 fits\n"
          ],
          "name": "stdout"
        },
        {
          "output_type": "stream",
          "text": [
            "[Parallel(n_jobs=-1)]: Using backend LokyBackend with 2 concurrent workers.\n",
            "[Parallel(n_jobs=-1)]: Done  46 tasks      | elapsed:    5.6s\n",
            "[Parallel(n_jobs=-1)]: Done 196 tasks      | elapsed:   22.9s\n",
            "[Parallel(n_jobs=-1)]: Done 446 tasks      | elapsed:   52.2s\n",
            "[Parallel(n_jobs=-1)]: Done 600 out of 600 | elapsed:  1.2min finished\n"
          ],
          "name": "stderr"
        },
        {
          "output_type": "stream",
          "text": [
            "Best Params:  {'max_depth': 10, 'min_samples_leaf': 3, 'min_samples_split': 6}\n",
            "Mean Absolute Error_test: 0.7441080784211231\n",
            "Mean Absolute Error_train: 0.5940907808804414\n",
            "Mean Squared Error_test: 2.194180507540354\n",
            "Mean Squared Error_train: 1.0930809865917912\n",
            "Root Mean Squared Error_test: 1.4812766478751882\n",
            "RMSE_train: 1.045505134655871\n",
            "r2_train: 0.763042956328982\n",
            "r2_teste: 0.5222057539151286\n",
            "['Escherichia_coli_EF-Tu_mutants_conferring_resistance_to_Pulvomycin', 'OXA-23', 'OXA-65', 'mphE', 'Escherichia_coli_EF-Tu_mutants_conferring_resistance_to_Pulvomycin_cp1', \"APH(3')-VI\", \"AAC(6')-Ian\", 'adeS', 'Escherichia_coli_gyrA_conferring_resistance_to_fluoroquinolones', 'OXA-72']\n",
            "Fitting 10 folds for each of 60 candidates, totalling 600 fits\n"
          ],
          "name": "stdout"
        },
        {
          "output_type": "stream",
          "text": [
            "[Parallel(n_jobs=-1)]: Using backend LokyBackend with 2 concurrent workers.\n",
            "[Parallel(n_jobs=-1)]: Done  46 tasks      | elapsed:    5.4s\n",
            "[Parallel(n_jobs=-1)]: Done 196 tasks      | elapsed:   23.1s\n",
            "[Parallel(n_jobs=-1)]: Done 446 tasks      | elapsed:   52.9s\n",
            "[Parallel(n_jobs=-1)]: Done 600 out of 600 | elapsed:  1.2min finished\n"
          ],
          "name": "stderr"
        },
        {
          "output_type": "stream",
          "text": [
            "Best Params:  {'max_depth': 8, 'min_samples_leaf': 3, 'min_samples_split': 2}\n",
            "Mean Absolute Error_test: 0.751928796941046\n",
            "Mean Absolute Error_train: 0.5623138742791438\n",
            "Mean Squared Error_test: 2.2647380928590315\n",
            "Mean Squared Error_train: 1.0139654457927907\n",
            "Root Mean Squared Error_test: 1.5049046789943314\n",
            "RMSE_train: 1.0069585124486464\n",
            "r2_train: 0.7801935470776307\n",
            "r2_teste: 0.506841471821174\n",
            "['Escherichia_coli_EF-Tu_mutants_conferring_resistance_to_Pulvomycin', 'OXA-23', 'OXA-65', 'mphE', 'Escherichia_coli_EF-Tu_mutants_conferring_resistance_to_Pulvomycin_cp1', \"APH(3')-VI\", \"AAC(6')-Ian\", 'adeS', 'Escherichia_coli_gyrA_conferring_resistance_to_fluoroquinolones', 'OXA-72', 'msrE']\n",
            "Fitting 10 folds for each of 60 candidates, totalling 600 fits\n"
          ],
          "name": "stdout"
        },
        {
          "output_type": "stream",
          "text": [
            "[Parallel(n_jobs=-1)]: Using backend LokyBackend with 2 concurrent workers.\n",
            "[Parallel(n_jobs=-1)]: Done  46 tasks      | elapsed:    5.3s\n",
            "[Parallel(n_jobs=-1)]: Done 196 tasks      | elapsed:   23.1s\n",
            "[Parallel(n_jobs=-1)]: Done 446 tasks      | elapsed:   52.9s\n",
            "[Parallel(n_jobs=-1)]: Done 600 out of 600 | elapsed:  1.2min finished\n"
          ],
          "name": "stderr"
        },
        {
          "output_type": "stream",
          "text": [
            "Best Params:  {'max_depth': 8, 'min_samples_leaf': 3, 'min_samples_split': 3}\n",
            "Mean Absolute Error_test: 0.7403229552859636\n",
            "Mean Absolute Error_train: 0.5604222855609977\n",
            "Mean Squared Error_test: 2.240693103590114\n",
            "Mean Squared Error_train: 0.9974498736736935\n",
            "Root Mean Squared Error_test: 1.496894486458586\n",
            "RMSE_train: 0.9987241229056668\n",
            "r2_train: 0.7837737768976359\n",
            "r2_teste: 0.5120773936062688\n",
            "['Escherichia_coli_EF-Tu_mutants_conferring_resistance_to_Pulvomycin', 'OXA-23', 'OXA-65', 'mphE', 'Escherichia_coli_EF-Tu_mutants_conferring_resistance_to_Pulvomycin_cp1', \"APH(3')-VI\", \"AAC(6')-Ian\", 'adeS', 'Escherichia_coli_gyrA_conferring_resistance_to_fluoroquinolones', 'OXA-72', 'msrE', 'OXA-259']\n",
            "Fitting 10 folds for each of 60 candidates, totalling 600 fits\n"
          ],
          "name": "stdout"
        },
        {
          "output_type": "stream",
          "text": [
            "[Parallel(n_jobs=-1)]: Using backend LokyBackend with 2 concurrent workers.\n",
            "[Parallel(n_jobs=-1)]: Done  46 tasks      | elapsed:    5.6s\n",
            "[Parallel(n_jobs=-1)]: Done 196 tasks      | elapsed:   23.9s\n",
            "[Parallel(n_jobs=-1)]: Done 446 tasks      | elapsed:   53.5s\n",
            "[Parallel(n_jobs=-1)]: Done 600 out of 600 | elapsed:  1.2min finished\n"
          ],
          "name": "stderr"
        },
        {
          "output_type": "stream",
          "text": [
            "Best Params:  {'max_depth': 7, 'min_samples_leaf': 3, 'min_samples_split': 6}\n",
            "Mean Absolute Error_test: 0.7334840414075688\n",
            "Mean Absolute Error_train: 0.5611649785143736\n",
            "Mean Squared Error_test: 2.14882065337368\n",
            "Mean Squared Error_train: 0.9686984072233993\n",
            "Root Mean Squared Error_test: 1.4658856208359776\n",
            "RMSE_train: 0.9842247747457891\n",
            "r2_train: 0.7900064921079797\n",
            "r2_teste: 0.5320830986684919\n",
            "['Escherichia_coli_EF-Tu_mutants_conferring_resistance_to_Pulvomycin', 'OXA-23', 'OXA-65', 'mphE', 'Escherichia_coli_EF-Tu_mutants_conferring_resistance_to_Pulvomycin_cp1', \"APH(3')-VI\", \"AAC(6')-Ian\", 'adeS', 'Escherichia_coli_gyrA_conferring_resistance_to_fluoroquinolones', 'OXA-72', 'msrE', 'OXA-259', 'abeS']\n",
            "Fitting 10 folds for each of 60 candidates, totalling 600 fits\n"
          ],
          "name": "stdout"
        },
        {
          "output_type": "stream",
          "text": [
            "[Parallel(n_jobs=-1)]: Using backend LokyBackend with 2 concurrent workers.\n",
            "[Parallel(n_jobs=-1)]: Done  46 tasks      | elapsed:    5.4s\n",
            "[Parallel(n_jobs=-1)]: Done 196 tasks      | elapsed:   22.8s\n",
            "[Parallel(n_jobs=-1)]: Done 446 tasks      | elapsed:   53.0s\n",
            "[Parallel(n_jobs=-1)]: Done 600 out of 600 | elapsed:  1.2min finished\n"
          ],
          "name": "stderr"
        },
        {
          "output_type": "stream",
          "text": [
            "Best Params:  {'max_depth': 8, 'min_samples_leaf': 3, 'min_samples_split': 5}\n",
            "Mean Absolute Error_test: 0.7213676652322532\n",
            "Mean Absolute Error_train: 0.5692291555691071\n",
            "Mean Squared Error_test: 2.089325819229852\n",
            "Mean Squared Error_train: 0.9770138381561743\n",
            "Root Mean Squared Error_test: 1.4454500403783772\n",
            "RMSE_train: 0.988440103474244\n",
            "r2_train: 0.7882038809978692\n",
            "r2_teste: 0.5450384090123798\n",
            "['Escherichia_coli_EF-Tu_mutants_conferring_resistance_to_Pulvomycin', 'OXA-23', 'OXA-65', 'mphE', 'Escherichia_coli_EF-Tu_mutants_conferring_resistance_to_Pulvomycin_cp1', \"APH(3')-VI\", \"AAC(6')-Ian\", 'adeS', 'Escherichia_coli_gyrA_conferring_resistance_to_fluoroquinolones', 'OXA-72', 'msrE', 'OXA-259', 'abeS', 'cmlB1']\n",
            "Fitting 10 folds for each of 60 candidates, totalling 600 fits\n"
          ],
          "name": "stdout"
        },
        {
          "output_type": "stream",
          "text": [
            "[Parallel(n_jobs=-1)]: Using backend LokyBackend with 2 concurrent workers.\n",
            "[Parallel(n_jobs=-1)]: Done  46 tasks      | elapsed:    5.5s\n",
            "[Parallel(n_jobs=-1)]: Done 196 tasks      | elapsed:   23.1s\n",
            "[Parallel(n_jobs=-1)]: Done 446 tasks      | elapsed:   52.7s\n",
            "[Parallel(n_jobs=-1)]: Done 600 out of 600 | elapsed:  1.2min finished\n"
          ],
          "name": "stderr"
        },
        {
          "output_type": "stream",
          "text": [
            "Best Params:  {'max_depth': 7, 'min_samples_leaf': 2, 'min_samples_split': 5}\n",
            "Mean Absolute Error_test: 0.7081749492763936\n",
            "Mean Absolute Error_train: 0.5181026731857323\n",
            "Mean Squared Error_test: 1.9953284628343144\n",
            "Mean Squared Error_train: 0.7863844257512365\n",
            "Root Mean Squared Error_test: 1.4125609589799353\n",
            "RMSE_train: 0.8867831898222003\n",
            "r2_train: 0.8295283414489285\n",
            "r2_teste: 0.5655068234744707\n",
            "['Escherichia_coli_EF-Tu_mutants_conferring_resistance_to_Pulvomycin', 'OXA-23', 'OXA-65', 'mphE', 'Escherichia_coli_EF-Tu_mutants_conferring_resistance_to_Pulvomycin_cp1', \"APH(3')-VI\", \"AAC(6')-Ian\", 'adeS', 'Escherichia_coli_gyrA_conferring_resistance_to_fluoroquinolones', 'OXA-72', 'msrE', 'OXA-259', 'abeS', 'cmlB1', 'ADC-2']\n",
            "Fitting 10 folds for each of 60 candidates, totalling 600 fits\n"
          ],
          "name": "stdout"
        },
        {
          "output_type": "stream",
          "text": [
            "[Parallel(n_jobs=-1)]: Using backend LokyBackend with 2 concurrent workers.\n",
            "[Parallel(n_jobs=-1)]: Done  46 tasks      | elapsed:    5.5s\n",
            "[Parallel(n_jobs=-1)]: Done 196 tasks      | elapsed:   23.2s\n",
            "[Parallel(n_jobs=-1)]: Done 446 tasks      | elapsed:   52.8s\n",
            "[Parallel(n_jobs=-1)]: Done 600 out of 600 | elapsed:  1.2min finished\n"
          ],
          "name": "stderr"
        },
        {
          "output_type": "stream",
          "text": [
            "Best Params:  {'max_depth': 7, 'min_samples_leaf': 2, 'min_samples_split': 3}\n",
            "Mean Absolute Error_test: 0.6983025913811465\n",
            "Mean Absolute Error_train: 0.5082977120235564\n",
            "Mean Squared Error_test: 1.942061427597848\n",
            "Mean Squared Error_train: 0.783159625369168\n",
            "Root Mean Squared Error_test: 1.3935786406219952\n",
            "RMSE_train: 0.8849630644095651\n",
            "r2_train: 0.8302274105703727\n",
            "r2_teste: 0.5771059981342226\n",
            "['Escherichia_coli_EF-Tu_mutants_conferring_resistance_to_Pulvomycin', 'OXA-23', 'OXA-65', 'mphE', 'Escherichia_coli_EF-Tu_mutants_conferring_resistance_to_Pulvomycin_cp1', \"APH(3')-VI\", \"AAC(6')-Ian\", 'adeS', 'Escherichia_coli_gyrA_conferring_resistance_to_fluoroquinolones', 'OXA-72', 'msrE', 'OXA-259', 'abeS', 'cmlB1', 'ADC-2', 'ADC-5']\n",
            "Fitting 10 folds for each of 60 candidates, totalling 600 fits\n"
          ],
          "name": "stdout"
        },
        {
          "output_type": "stream",
          "text": [
            "[Parallel(n_jobs=-1)]: Using backend LokyBackend with 2 concurrent workers.\n",
            "[Parallel(n_jobs=-1)]: Done  46 tasks      | elapsed:    5.6s\n",
            "[Parallel(n_jobs=-1)]: Done 196 tasks      | elapsed:   23.7s\n",
            "[Parallel(n_jobs=-1)]: Done 446 tasks      | elapsed:   53.7s\n",
            "[Parallel(n_jobs=-1)]: Done 600 out of 600 | elapsed:  1.2min finished\n"
          ],
          "name": "stderr"
        },
        {
          "output_type": "stream",
          "text": [
            "Best Params:  {'max_depth': 5, 'min_samples_leaf': 2, 'min_samples_split': 6}\n",
            "Mean Absolute Error_test: 0.6706424531823555\n",
            "Mean Absolute Error_train: 0.5294016056681184\n",
            "Mean Squared Error_test: 1.8929743082836419\n",
            "Mean Squared Error_train: 0.8205656296286149\n",
            "Root Mean Squared Error_test: 1.375854028697682\n",
            "RMSE_train: 0.9058507766893038\n",
            "r2_train: 0.8221185729878066\n",
            "r2_teste: 0.5877949743076096\n",
            "['Escherichia_coli_EF-Tu_mutants_conferring_resistance_to_Pulvomycin', 'OXA-23', 'OXA-65', 'mphE', 'Escherichia_coli_EF-Tu_mutants_conferring_resistance_to_Pulvomycin_cp1', \"APH(3')-VI\", \"AAC(6')-Ian\", 'adeS', 'Escherichia_coli_gyrA_conferring_resistance_to_fluoroquinolones', 'OXA-72', 'msrE', 'OXA-259', 'abeS', 'cmlB1', 'ADC-2', 'ADC-5', 'Salmonella_serovars_gyrB_conferring_resistance_to_fluoroquinolone']\n",
            "Fitting 10 folds for each of 60 candidates, totalling 600 fits\n"
          ],
          "name": "stdout"
        },
        {
          "output_type": "stream",
          "text": [
            "[Parallel(n_jobs=-1)]: Using backend LokyBackend with 2 concurrent workers.\n",
            "[Parallel(n_jobs=-1)]: Done  46 tasks      | elapsed:    5.8s\n",
            "[Parallel(n_jobs=-1)]: Done 196 tasks      | elapsed:   24.7s\n",
            "[Parallel(n_jobs=-1)]: Done 446 tasks      | elapsed:   54.9s\n",
            "[Parallel(n_jobs=-1)]: Done 600 out of 600 | elapsed:  1.2min finished\n"
          ],
          "name": "stderr"
        },
        {
          "output_type": "stream",
          "text": [
            "Best Params:  {'max_depth': 10, 'min_samples_leaf': 2, 'min_samples_split': 6}\n",
            "Mean Absolute Error_test: 0.6333994059165593\n",
            "Mean Absolute Error_train: 0.4528071253464878\n",
            "Mean Squared Error_test: 1.7796273013772457\n",
            "Mean Squared Error_train: 0.720091759944775\n",
            "Root Mean Squared Error_test: 1.3340267243864516\n",
            "RMSE_train: 0.8485822057672285\n",
            "r2_train: 0.8438992017047169\n",
            "r2_teste: 0.6124768760584949\n",
            "['Escherichia_coli_EF-Tu_mutants_conferring_resistance_to_Pulvomycin', 'OXA-23', 'OXA-65', 'mphE', 'Escherichia_coli_EF-Tu_mutants_conferring_resistance_to_Pulvomycin_cp1', \"APH(3')-VI\", \"AAC(6')-Ian\", 'adeS', 'Escherichia_coli_gyrA_conferring_resistance_to_fluoroquinolones', 'OXA-72', 'msrE', 'OXA-259', 'abeS', 'cmlB1', 'ADC-2', 'ADC-5', 'Salmonella_serovars_gyrB_conferring_resistance_to_fluoroquinolone', 'OXA-64']\n",
            "Fitting 10 folds for each of 60 candidates, totalling 600 fits\n"
          ],
          "name": "stdout"
        },
        {
          "output_type": "stream",
          "text": [
            "[Parallel(n_jobs=-1)]: Using backend LokyBackend with 2 concurrent workers.\n",
            "[Parallel(n_jobs=-1)]: Done  46 tasks      | elapsed:    5.6s\n",
            "[Parallel(n_jobs=-1)]: Done 196 tasks      | elapsed:   23.5s\n",
            "[Parallel(n_jobs=-1)]: Done 446 tasks      | elapsed:   55.0s\n",
            "[Parallel(n_jobs=-1)]: Done 600 out of 600 | elapsed:  1.2min finished\n"
          ],
          "name": "stderr"
        },
        {
          "output_type": "stream",
          "text": [
            "Best Params:  {'max_depth': 7, 'min_samples_leaf': 3, 'min_samples_split': 3}\n",
            "Mean Absolute Error_test: 0.6749910277641733\n",
            "Mean Absolute Error_train: 0.48756489054260893\n",
            "Mean Squared Error_test: 2.0208285670464483\n",
            "Mean Squared Error_train: 0.8458147464881772\n",
            "Root Mean Squared Error_test: 1.4215584993402306\n",
            "RMSE_train: 0.9196818724364296\n",
            "r2_train: 0.81664509374909\n",
            "r2_teste: 0.5599540428234475\n",
            "['Escherichia_coli_EF-Tu_mutants_conferring_resistance_to_Pulvomycin', 'OXA-23', 'OXA-65', 'mphE', 'Escherichia_coli_EF-Tu_mutants_conferring_resistance_to_Pulvomycin_cp1', \"APH(3')-VI\", \"AAC(6')-Ian\", 'adeS', 'Escherichia_coli_gyrA_conferring_resistance_to_fluoroquinolones', 'OXA-72', 'msrE', 'OXA-259', 'abeS', 'cmlB1', 'ADC-2', 'ADC-5', 'Salmonella_serovars_gyrB_conferring_resistance_to_fluoroquinolone', 'OXA-64', 'adeL']\n",
            "Fitting 10 folds for each of 60 candidates, totalling 600 fits\n"
          ],
          "name": "stdout"
        },
        {
          "output_type": "stream",
          "text": [
            "[Parallel(n_jobs=-1)]: Using backend LokyBackend with 2 concurrent workers.\n",
            "[Parallel(n_jobs=-1)]: Done  46 tasks      | elapsed:    5.6s\n",
            "[Parallel(n_jobs=-1)]: Done 196 tasks      | elapsed:   23.6s\n",
            "[Parallel(n_jobs=-1)]: Done 446 tasks      | elapsed:   54.3s\n",
            "[Parallel(n_jobs=-1)]: Done 600 out of 600 | elapsed:  1.2min finished\n"
          ],
          "name": "stderr"
        },
        {
          "output_type": "stream",
          "text": [
            "Best Params:  {'max_depth': 10, 'min_samples_leaf': 3, 'min_samples_split': 5}\n",
            "Mean Absolute Error_test: 0.6705094305712073\n",
            "Mean Absolute Error_train: 0.4821316990828873\n",
            "Mean Squared Error_test: 1.994073455030429\n",
            "Mean Squared Error_train: 0.8479072399375359\n",
            "Root Mean Squared Error_test: 1.412116657727126\n",
            "RMSE_train: 0.9208187877848366\n",
            "r2_train: 0.816191485034143\n",
            "r2_teste: 0.5657801079674407\n",
            "['Escherichia_coli_EF-Tu_mutants_conferring_resistance_to_Pulvomycin', 'OXA-23', 'OXA-65', 'mphE', 'Escherichia_coli_EF-Tu_mutants_conferring_resistance_to_Pulvomycin_cp1', \"APH(3')-VI\", \"AAC(6')-Ian\", 'adeS', 'Escherichia_coli_gyrA_conferring_resistance_to_fluoroquinolones', 'OXA-72', 'msrE', 'OXA-259', 'abeS', 'cmlB1', 'ADC-2', 'ADC-5', 'Salmonella_serovars_gyrB_conferring_resistance_to_fluoroquinolone', 'OXA-64', 'adeL', 'Clostridioides_difficile_gyrB_conferring_resistance_to_fluoroquinolone']\n",
            "Fitting 10 folds for each of 60 candidates, totalling 600 fits\n"
          ],
          "name": "stdout"
        },
        {
          "output_type": "stream",
          "text": [
            "[Parallel(n_jobs=-1)]: Using backend LokyBackend with 2 concurrent workers.\n",
            "[Parallel(n_jobs=-1)]: Done  46 tasks      | elapsed:    5.6s\n",
            "[Parallel(n_jobs=-1)]: Done 196 tasks      | elapsed:   23.9s\n",
            "[Parallel(n_jobs=-1)]: Done 446 tasks      | elapsed:   54.6s\n",
            "[Parallel(n_jobs=-1)]: Done 600 out of 600 | elapsed:  1.2min finished\n"
          ],
          "name": "stderr"
        },
        {
          "output_type": "stream",
          "text": [
            "Best Params:  {'max_depth': 5, 'min_samples_leaf': 2, 'min_samples_split': 6}\n",
            "Mean Absolute Error_test: 0.6385272553011164\n",
            "Mean Absolute Error_train: 0.5085414730648198\n",
            "Mean Squared Error_test: 1.8536300200780216\n",
            "Mean Squared Error_train: 0.792979065916254\n",
            "Root Mean Squared Error_test: 1.3614808188432261\n",
            "RMSE_train: 0.8904937203126443\n",
            "r2_train: 0.8280987617043856\n",
            "r2_teste: 0.5963623982074888\n",
            "['Escherichia_coli_EF-Tu_mutants_conferring_resistance_to_Pulvomycin', 'OXA-23', 'OXA-65', 'mphE', 'Escherichia_coli_EF-Tu_mutants_conferring_resistance_to_Pulvomycin_cp1', \"APH(3')-VI\", \"AAC(6')-Ian\", 'adeS', 'Escherichia_coli_gyrA_conferring_resistance_to_fluoroquinolones', 'OXA-72', 'msrE', 'OXA-259', 'abeS', 'cmlB1', 'ADC-2', 'ADC-5', 'Salmonella_serovars_gyrB_conferring_resistance_to_fluoroquinolone', 'OXA-64', 'adeL', 'Clostridioides_difficile_gyrB_conferring_resistance_to_fluoroquinolone', 'sul2']\n",
            "Fitting 10 folds for each of 60 candidates, totalling 600 fits\n"
          ],
          "name": "stdout"
        },
        {
          "output_type": "stream",
          "text": [
            "[Parallel(n_jobs=-1)]: Using backend LokyBackend with 2 concurrent workers.\n",
            "[Parallel(n_jobs=-1)]: Done  46 tasks      | elapsed:    5.6s\n",
            "[Parallel(n_jobs=-1)]: Done 196 tasks      | elapsed:   23.9s\n",
            "[Parallel(n_jobs=-1)]: Done 446 tasks      | elapsed:   55.6s\n",
            "[Parallel(n_jobs=-1)]: Done 600 out of 600 | elapsed:  1.2min finished\n"
          ],
          "name": "stderr"
        },
        {
          "output_type": "stream",
          "text": [
            "Best Params:  {'max_depth': 8, 'min_samples_leaf': 2, 'min_samples_split': 6}\n",
            "Mean Absolute Error_test: 0.6501864393075149\n",
            "Mean Absolute Error_train: 0.4571375750209615\n",
            "Mean Squared Error_test: 1.8644697875123093\n",
            "Mean Squared Error_train: 0.7032931184019028\n",
            "Root Mean Squared Error_test: 1.3654558899914377\n",
            "RMSE_train: 0.838625732017509\n",
            "r2_train: 0.8475407950418212\n",
            "r2_teste: 0.5940019823295779\n",
            "['Escherichia_coli_EF-Tu_mutants_conferring_resistance_to_Pulvomycin', 'OXA-23', 'OXA-65', 'mphE', 'Escherichia_coli_EF-Tu_mutants_conferring_resistance_to_Pulvomycin_cp1', \"APH(3')-VI\", \"AAC(6')-Ian\", 'adeS', 'Escherichia_coli_gyrA_conferring_resistance_to_fluoroquinolones', 'OXA-72', 'msrE', 'OXA-259', 'abeS', 'cmlB1', 'ADC-2', 'ADC-5', 'Salmonella_serovars_gyrB_conferring_resistance_to_fluoroquinolone', 'OXA-64', 'adeL', 'Clostridioides_difficile_gyrB_conferring_resistance_to_fluoroquinolone', 'sul2', 'tet(B)']\n",
            "Fitting 10 folds for each of 60 candidates, totalling 600 fits\n"
          ],
          "name": "stdout"
        },
        {
          "output_type": "stream",
          "text": [
            "[Parallel(n_jobs=-1)]: Using backend LokyBackend with 2 concurrent workers.\n",
            "[Parallel(n_jobs=-1)]: Done  46 tasks      | elapsed:    5.7s\n",
            "[Parallel(n_jobs=-1)]: Done 196 tasks      | elapsed:   24.2s\n",
            "[Parallel(n_jobs=-1)]: Done 446 tasks      | elapsed:   55.3s\n",
            "[Parallel(n_jobs=-1)]: Done 600 out of 600 | elapsed:  1.2min finished\n"
          ],
          "name": "stderr"
        },
        {
          "output_type": "stream",
          "text": [
            "Best Params:  {'max_depth': 10, 'min_samples_leaf': 3, 'min_samples_split': 2}\n",
            "Mean Absolute Error_test: 0.6955419630032079\n",
            "Mean Absolute Error_train: 0.4825352616717533\n",
            "Mean Squared Error_test: 2.0803124415890584\n",
            "Mean Squared Error_train: 0.8289261905503403\n",
            "Root Mean Squared Error_test: 1.4423288257498905\n",
            "RMSE_train: 0.910453837682252\n",
            "r2_train: 0.8203061786421502\n",
            "r2_teste: 0.5470011189898687\n",
            "['Escherichia_coli_EF-Tu_mutants_conferring_resistance_to_Pulvomycin', 'OXA-23', 'OXA-65', 'mphE', 'Escherichia_coli_EF-Tu_mutants_conferring_resistance_to_Pulvomycin_cp1', \"APH(3')-VI\", \"AAC(6')-Ian\", 'adeS', 'Escherichia_coli_gyrA_conferring_resistance_to_fluoroquinolones', 'OXA-72', 'msrE', 'OXA-259', 'abeS', 'cmlB1', 'ADC-2', 'ADC-5', 'Salmonella_serovars_gyrB_conferring_resistance_to_fluoroquinolone', 'OXA-64', 'adeL', 'Clostridioides_difficile_gyrB_conferring_resistance_to_fluoroquinolone', 'sul2', 'tet(B)', 'ugd']\n",
            "Fitting 10 folds for each of 60 candidates, totalling 600 fits\n"
          ],
          "name": "stdout"
        },
        {
          "output_type": "stream",
          "text": [
            "[Parallel(n_jobs=-1)]: Using backend LokyBackend with 2 concurrent workers.\n",
            "[Parallel(n_jobs=-1)]: Done  46 tasks      | elapsed:    5.7s\n",
            "[Parallel(n_jobs=-1)]: Done 196 tasks      | elapsed:   25.1s\n",
            "[Parallel(n_jobs=-1)]: Done 446 tasks      | elapsed:   56.9s\n",
            "[Parallel(n_jobs=-1)]: Done 600 out of 600 | elapsed:  1.3min finished\n"
          ],
          "name": "stderr"
        },
        {
          "output_type": "stream",
          "text": [
            "Best Params:  {'max_depth': 8, 'min_samples_leaf': 3, 'min_samples_split': 2}\n",
            "Mean Absolute Error_test: 0.7082371294391485\n",
            "Mean Absolute Error_train: 0.49224168224181525\n",
            "Mean Squared Error_test: 2.1505471767172253\n",
            "Mean Squared Error_train: 0.8419802290392956\n",
            "Root Mean Squared Error_test: 1.466474403703394\n",
            "RMSE_train: 0.9175948065673081\n",
            "r2_train: 0.8174763367491398\n",
            "r2_teste: 0.531707139208255\n",
            "['Escherichia_coli_EF-Tu_mutants_conferring_resistance_to_Pulvomycin', 'OXA-23', 'OXA-65', 'mphE', 'Escherichia_coli_EF-Tu_mutants_conferring_resistance_to_Pulvomycin_cp1', \"APH(3')-VI\", \"AAC(6')-Ian\", 'adeS', 'Escherichia_coli_gyrA_conferring_resistance_to_fluoroquinolones', 'OXA-72', 'msrE', 'OXA-259', 'abeS', 'cmlB1', 'ADC-2', 'ADC-5', 'Salmonella_serovars_gyrB_conferring_resistance_to_fluoroquinolone', 'OXA-64', 'adeL', 'Clostridioides_difficile_gyrB_conferring_resistance_to_fluoroquinolone', 'sul2', 'tet(B)', 'ugd', 'adeC']\n",
            "Fitting 10 folds for each of 60 candidates, totalling 600 fits\n"
          ],
          "name": "stdout"
        },
        {
          "output_type": "stream",
          "text": [
            "[Parallel(n_jobs=-1)]: Using backend LokyBackend with 2 concurrent workers.\n",
            "[Parallel(n_jobs=-1)]: Done  46 tasks      | elapsed:    5.7s\n",
            "[Parallel(n_jobs=-1)]: Done 196 tasks      | elapsed:   25.3s\n",
            "[Parallel(n_jobs=-1)]: Done 446 tasks      | elapsed:   57.0s\n",
            "[Parallel(n_jobs=-1)]: Done 600 out of 600 | elapsed:  1.3min finished\n"
          ],
          "name": "stderr"
        },
        {
          "output_type": "stream",
          "text": [
            "Best Params:  {'max_depth': 10, 'min_samples_leaf': 3, 'min_samples_split': 5}\n",
            "Mean Absolute Error_test: 0.6911921810036552\n",
            "Mean Absolute Error_train: 0.48914861914033775\n",
            "Mean Squared Error_test: 2.1092081351497853\n",
            "Mean Squared Error_train: 0.8275877241086291\n",
            "Root Mean Squared Error_test: 1.452311307932905\n",
            "RMSE_train: 0.9097184861860449\n",
            "r2_train: 0.8205963301084835\n",
            "r2_teste: 0.5407089310534151\n",
            "['Escherichia_coli_EF-Tu_mutants_conferring_resistance_to_Pulvomycin', 'OXA-23', 'OXA-65', 'mphE', 'Escherichia_coli_EF-Tu_mutants_conferring_resistance_to_Pulvomycin_cp1', \"APH(3')-VI\", \"AAC(6')-Ian\", 'adeS', 'Escherichia_coli_gyrA_conferring_resistance_to_fluoroquinolones', 'OXA-72', 'msrE', 'OXA-259', 'abeS', 'cmlB1', 'ADC-2', 'ADC-5', 'Salmonella_serovars_gyrB_conferring_resistance_to_fluoroquinolone', 'OXA-64', 'adeL', 'Clostridioides_difficile_gyrB_conferring_resistance_to_fluoroquinolone', 'sul2', 'tet(B)', 'ugd', 'adeC', 'OXA-146']\n",
            "Fitting 10 folds for each of 60 candidates, totalling 600 fits\n"
          ],
          "name": "stdout"
        },
        {
          "output_type": "stream",
          "text": [
            "[Parallel(n_jobs=-1)]: Using backend LokyBackend with 2 concurrent workers.\n",
            "[Parallel(n_jobs=-1)]: Done  46 tasks      | elapsed:    5.8s\n",
            "[Parallel(n_jobs=-1)]: Done 196 tasks      | elapsed:   24.3s\n",
            "[Parallel(n_jobs=-1)]: Done 446 tasks      | elapsed:   55.9s\n",
            "[Parallel(n_jobs=-1)]: Done 600 out of 600 | elapsed:  1.3min finished\n"
          ],
          "name": "stderr"
        },
        {
          "output_type": "stream",
          "text": [
            "Best Params:  {'max_depth': 5, 'min_samples_leaf': 3, 'min_samples_split': 3}\n",
            "Mean Absolute Error_test: 0.686989023584038\n",
            "Mean Absolute Error_train: 0.5195037890271025\n",
            "Mean Squared Error_test: 2.110965729458299\n",
            "Mean Squared Error_train: 0.8767659943448791\n",
            "Root Mean Squared Error_test: 1.4529162843943553\n",
            "RMSE_train: 0.9363578345615949\n",
            "r2_train: 0.809935512043785\n",
            "r2_teste: 0.540326205728551\n",
            "['Escherichia_coli_EF-Tu_mutants_conferring_resistance_to_Pulvomycin', 'OXA-23', 'OXA-65', 'mphE', 'Escherichia_coli_EF-Tu_mutants_conferring_resistance_to_Pulvomycin_cp1', \"APH(3')-VI\", \"AAC(6')-Ian\", 'adeS', 'Escherichia_coli_gyrA_conferring_resistance_to_fluoroquinolones', 'OXA-72', 'msrE', 'OXA-259', 'abeS', 'cmlB1', 'ADC-2', 'ADC-5', 'Salmonella_serovars_gyrB_conferring_resistance_to_fluoroquinolone', 'OXA-64', 'adeL', 'Clostridioides_difficile_gyrB_conferring_resistance_to_fluoroquinolone', 'sul2', 'tet(B)', 'ugd', 'adeC', 'OXA-146', 'adeN']\n",
            "Fitting 10 folds for each of 60 candidates, totalling 600 fits\n"
          ],
          "name": "stdout"
        },
        {
          "output_type": "stream",
          "text": [
            "[Parallel(n_jobs=-1)]: Using backend LokyBackend with 2 concurrent workers.\n",
            "[Parallel(n_jobs=-1)]: Done  46 tasks      | elapsed:    5.7s\n",
            "[Parallel(n_jobs=-1)]: Done 196 tasks      | elapsed:   24.3s\n",
            "[Parallel(n_jobs=-1)]: Done 446 tasks      | elapsed:   56.0s\n",
            "[Parallel(n_jobs=-1)]: Done 600 out of 600 | elapsed:  1.3min finished\n"
          ],
          "name": "stderr"
        },
        {
          "output_type": "stream",
          "text": [
            "Best Params:  {'max_depth': 7, 'min_samples_leaf': 3, 'min_samples_split': 5}\n",
            "Mean Absolute Error_test: 0.6859761845105545\n",
            "Mean Absolute Error_train: 0.4838202006925957\n",
            "Mean Squared Error_test: 2.1026345286704857\n",
            "Mean Squared Error_train: 0.8165573025565204\n",
            "Root Mean Squared Error_test: 1.4500463884546886\n",
            "RMSE_train: 0.9036356027495377\n",
            "r2_train: 0.8229874942706032\n",
            "r2_teste: 0.5421403681393988\n",
            "['Escherichia_coli_EF-Tu_mutants_conferring_resistance_to_Pulvomycin', 'OXA-23', 'OXA-65', 'mphE', 'Escherichia_coli_EF-Tu_mutants_conferring_resistance_to_Pulvomycin_cp1', \"APH(3')-VI\", \"AAC(6')-Ian\", 'adeS', 'Escherichia_coli_gyrA_conferring_resistance_to_fluoroquinolones', 'OXA-72', 'msrE', 'OXA-259', 'abeS', 'cmlB1', 'ADC-2', 'ADC-5', 'Salmonella_serovars_gyrB_conferring_resistance_to_fluoroquinolone', 'OXA-64', 'adeL', 'Clostridioides_difficile_gyrB_conferring_resistance_to_fluoroquinolone', 'sul2', 'tet(B)', 'ugd', 'adeC', 'OXA-146', 'adeN', 'Acinetobacter_baumannii_AbaF']\n",
            "Fitting 10 folds for each of 60 candidates, totalling 600 fits\n"
          ],
          "name": "stdout"
        },
        {
          "output_type": "stream",
          "text": [
            "[Parallel(n_jobs=-1)]: Using backend LokyBackend with 2 concurrent workers.\n",
            "[Parallel(n_jobs=-1)]: Done  46 tasks      | elapsed:    5.9s\n",
            "[Parallel(n_jobs=-1)]: Done 196 tasks      | elapsed:   25.0s\n",
            "[Parallel(n_jobs=-1)]: Done 446 tasks      | elapsed:   57.2s\n",
            "[Parallel(n_jobs=-1)]: Done 600 out of 600 | elapsed:  1.3min finished\n"
          ],
          "name": "stderr"
        },
        {
          "output_type": "stream",
          "text": [
            "Best Params:  {'max_depth': 5, 'min_samples_leaf': 3, 'min_samples_split': 2}\n",
            "Mean Absolute Error_test: 0.7049999806005074\n",
            "Mean Absolute Error_train: 0.5113666164306581\n",
            "Mean Squared Error_test: 2.245019200529076\n",
            "Mean Squared Error_train: 0.8587212715568505\n",
            "Root Mean Squared Error_test: 1.49833881366301\n",
            "RMSE_train: 0.9266721489053453\n",
            "r2_train: 0.8138472296732777\n",
            "r2_teste: 0.511135363441322\n",
            "['Escherichia_coli_EF-Tu_mutants_conferring_resistance_to_Pulvomycin', 'OXA-23', 'OXA-65', 'mphE', 'Escherichia_coli_EF-Tu_mutants_conferring_resistance_to_Pulvomycin_cp1', \"APH(3')-VI\", \"AAC(6')-Ian\", 'adeS', 'Escherichia_coli_gyrA_conferring_resistance_to_fluoroquinolones', 'OXA-72', 'msrE', 'OXA-259', 'abeS', 'cmlB1', 'ADC-2', 'ADC-5', 'Salmonella_serovars_gyrB_conferring_resistance_to_fluoroquinolone', 'OXA-64', 'adeL', 'Clostridioides_difficile_gyrB_conferring_resistance_to_fluoroquinolone', 'sul2', 'tet(B)', 'ugd', 'adeC', 'OXA-146', 'adeN', 'Acinetobacter_baumannii_AbaF', 'AAC(3)-IIe']\n",
            "Fitting 10 folds for each of 60 candidates, totalling 600 fits\n"
          ],
          "name": "stdout"
        },
        {
          "output_type": "stream",
          "text": [
            "[Parallel(n_jobs=-1)]: Using backend LokyBackend with 2 concurrent workers.\n",
            "[Parallel(n_jobs=-1)]: Done  46 tasks      | elapsed:    5.9s\n",
            "[Parallel(n_jobs=-1)]: Done 196 tasks      | elapsed:   24.6s\n",
            "[Parallel(n_jobs=-1)]: Done 446 tasks      | elapsed:   56.6s\n",
            "[Parallel(n_jobs=-1)]: Done 600 out of 600 | elapsed:  1.3min finished\n"
          ],
          "name": "stderr"
        },
        {
          "output_type": "stream",
          "text": [
            "Best Params:  {'max_depth': 8, 'min_samples_leaf': 3, 'min_samples_split': 3}\n",
            "Mean Absolute Error_test: 0.7014398539855279\n",
            "Mean Absolute Error_train: 0.47504008627552874\n",
            "Mean Squared Error_test: 2.130116322017826\n",
            "Mean Squared Error_train: 0.8073137695268998\n",
            "Root Mean Squared Error_test: 1.4594918026552344\n",
            "RMSE_train: 0.8985064103983342\n",
            "r2_train: 0.824991298459535\n",
            "r2_teste: 0.5361560643465573\n",
            "['Escherichia_coli_EF-Tu_mutants_conferring_resistance_to_Pulvomycin', 'OXA-23', 'OXA-65', 'mphE', 'Escherichia_coli_EF-Tu_mutants_conferring_resistance_to_Pulvomycin_cp1', \"APH(3')-VI\", \"AAC(6')-Ian\", 'adeS', 'Escherichia_coli_gyrA_conferring_resistance_to_fluoroquinolones', 'OXA-72', 'msrE', 'OXA-259', 'abeS', 'cmlB1', 'ADC-2', 'ADC-5', 'Salmonella_serovars_gyrB_conferring_resistance_to_fluoroquinolone', 'OXA-64', 'adeL', 'Clostridioides_difficile_gyrB_conferring_resistance_to_fluoroquinolone', 'sul2', 'tet(B)', 'ugd', 'adeC', 'OXA-146', 'adeN', 'Acinetobacter_baumannii_AbaF', 'AAC(3)-IIe', 'TEM-1']\n",
            "Fitting 10 folds for each of 60 candidates, totalling 600 fits\n"
          ],
          "name": "stdout"
        },
        {
          "output_type": "stream",
          "text": [
            "[Parallel(n_jobs=-1)]: Using backend LokyBackend with 2 concurrent workers.\n",
            "[Parallel(n_jobs=-1)]: Done  46 tasks      | elapsed:    5.8s\n",
            "[Parallel(n_jobs=-1)]: Done 196 tasks      | elapsed:   25.8s\n",
            "[Parallel(n_jobs=-1)]: Done 446 tasks      | elapsed:   58.3s\n",
            "[Parallel(n_jobs=-1)]: Done 600 out of 600 | elapsed:  1.3min finished\n"
          ],
          "name": "stderr"
        },
        {
          "output_type": "stream",
          "text": [
            "Best Params:  {'max_depth': 5, 'min_samples_leaf': 3, 'min_samples_split': 2}\n",
            "Mean Absolute Error_test: 0.7024896566930837\n",
            "Mean Absolute Error_train: 0.5100978566305827\n",
            "Mean Squared Error_test: 2.13541047717637\n",
            "Mean Squared Error_train: 0.8485279779434409\n",
            "Root Mean Squared Error_test: 1.4613043752676476\n",
            "RMSE_train: 0.9211557837539972\n",
            "r2_train: 0.8160569220469739\n",
            "r2_teste: 0.5350032344567921\n",
            "['Escherichia_coli_EF-Tu_mutants_conferring_resistance_to_Pulvomycin', 'OXA-23', 'OXA-65', 'mphE', 'Escherichia_coli_EF-Tu_mutants_conferring_resistance_to_Pulvomycin_cp1', \"APH(3')-VI\", \"AAC(6')-Ian\", 'adeS', 'Escherichia_coli_gyrA_conferring_resistance_to_fluoroquinolones', 'OXA-72', 'msrE', 'OXA-259', 'abeS', 'cmlB1', 'ADC-2', 'ADC-5', 'Salmonella_serovars_gyrB_conferring_resistance_to_fluoroquinolone', 'OXA-64', 'adeL', 'Clostridioides_difficile_gyrB_conferring_resistance_to_fluoroquinolone', 'sul2', 'tet(B)', 'ugd', 'adeC', 'OXA-146', 'adeN', 'Acinetobacter_baumannii_AbaF', 'AAC(3)-IIe', 'TEM-1', 'Mycobacterium_tuberculosis_thyA_with_mutation_conferring_resistance_to_para-aminosalicylic_acid']\n",
            "Fitting 10 folds for each of 60 candidates, totalling 600 fits\n"
          ],
          "name": "stdout"
        },
        {
          "output_type": "stream",
          "text": [
            "[Parallel(n_jobs=-1)]: Using backend LokyBackend with 2 concurrent workers.\n",
            "[Parallel(n_jobs=-1)]: Done  46 tasks      | elapsed:    5.8s\n",
            "[Parallel(n_jobs=-1)]: Done 196 tasks      | elapsed:   24.7s\n",
            "[Parallel(n_jobs=-1)]: Done 446 tasks      | elapsed:   56.9s\n",
            "[Parallel(n_jobs=-1)]: Done 600 out of 600 | elapsed:  1.3min finished\n"
          ],
          "name": "stderr"
        },
        {
          "output_type": "stream",
          "text": [
            "Best Params:  {'max_depth': 10, 'min_samples_leaf': 3, 'min_samples_split': 3}\n",
            "Mean Absolute Error_test: 0.6996616334694061\n",
            "Mean Absolute Error_train: 0.46885111086592246\n",
            "Mean Squared Error_test: 2.1520047375769558\n",
            "Mean Squared Error_train: 0.7615052516315779\n",
            "Root Mean Squared Error_test: 1.4669712804199528\n",
            "RMSE_train: 0.8726426826780695\n",
            "r2_train: 0.8349216248567318\n",
            "r2_teste: 0.5313897477312528\n",
            "['Escherichia_coli_EF-Tu_mutants_conferring_resistance_to_Pulvomycin', 'OXA-23', 'OXA-65', 'mphE', 'Escherichia_coli_EF-Tu_mutants_conferring_resistance_to_Pulvomycin_cp1', \"APH(3')-VI\", \"AAC(6')-Ian\", 'adeS', 'Escherichia_coli_gyrA_conferring_resistance_to_fluoroquinolones', 'OXA-72', 'msrE', 'OXA-259', 'abeS', 'cmlB1', 'ADC-2', 'ADC-5', 'Salmonella_serovars_gyrB_conferring_resistance_to_fluoroquinolone', 'OXA-64', 'adeL', 'Clostridioides_difficile_gyrB_conferring_resistance_to_fluoroquinolone', 'sul2', 'tet(B)', 'ugd', 'adeC', 'OXA-146', 'adeN', 'Acinetobacter_baumannii_AbaF', 'AAC(3)-IIe', 'TEM-1', 'Mycobacterium_tuberculosis_thyA_with_mutation_conferring_resistance_to_para-aminosalicylic_acid', 'tetR']\n",
            "Fitting 10 folds for each of 60 candidates, totalling 600 fits\n"
          ],
          "name": "stdout"
        },
        {
          "output_type": "stream",
          "text": [
            "[Parallel(n_jobs=-1)]: Using backend LokyBackend with 2 concurrent workers.\n",
            "[Parallel(n_jobs=-1)]: Done  46 tasks      | elapsed:    5.9s\n",
            "[Parallel(n_jobs=-1)]: Done 196 tasks      | elapsed:   25.0s\n",
            "[Parallel(n_jobs=-1)]: Done 446 tasks      | elapsed:   57.4s\n",
            "[Parallel(n_jobs=-1)]: Done 600 out of 600 | elapsed:  1.3min finished\n"
          ],
          "name": "stderr"
        },
        {
          "output_type": "stream",
          "text": [
            "Best Params:  {'max_depth': 7, 'min_samples_leaf': 3, 'min_samples_split': 6}\n",
            "Mean Absolute Error_test: 0.707833376703459\n",
            "Mean Absolute Error_train: 0.48049779790731434\n",
            "Mean Squared Error_test: 2.2371712528082828\n",
            "Mean Squared Error_train: 0.8084010683511251\n",
            "Root Mean Squared Error_test: 1.4957176380615036\n",
            "RMSE_train: 0.8991112658348382\n",
            "r2_train: 0.8247555948674538\n",
            "r2_teste: 0.5128442949771206\n",
            "['Escherichia_coli_EF-Tu_mutants_conferring_resistance_to_Pulvomycin', 'OXA-23', 'OXA-65', 'mphE', 'Escherichia_coli_EF-Tu_mutants_conferring_resistance_to_Pulvomycin_cp1', \"APH(3')-VI\", \"AAC(6')-Ian\", 'adeS', 'Escherichia_coli_gyrA_conferring_resistance_to_fluoroquinolones', 'OXA-72', 'msrE', 'OXA-259', 'abeS', 'cmlB1', 'ADC-2', 'ADC-5', 'Salmonella_serovars_gyrB_conferring_resistance_to_fluoroquinolone', 'OXA-64', 'adeL', 'Clostridioides_difficile_gyrB_conferring_resistance_to_fluoroquinolone', 'sul2', 'tet(B)', 'ugd', 'adeC', 'OXA-146', 'adeN', 'Acinetobacter_baumannii_AbaF', 'AAC(3)-IIe', 'TEM-1', 'Mycobacterium_tuberculosis_thyA_with_mutation_conferring_resistance_to_para-aminosalicylic_acid', 'tetR', 'CTX-M-115']\n",
            "Fitting 10 folds for each of 60 candidates, totalling 600 fits\n"
          ],
          "name": "stdout"
        },
        {
          "output_type": "stream",
          "text": [
            "[Parallel(n_jobs=-1)]: Using backend LokyBackend with 2 concurrent workers.\n",
            "[Parallel(n_jobs=-1)]: Done  46 tasks      | elapsed:    5.8s\n",
            "[Parallel(n_jobs=-1)]: Done 196 tasks      | elapsed:   25.7s\n",
            "[Parallel(n_jobs=-1)]: Done 446 tasks      | elapsed:   58.4s\n",
            "[Parallel(n_jobs=-1)]: Done 600 out of 600 | elapsed:  1.3min finished\n"
          ],
          "name": "stderr"
        },
        {
          "output_type": "stream",
          "text": [
            "Best Params:  {'max_depth': 5, 'min_samples_leaf': 3, 'min_samples_split': 5}\n",
            "Mean Absolute Error_test: 0.7077772279935659\n",
            "Mean Absolute Error_train: 0.5261167271276606\n",
            "Mean Squared Error_test: 2.112664832321299\n",
            "Mean Squared Error_train: 0.8625910617857212\n",
            "Root Mean Squared Error_test: 1.4535008883111489\n",
            "RMSE_train: 0.9287578057737772\n",
            "r2_train: 0.8130083402739484\n",
            "r2_teste: 0.5399562172209245\n",
            "['Escherichia_coli_EF-Tu_mutants_conferring_resistance_to_Pulvomycin', 'OXA-23', 'OXA-65', 'mphE', 'Escherichia_coli_EF-Tu_mutants_conferring_resistance_to_Pulvomycin_cp1', \"APH(3')-VI\", \"AAC(6')-Ian\", 'adeS', 'Escherichia_coli_gyrA_conferring_resistance_to_fluoroquinolones', 'OXA-72', 'msrE', 'OXA-259', 'abeS', 'cmlB1', 'ADC-2', 'ADC-5', 'Salmonella_serovars_gyrB_conferring_resistance_to_fluoroquinolone', 'OXA-64', 'adeL', 'Clostridioides_difficile_gyrB_conferring_resistance_to_fluoroquinolone', 'sul2', 'tet(B)', 'ugd', 'adeC', 'OXA-146', 'adeN', 'Acinetobacter_baumannii_AbaF', 'AAC(3)-IIe', 'TEM-1', 'Mycobacterium_tuberculosis_thyA_with_mutation_conferring_resistance_to_para-aminosalicylic_acid', 'tetR', 'CTX-M-115', \"ANT(2'')-Ia\"]\n",
            "Fitting 10 folds for each of 60 candidates, totalling 600 fits\n"
          ],
          "name": "stdout"
        },
        {
          "output_type": "stream",
          "text": [
            "[Parallel(n_jobs=-1)]: Using backend LokyBackend with 2 concurrent workers.\n",
            "[Parallel(n_jobs=-1)]: Done  46 tasks      | elapsed:    6.0s\n",
            "[Parallel(n_jobs=-1)]: Done 196 tasks      | elapsed:   25.3s\n",
            "[Parallel(n_jobs=-1)]: Done 446 tasks      | elapsed:   58.3s\n",
            "[Parallel(n_jobs=-1)]: Done 600 out of 600 | elapsed:  1.3min finished\n"
          ],
          "name": "stderr"
        },
        {
          "output_type": "stream",
          "text": [
            "Best Params:  {'max_depth': 6, 'min_samples_leaf': 3, 'min_samples_split': 2}\n",
            "Mean Absolute Error_test: 0.7083276848878113\n",
            "Mean Absolute Error_train: 0.49043490815009355\n",
            "Mean Squared Error_test: 2.116890726841722\n",
            "Mean Squared Error_train: 0.8225937733091782\n",
            "Root Mean Squared Error_test: 1.4549538572895437\n",
            "RMSE_train: 0.9069695547862553\n",
            "r2_train: 0.8216789139537721\n",
            "r2_teste: 0.5390360066550749\n",
            "['Escherichia_coli_EF-Tu_mutants_conferring_resistance_to_Pulvomycin', 'OXA-23', 'OXA-65', 'mphE', 'Escherichia_coli_EF-Tu_mutants_conferring_resistance_to_Pulvomycin_cp1', \"APH(3')-VI\", \"AAC(6')-Ian\", 'adeS', 'Escherichia_coli_gyrA_conferring_resistance_to_fluoroquinolones', 'OXA-72', 'msrE', 'OXA-259', 'abeS', 'cmlB1', 'ADC-2', 'ADC-5', 'Salmonella_serovars_gyrB_conferring_resistance_to_fluoroquinolone', 'OXA-64', 'adeL', 'Clostridioides_difficile_gyrB_conferring_resistance_to_fluoroquinolone', 'sul2', 'tet(B)', 'ugd', 'adeC', 'OXA-146', 'adeN', 'Acinetobacter_baumannii_AbaF', 'AAC(3)-IIe', 'TEM-1', 'Mycobacterium_tuberculosis_thyA_with_mutation_conferring_resistance_to_para-aminosalicylic_acid', 'tetR', 'CTX-M-115', \"ANT(2'')-Ia\", 'OXA-255']\n",
            "Fitting 10 folds for each of 60 candidates, totalling 600 fits\n"
          ],
          "name": "stdout"
        },
        {
          "output_type": "stream",
          "text": [
            "[Parallel(n_jobs=-1)]: Using backend LokyBackend with 2 concurrent workers.\n",
            "[Parallel(n_jobs=-1)]: Done  46 tasks      | elapsed:    5.9s\n",
            "[Parallel(n_jobs=-1)]: Done 196 tasks      | elapsed:   25.1s\n",
            "[Parallel(n_jobs=-1)]: Done 446 tasks      | elapsed:   58.9s\n",
            "[Parallel(n_jobs=-1)]: Done 600 out of 600 | elapsed:  1.3min finished\n"
          ],
          "name": "stderr"
        },
        {
          "output_type": "stream",
          "text": [
            "Best Params:  {'max_depth': 7, 'min_samples_leaf': 3, 'min_samples_split': 5}\n",
            "Mean Absolute Error_test: 0.6923771778002838\n",
            "Mean Absolute Error_train: 0.4820903816162145\n",
            "Mean Squared Error_test: 2.0883442225197855\n",
            "Mean Squared Error_train: 0.8042870427833775\n",
            "Root Mean Squared Error_test: 1.4451104533978658\n",
            "RMSE_train: 0.8968205187122881\n",
            "r2_train: 0.8256474293683539\n",
            "r2_teste: 0.5452521568140916\n",
            "['Escherichia_coli_EF-Tu_mutants_conferring_resistance_to_Pulvomycin', 'OXA-23', 'OXA-65', 'mphE', 'Escherichia_coli_EF-Tu_mutants_conferring_resistance_to_Pulvomycin_cp1', \"APH(3')-VI\", \"AAC(6')-Ian\", 'adeS', 'Escherichia_coli_gyrA_conferring_resistance_to_fluoroquinolones', 'OXA-72', 'msrE', 'OXA-259', 'abeS', 'cmlB1', 'ADC-2', 'ADC-5', 'Salmonella_serovars_gyrB_conferring_resistance_to_fluoroquinolone', 'OXA-64', 'adeL', 'Clostridioides_difficile_gyrB_conferring_resistance_to_fluoroquinolone', 'sul2', 'tet(B)', 'ugd', 'adeC', 'OXA-146', 'adeN', 'Acinetobacter_baumannii_AbaF', 'AAC(3)-IIe', 'TEM-1', 'Mycobacterium_tuberculosis_thyA_with_mutation_conferring_resistance_to_para-aminosalicylic_acid', 'tetR', 'CTX-M-115', \"ANT(2'')-Ia\", 'OXA-255', 'Acinetobacter_baumannii_ampC_beta-lactamase']\n",
            "Fitting 10 folds for each of 60 candidates, totalling 600 fits\n"
          ],
          "name": "stdout"
        },
        {
          "output_type": "stream",
          "text": [
            "[Parallel(n_jobs=-1)]: Using backend LokyBackend with 2 concurrent workers.\n",
            "[Parallel(n_jobs=-1)]: Done  46 tasks      | elapsed:    5.9s\n",
            "[Parallel(n_jobs=-1)]: Done 196 tasks      | elapsed:   26.3s\n",
            "[Parallel(n_jobs=-1)]: Done 446 tasks      | elapsed:   59.6s\n",
            "[Parallel(n_jobs=-1)]: Done 600 out of 600 | elapsed:  1.3min finished\n"
          ],
          "name": "stderr"
        },
        {
          "output_type": "stream",
          "text": [
            "Best Params:  {'max_depth': 6, 'min_samples_leaf': 3, 'min_samples_split': 3}\n",
            "Mean Absolute Error_test: 0.6852588661342032\n",
            "Mean Absolute Error_train: 0.4886562998297575\n",
            "Mean Squared Error_test: 2.0218217497789523\n",
            "Mean Squared Error_train: 0.8071090429854083\n",
            "Root Mean Squared Error_test: 1.4219077852585773\n",
            "RMSE_train: 0.8983924771420386\n",
            "r2_train: 0.8250356788820543\n",
            "r2_teste: 0.5597377721049399\n",
            "['Escherichia_coli_EF-Tu_mutants_conferring_resistance_to_Pulvomycin', 'OXA-23', 'OXA-65', 'mphE', 'Escherichia_coli_EF-Tu_mutants_conferring_resistance_to_Pulvomycin_cp1', \"APH(3')-VI\", \"AAC(6')-Ian\", 'adeS', 'Escherichia_coli_gyrA_conferring_resistance_to_fluoroquinolones', 'OXA-72', 'msrE', 'OXA-259', 'abeS', 'cmlB1', 'ADC-2', 'ADC-5', 'Salmonella_serovars_gyrB_conferring_resistance_to_fluoroquinolone', 'OXA-64', 'adeL', 'Clostridioides_difficile_gyrB_conferring_resistance_to_fluoroquinolone', 'sul2', 'tet(B)', 'ugd', 'adeC', 'OXA-146', 'adeN', 'Acinetobacter_baumannii_AbaF', 'AAC(3)-IIe', 'TEM-1', 'Mycobacterium_tuberculosis_thyA_with_mutation_conferring_resistance_to_para-aminosalicylic_acid', 'tetR', 'CTX-M-115', \"ANT(2'')-Ia\", 'OXA-255', 'Acinetobacter_baumannii_ampC_beta-lactamase', 'BRP(MBL)']\n",
            "Fitting 10 folds for each of 60 candidates, totalling 600 fits\n"
          ],
          "name": "stdout"
        },
        {
          "output_type": "stream",
          "text": [
            "[Parallel(n_jobs=-1)]: Using backend LokyBackend with 2 concurrent workers.\n",
            "[Parallel(n_jobs=-1)]: Done  46 tasks      | elapsed:    6.0s\n",
            "[Parallel(n_jobs=-1)]: Done 196 tasks      | elapsed:   25.5s\n",
            "[Parallel(n_jobs=-1)]: Done 446 tasks      | elapsed:   59.4s\n",
            "[Parallel(n_jobs=-1)]: Done 600 out of 600 | elapsed:  1.3min finished\n"
          ],
          "name": "stderr"
        },
        {
          "output_type": "stream",
          "text": [
            "Best Params:  {'max_depth': 10, 'min_samples_leaf': 3, 'min_samples_split': 3}\n",
            "Mean Absolute Error_test: 0.7230487021321838\n",
            "Mean Absolute Error_train: 0.4678930543739556\n",
            "Mean Squared Error_test: 2.229534202477473\n",
            "Mean Squared Error_train: 0.7745849473408863\n",
            "Root Mean Squared Error_test: 1.4931624836157227\n",
            "RMSE_train: 0.8801050774429644\n",
            "r2_train: 0.8320862210162004\n",
            "r2_teste: 0.5145073025066202\n",
            "['Escherichia_coli_EF-Tu_mutants_conferring_resistance_to_Pulvomycin', 'OXA-23', 'OXA-65', 'mphE', 'Escherichia_coli_EF-Tu_mutants_conferring_resistance_to_Pulvomycin_cp1', \"APH(3')-VI\", \"AAC(6')-Ian\", 'adeS', 'Escherichia_coli_gyrA_conferring_resistance_to_fluoroquinolones', 'OXA-72', 'msrE', 'OXA-259', 'abeS', 'cmlB1', 'ADC-2', 'ADC-5', 'Salmonella_serovars_gyrB_conferring_resistance_to_fluoroquinolone', 'OXA-64', 'adeL', 'Clostridioides_difficile_gyrB_conferring_resistance_to_fluoroquinolone', 'sul2', 'tet(B)', 'ugd', 'adeC', 'OXA-146', 'adeN', 'Acinetobacter_baumannii_AbaF', 'AAC(3)-IIe', 'TEM-1', 'Mycobacterium_tuberculosis_thyA_with_mutation_conferring_resistance_to_para-aminosalicylic_acid', 'tetR', 'CTX-M-115', \"ANT(2'')-Ia\", 'OXA-255', 'Acinetobacter_baumannii_ampC_beta-lactamase', 'BRP(MBL)', 'NDM-1']\n",
            "Fitting 10 folds for each of 60 candidates, totalling 600 fits\n"
          ],
          "name": "stdout"
        },
        {
          "output_type": "stream",
          "text": [
            "[Parallel(n_jobs=-1)]: Using backend LokyBackend with 2 concurrent workers.\n",
            "[Parallel(n_jobs=-1)]: Done  46 tasks      | elapsed:    6.0s\n",
            "[Parallel(n_jobs=-1)]: Done 196 tasks      | elapsed:   25.5s\n",
            "[Parallel(n_jobs=-1)]: Done 446 tasks      | elapsed:   58.9s\n",
            "[Parallel(n_jobs=-1)]: Done 600 out of 600 | elapsed:  1.3min finished\n"
          ],
          "name": "stderr"
        },
        {
          "output_type": "stream",
          "text": [
            "Best Params:  {'max_depth': 10, 'min_samples_leaf': 3, 'min_samples_split': 2}\n",
            "Mean Absolute Error_test: 0.6944064823932671\n",
            "Mean Absolute Error_train: 0.474905370449359\n",
            "Mean Squared Error_test: 2.104401374146652\n",
            "Mean Squared Error_train: 0.7621230698929187\n",
            "Root Mean Squared Error_test: 1.450655498092725\n",
            "RMSE_train: 0.8729966035975848\n",
            "r2_train: 0.8347876948089779\n",
            "r2_teste: 0.5417556283245419\n",
            "['Escherichia_coli_EF-Tu_mutants_conferring_resistance_to_Pulvomycin', 'OXA-23', 'OXA-65', 'mphE', 'Escherichia_coli_EF-Tu_mutants_conferring_resistance_to_Pulvomycin_cp1', \"APH(3')-VI\", \"AAC(6')-Ian\", 'adeS', 'Escherichia_coli_gyrA_conferring_resistance_to_fluoroquinolones', 'OXA-72', 'msrE', 'OXA-259', 'abeS', 'cmlB1', 'ADC-2', 'ADC-5', 'Salmonella_serovars_gyrB_conferring_resistance_to_fluoroquinolone', 'OXA-64', 'adeL', 'Clostridioides_difficile_gyrB_conferring_resistance_to_fluoroquinolone', 'sul2', 'tet(B)', 'ugd', 'adeC', 'OXA-146', 'adeN', 'Acinetobacter_baumannii_AbaF', 'AAC(3)-IIe', 'TEM-1', 'Mycobacterium_tuberculosis_thyA_with_mutation_conferring_resistance_to_para-aminosalicylic_acid', 'tetR', 'CTX-M-115', \"ANT(2'')-Ia\", 'OXA-255', 'Acinetobacter_baumannii_ampC_beta-lactamase', 'BRP(MBL)', 'NDM-1', 'OXA-385']\n",
            "Fitting 10 folds for each of 60 candidates, totalling 600 fits\n"
          ],
          "name": "stdout"
        },
        {
          "output_type": "stream",
          "text": [
            "[Parallel(n_jobs=-1)]: Using backend LokyBackend with 2 concurrent workers.\n",
            "[Parallel(n_jobs=-1)]: Done  46 tasks      | elapsed:    6.0s\n",
            "[Parallel(n_jobs=-1)]: Done 196 tasks      | elapsed:   25.7s\n",
            "[Parallel(n_jobs=-1)]: Done 446 tasks      | elapsed:   59.0s\n",
            "[Parallel(n_jobs=-1)]: Done 600 out of 600 | elapsed:  1.3min finished\n"
          ],
          "name": "stderr"
        },
        {
          "output_type": "stream",
          "text": [
            "Best Params:  {'max_depth': 6, 'min_samples_leaf': 3, 'min_samples_split': 3}\n",
            "Mean Absolute Error_test: 0.7091403961125872\n",
            "Mean Absolute Error_train: 0.4953324995664159\n",
            "Mean Squared Error_test: 2.1839682778339413\n",
            "Mean Squared Error_train: 0.8008315475559595\n",
            "Root Mean Squared Error_test: 1.4778255234749267\n",
            "RMSE_train: 0.8948919194829952\n",
            "r2_train: 0.8263965082962211\n",
            "r2_teste: 0.5244295201807813\n",
            "['Escherichia_coli_EF-Tu_mutants_conferring_resistance_to_Pulvomycin', 'OXA-23', 'OXA-65', 'mphE', 'Escherichia_coli_EF-Tu_mutants_conferring_resistance_to_Pulvomycin_cp1', \"APH(3')-VI\", \"AAC(6')-Ian\", 'adeS', 'Escherichia_coli_gyrA_conferring_resistance_to_fluoroquinolones', 'OXA-72', 'msrE', 'OXA-259', 'abeS', 'cmlB1', 'ADC-2', 'ADC-5', 'Salmonella_serovars_gyrB_conferring_resistance_to_fluoroquinolone', 'OXA-64', 'adeL', 'Clostridioides_difficile_gyrB_conferring_resistance_to_fluoroquinolone', 'sul2', 'tet(B)', 'ugd', 'adeC', 'OXA-146', 'adeN', 'Acinetobacter_baumannii_AbaF', 'AAC(3)-IIe', 'TEM-1', 'Mycobacterium_tuberculosis_thyA_with_mutation_conferring_resistance_to_para-aminosalicylic_acid', 'tetR', 'CTX-M-115', \"ANT(2'')-Ia\", 'OXA-255', 'Acinetobacter_baumannii_ampC_beta-lactamase', 'BRP(MBL)', 'NDM-1', 'OXA-385', 'dfrA20']\n",
            "Fitting 10 folds for each of 60 candidates, totalling 600 fits\n"
          ],
          "name": "stdout"
        },
        {
          "output_type": "stream",
          "text": [
            "[Parallel(n_jobs=-1)]: Using backend LokyBackend with 2 concurrent workers.\n",
            "[Parallel(n_jobs=-1)]: Done  46 tasks      | elapsed:    5.9s\n",
            "[Parallel(n_jobs=-1)]: Done 196 tasks      | elapsed:   25.6s\n",
            "[Parallel(n_jobs=-1)]: Done 446 tasks      | elapsed:   59.9s\n",
            "[Parallel(n_jobs=-1)]: Done 600 out of 600 | elapsed:  1.3min finished\n"
          ],
          "name": "stderr"
        },
        {
          "output_type": "stream",
          "text": [
            "Best Params:  {'max_depth': 10, 'min_samples_leaf': 3, 'min_samples_split': 5}\n",
            "Mean Absolute Error_test: 0.6979889495675854\n",
            "Mean Absolute Error_train: 0.46181650828446974\n",
            "Mean Squared Error_test: 2.1741615927340745\n",
            "Mean Squared Error_train: 0.7582957178934188\n",
            "Root Mean Squared Error_test: 1.4745038462934148\n",
            "RMSE_train: 0.870801767277386\n",
            "r2_train: 0.8356173844898107\n",
            "r2_teste: 0.5265649769938285\n",
            "['Escherichia_coli_EF-Tu_mutants_conferring_resistance_to_Pulvomycin', 'OXA-23', 'OXA-65', 'mphE', 'Escherichia_coli_EF-Tu_mutants_conferring_resistance_to_Pulvomycin_cp1', \"APH(3')-VI\", \"AAC(6')-Ian\", 'adeS', 'Escherichia_coli_gyrA_conferring_resistance_to_fluoroquinolones', 'OXA-72', 'msrE', 'OXA-259', 'abeS', 'cmlB1', 'ADC-2', 'ADC-5', 'Salmonella_serovars_gyrB_conferring_resistance_to_fluoroquinolone', 'OXA-64', 'adeL', 'Clostridioides_difficile_gyrB_conferring_resistance_to_fluoroquinolone', 'sul2', 'tet(B)', 'ugd', 'adeC', 'OXA-146', 'adeN', 'Acinetobacter_baumannii_AbaF', 'AAC(3)-IIe', 'TEM-1', 'Mycobacterium_tuberculosis_thyA_with_mutation_conferring_resistance_to_para-aminosalicylic_acid', 'tetR', 'CTX-M-115', \"ANT(2'')-Ia\", 'OXA-255', 'Acinetobacter_baumannii_ampC_beta-lactamase', 'BRP(MBL)', 'NDM-1', 'OXA-385', 'dfrA20', 'Tet(X3)']\n",
            "Fitting 10 folds for each of 60 candidates, totalling 600 fits\n"
          ],
          "name": "stdout"
        },
        {
          "output_type": "stream",
          "text": [
            "[Parallel(n_jobs=-1)]: Using backend LokyBackend with 2 concurrent workers.\n",
            "[Parallel(n_jobs=-1)]: Done  46 tasks      | elapsed:    6.1s\n",
            "[Parallel(n_jobs=-1)]: Done 196 tasks      | elapsed:   25.6s\n",
            "[Parallel(n_jobs=-1)]: Done 446 tasks      | elapsed:   58.8s\n",
            "[Parallel(n_jobs=-1)]: Done 600 out of 600 | elapsed:  1.3min finished\n"
          ],
          "name": "stderr"
        },
        {
          "output_type": "stream",
          "text": [
            "Best Params:  {'max_depth': 6, 'min_samples_leaf': 3, 'min_samples_split': 2}\n",
            "Mean Absolute Error_test: 0.6886461563902617\n",
            "Mean Absolute Error_train: 0.4828824167650412\n",
            "Mean Squared Error_test: 2.1475591934182763\n",
            "Mean Squared Error_train: 0.7959600236607157\n",
            "Root Mean Squared Error_test: 1.465455285369798\n",
            "RMSE_train: 0.8921659171144769\n",
            "r2_train: 0.827452552555109\n",
            "r2_teste: 0.5323577881510969\n",
            "['Escherichia_coli_EF-Tu_mutants_conferring_resistance_to_Pulvomycin', 'OXA-23', 'OXA-65', 'mphE', 'Escherichia_coli_EF-Tu_mutants_conferring_resistance_to_Pulvomycin_cp1', \"APH(3')-VI\", \"AAC(6')-Ian\", 'adeS', 'Escherichia_coli_gyrA_conferring_resistance_to_fluoroquinolones', 'OXA-72', 'msrE', 'OXA-259', 'abeS', 'cmlB1', 'ADC-2', 'ADC-5', 'Salmonella_serovars_gyrB_conferring_resistance_to_fluoroquinolone', 'OXA-64', 'adeL', 'Clostridioides_difficile_gyrB_conferring_resistance_to_fluoroquinolone', 'sul2', 'tet(B)', 'ugd', 'adeC', 'OXA-146', 'adeN', 'Acinetobacter_baumannii_AbaF', 'AAC(3)-IIe', 'TEM-1', 'Mycobacterium_tuberculosis_thyA_with_mutation_conferring_resistance_to_para-aminosalicylic_acid', 'tetR', 'CTX-M-115', \"ANT(2'')-Ia\", 'OXA-255', 'Acinetobacter_baumannii_ampC_beta-lactamase', 'BRP(MBL)', 'NDM-1', 'OXA-385', 'dfrA20', 'Tet(X3)', 'VEB-9']\n",
            "Fitting 10 folds for each of 60 candidates, totalling 600 fits\n"
          ],
          "name": "stdout"
        },
        {
          "output_type": "stream",
          "text": [
            "[Parallel(n_jobs=-1)]: Using backend LokyBackend with 2 concurrent workers.\n",
            "[Parallel(n_jobs=-1)]: Done  46 tasks      | elapsed:    5.9s\n",
            "[Parallel(n_jobs=-1)]: Done 196 tasks      | elapsed:   25.4s\n",
            "[Parallel(n_jobs=-1)]: Done 446 tasks      | elapsed:   58.7s\n",
            "[Parallel(n_jobs=-1)]: Done 600 out of 600 | elapsed:  1.3min finished\n"
          ],
          "name": "stderr"
        },
        {
          "output_type": "stream",
          "text": [
            "Best Params:  {'max_depth': 8, 'min_samples_leaf': 3, 'min_samples_split': 6}\n",
            "Mean Absolute Error_test: 0.6865001347143094\n",
            "Mean Absolute Error_train: 0.4665680111169632\n",
            "Mean Squared Error_test: 2.0514150826646986\n",
            "Mean Squared Error_train: 0.7747607447957349\n",
            "Root Mean Squared Error_test: 1.4322761893799318\n",
            "RMSE_train: 0.8802049447689639\n",
            "r2_train: 0.8320481118132257\n",
            "r2_teste: 0.5532936695679367\n",
            "['Escherichia_coli_EF-Tu_mutants_conferring_resistance_to_Pulvomycin', 'OXA-23', 'OXA-65', 'mphE', 'Escherichia_coli_EF-Tu_mutants_conferring_resistance_to_Pulvomycin_cp1', \"APH(3')-VI\", \"AAC(6')-Ian\", 'adeS', 'Escherichia_coli_gyrA_conferring_resistance_to_fluoroquinolones', 'OXA-72', 'msrE', 'OXA-259', 'abeS', 'cmlB1', 'ADC-2', 'ADC-5', 'Salmonella_serovars_gyrB_conferring_resistance_to_fluoroquinolone', 'OXA-64', 'adeL', 'Clostridioides_difficile_gyrB_conferring_resistance_to_fluoroquinolone', 'sul2', 'tet(B)', 'ugd', 'adeC', 'OXA-146', 'adeN', 'Acinetobacter_baumannii_AbaF', 'AAC(3)-IIe', 'TEM-1', 'Mycobacterium_tuberculosis_thyA_with_mutation_conferring_resistance_to_para-aminosalicylic_acid', 'tetR', 'CTX-M-115', \"ANT(2'')-Ia\", 'OXA-255', 'Acinetobacter_baumannii_ampC_beta-lactamase', 'BRP(MBL)', 'NDM-1', 'OXA-385', 'dfrA20', 'Tet(X3)', 'VEB-9', 'golS']\n",
            "Fitting 10 folds for each of 60 candidates, totalling 600 fits\n"
          ],
          "name": "stdout"
        },
        {
          "output_type": "stream",
          "text": [
            "[Parallel(n_jobs=-1)]: Using backend LokyBackend with 2 concurrent workers.\n",
            "[Parallel(n_jobs=-1)]: Done  46 tasks      | elapsed:    6.0s\n",
            "[Parallel(n_jobs=-1)]: Done 196 tasks      | elapsed:   25.6s\n",
            "[Parallel(n_jobs=-1)]: Done 446 tasks      | elapsed:   58.9s\n",
            "[Parallel(n_jobs=-1)]: Done 600 out of 600 | elapsed:  1.3min finished\n"
          ],
          "name": "stderr"
        },
        {
          "output_type": "stream",
          "text": [
            "Best Params:  {'max_depth': 7, 'min_samples_leaf': 3, 'min_samples_split': 5}\n",
            "Mean Absolute Error_test: 0.6838326199944618\n",
            "Mean Absolute Error_train: 0.4798603380133019\n",
            "Mean Squared Error_test: 2.021776227824219\n",
            "Mean Squared Error_train: 0.8096280096854126\n",
            "Root Mean Squared Error_test: 1.4218917778172215\n",
            "RMSE_train: 0.8997933149815087\n",
            "r2_train: 0.8244896197065126\n",
            "r2_teste: 0.5597476847479368\n",
            "['Escherichia_coli_EF-Tu_mutants_conferring_resistance_to_Pulvomycin', 'OXA-23', 'OXA-65', 'mphE', 'Escherichia_coli_EF-Tu_mutants_conferring_resistance_to_Pulvomycin_cp1', \"APH(3')-VI\", \"AAC(6')-Ian\", 'adeS', 'Escherichia_coli_gyrA_conferring_resistance_to_fluoroquinolones', 'OXA-72', 'msrE', 'OXA-259', 'abeS', 'cmlB1', 'ADC-2', 'ADC-5', 'Salmonella_serovars_gyrB_conferring_resistance_to_fluoroquinolone', 'OXA-64', 'adeL', 'Clostridioides_difficile_gyrB_conferring_resistance_to_fluoroquinolone', 'sul2', 'tet(B)', 'ugd', 'adeC', 'OXA-146', 'adeN', 'Acinetobacter_baumannii_AbaF', 'AAC(3)-IIe', 'TEM-1', 'Mycobacterium_tuberculosis_thyA_with_mutation_conferring_resistance_to_para-aminosalicylic_acid', 'tetR', 'CTX-M-115', \"ANT(2'')-Ia\", 'OXA-255', 'Acinetobacter_baumannii_ampC_beta-lactamase', 'BRP(MBL)', 'NDM-1', 'OXA-385', 'dfrA20', 'Tet(X3)', 'VEB-9', 'golS', 'sul1']\n",
            "Fitting 10 folds for each of 60 candidates, totalling 600 fits\n"
          ],
          "name": "stdout"
        },
        {
          "output_type": "stream",
          "text": [
            "[Parallel(n_jobs=-1)]: Using backend LokyBackend with 2 concurrent workers.\n",
            "[Parallel(n_jobs=-1)]: Done  46 tasks      | elapsed:    6.0s\n",
            "[Parallel(n_jobs=-1)]: Done 196 tasks      | elapsed:   25.7s\n",
            "[Parallel(n_jobs=-1)]: Done 446 tasks      | elapsed:   59.7s\n",
            "[Parallel(n_jobs=-1)]: Done 600 out of 600 | elapsed:  1.3min finished\n"
          ],
          "name": "stderr"
        },
        {
          "output_type": "stream",
          "text": [
            "Best Params:  {'max_depth': 8, 'min_samples_leaf': 3, 'min_samples_split': 5}\n",
            "Mean Absolute Error_test: 0.7025940296026836\n",
            "Mean Absolute Error_train: 0.47825962708893766\n",
            "Mean Squared Error_test: 2.1004666507492327\n",
            "Mean Squared Error_train: 0.7874818938650744\n",
            "Root Mean Squared Error_test: 1.449298675480397\n",
            "RMSE_train: 0.8874017657549902\n",
            "r2_train: 0.8292904333680378\n",
            "r2_teste: 0.5426124348601765\n",
            "['Escherichia_coli_EF-Tu_mutants_conferring_resistance_to_Pulvomycin', 'OXA-23', 'OXA-65', 'mphE', 'Escherichia_coli_EF-Tu_mutants_conferring_resistance_to_Pulvomycin_cp1', \"APH(3')-VI\", \"AAC(6')-Ian\", 'adeS', 'Escherichia_coli_gyrA_conferring_resistance_to_fluoroquinolones', 'OXA-72', 'msrE', 'OXA-259', 'abeS', 'cmlB1', 'ADC-2', 'ADC-5', 'Salmonella_serovars_gyrB_conferring_resistance_to_fluoroquinolone', 'OXA-64', 'adeL', 'Clostridioides_difficile_gyrB_conferring_resistance_to_fluoroquinolone', 'sul2', 'tet(B)', 'ugd', 'adeC', 'OXA-146', 'adeN', 'Acinetobacter_baumannii_AbaF', 'AAC(3)-IIe', 'TEM-1', 'Mycobacterium_tuberculosis_thyA_with_mutation_conferring_resistance_to_para-aminosalicylic_acid', 'tetR', 'CTX-M-115', \"ANT(2'')-Ia\", 'OXA-255', 'Acinetobacter_baumannii_ampC_beta-lactamase', 'BRP(MBL)', 'NDM-1', 'OXA-385', 'dfrA20', 'Tet(X3)', 'VEB-9', 'golS', 'sul1', 'qacH']\n",
            "Fitting 10 folds for each of 60 candidates, totalling 600 fits\n"
          ],
          "name": "stdout"
        },
        {
          "output_type": "stream",
          "text": [
            "[Parallel(n_jobs=-1)]: Using backend LokyBackend with 2 concurrent workers.\n",
            "[Parallel(n_jobs=-1)]: Done  46 tasks      | elapsed:    6.1s\n",
            "[Parallel(n_jobs=-1)]: Done 196 tasks      | elapsed:   25.9s\n",
            "[Parallel(n_jobs=-1)]: Done 446 tasks      | elapsed:   59.9s\n",
            "[Parallel(n_jobs=-1)]: Done 600 out of 600 | elapsed:  1.4min finished\n"
          ],
          "name": "stderr"
        },
        {
          "output_type": "stream",
          "text": [
            "Best Params:  {'max_depth': 8, 'min_samples_leaf': 3, 'min_samples_split': 5}\n",
            "Mean Absolute Error_test: 0.6960364530969358\n",
            "Mean Absolute Error_train: 0.4779414497854929\n",
            "Mean Squared Error_test: 2.0465163781458937\n",
            "Mean Squared Error_train: 0.7865983526435647\n",
            "Root Mean Squared Error_test: 1.4305650555447988\n",
            "RMSE_train: 0.8869038012341387\n",
            "r2_train: 0.8294819665832145\n",
            "r2_teste: 0.5543603880189991\n",
            "['Escherichia_coli_EF-Tu_mutants_conferring_resistance_to_Pulvomycin', 'OXA-23', 'OXA-65', 'mphE', 'Escherichia_coli_EF-Tu_mutants_conferring_resistance_to_Pulvomycin_cp1', \"APH(3')-VI\", \"AAC(6')-Ian\", 'adeS', 'Escherichia_coli_gyrA_conferring_resistance_to_fluoroquinolones', 'OXA-72', 'msrE', 'OXA-259', 'abeS', 'cmlB1', 'ADC-2', 'ADC-5', 'Salmonella_serovars_gyrB_conferring_resistance_to_fluoroquinolone', 'OXA-64', 'adeL', 'Clostridioides_difficile_gyrB_conferring_resistance_to_fluoroquinolone', 'sul2', 'tet(B)', 'ugd', 'adeC', 'OXA-146', 'adeN', 'Acinetobacter_baumannii_AbaF', 'AAC(3)-IIe', 'TEM-1', 'Mycobacterium_tuberculosis_thyA_with_mutation_conferring_resistance_to_para-aminosalicylic_acid', 'tetR', 'CTX-M-115', \"ANT(2'')-Ia\", 'OXA-255', 'Acinetobacter_baumannii_ampC_beta-lactamase', 'BRP(MBL)', 'NDM-1', 'OXA-385', 'dfrA20', 'Tet(X3)', 'VEB-9', 'golS', 'sul1', 'qacH', 'VIM-4']\n",
            "Fitting 10 folds for each of 60 candidates, totalling 600 fits\n"
          ],
          "name": "stdout"
        },
        {
          "output_type": "stream",
          "text": [
            "[Parallel(n_jobs=-1)]: Using backend LokyBackend with 2 concurrent workers.\n",
            "[Parallel(n_jobs=-1)]: Done  46 tasks      | elapsed:    6.2s\n",
            "[Parallel(n_jobs=-1)]: Done 196 tasks      | elapsed:   26.3s\n",
            "[Parallel(n_jobs=-1)]: Done 446 tasks      | elapsed:  1.0min\n",
            "[Parallel(n_jobs=-1)]: Done 600 out of 600 | elapsed:  1.4min finished\n"
          ],
          "name": "stderr"
        },
        {
          "output_type": "stream",
          "text": [
            "Best Params:  {'max_depth': 10, 'min_samples_leaf': 3, 'min_samples_split': 2}\n",
            "Mean Absolute Error_test: 0.7045896442308718\n",
            "Mean Absolute Error_train: 0.46438331572275443\n",
            "Mean Squared Error_test: 2.174662946072302\n",
            "Mean Squared Error_train: 0.7568931663489294\n",
            "Root Mean Squared Error_test: 1.4746738439642517\n",
            "RMSE_train: 0.8699960726054626\n",
            "r2_train: 0.8359214282630124\n",
            "r2_teste: 0.526455804690348\n",
            "['Escherichia_coli_EF-Tu_mutants_conferring_resistance_to_Pulvomycin', 'OXA-23', 'OXA-65', 'mphE', 'Escherichia_coli_EF-Tu_mutants_conferring_resistance_to_Pulvomycin_cp1', \"APH(3')-VI\", \"AAC(6')-Ian\", 'adeS', 'Escherichia_coli_gyrA_conferring_resistance_to_fluoroquinolones', 'OXA-72', 'msrE', 'OXA-259', 'abeS', 'cmlB1', 'ADC-2', 'ADC-5', 'Salmonella_serovars_gyrB_conferring_resistance_to_fluoroquinolone', 'OXA-64', 'adeL', 'Clostridioides_difficile_gyrB_conferring_resistance_to_fluoroquinolone', 'sul2', 'tet(B)', 'ugd', 'adeC', 'OXA-146', 'adeN', 'Acinetobacter_baumannii_AbaF', 'AAC(3)-IIe', 'TEM-1', 'Mycobacterium_tuberculosis_thyA_with_mutation_conferring_resistance_to_para-aminosalicylic_acid', 'tetR', 'CTX-M-115', \"ANT(2'')-Ia\", 'OXA-255', 'Acinetobacter_baumannii_ampC_beta-lactamase', 'BRP(MBL)', 'NDM-1', 'OXA-385', 'dfrA20', 'Tet(X3)', 'VEB-9', 'golS', 'sul1', 'qacH', 'VIM-4', \"AAC(6')-Ib7\"]\n",
            "Fitting 10 folds for each of 60 candidates, totalling 600 fits\n"
          ],
          "name": "stdout"
        },
        {
          "output_type": "stream",
          "text": [
            "[Parallel(n_jobs=-1)]: Using backend LokyBackend with 2 concurrent workers.\n",
            "[Parallel(n_jobs=-1)]: Done  46 tasks      | elapsed:    6.1s\n",
            "[Parallel(n_jobs=-1)]: Done 196 tasks      | elapsed:   26.0s\n",
            "[Parallel(n_jobs=-1)]: Done 446 tasks      | elapsed:  1.0min\n",
            "[Parallel(n_jobs=-1)]: Done 600 out of 600 | elapsed:  1.4min finished\n"
          ],
          "name": "stderr"
        },
        {
          "output_type": "stream",
          "text": [
            "Best Params:  {'max_depth': 10, 'min_samples_leaf': 3, 'min_samples_split': 6}\n",
            "Mean Absolute Error_test: 0.692478739219753\n",
            "Mean Absolute Error_train: 0.4638803576285366\n",
            "Mean Squared Error_test: 2.1631809309703245\n",
            "Mean Squared Error_train: 0.7488677591695112\n",
            "Root Mean Squared Error_test: 1.4707756222382544\n",
            "RMSE_train: 0.8653714573346588\n",
            "r2_train: 0.8376611683031538\n",
            "r2_teste: 0.5289560733466101\n",
            "['Escherichia_coli_EF-Tu_mutants_conferring_resistance_to_Pulvomycin', 'OXA-23', 'OXA-65', 'mphE', 'Escherichia_coli_EF-Tu_mutants_conferring_resistance_to_Pulvomycin_cp1', \"APH(3')-VI\", \"AAC(6')-Ian\", 'adeS', 'Escherichia_coli_gyrA_conferring_resistance_to_fluoroquinolones', 'OXA-72', 'msrE', 'OXA-259', 'abeS', 'cmlB1', 'ADC-2', 'ADC-5', 'Salmonella_serovars_gyrB_conferring_resistance_to_fluoroquinolone', 'OXA-64', 'adeL', 'Clostridioides_difficile_gyrB_conferring_resistance_to_fluoroquinolone', 'sul2', 'tet(B)', 'ugd', 'adeC', 'OXA-146', 'adeN', 'Acinetobacter_baumannii_AbaF', 'AAC(3)-IIe', 'TEM-1', 'Mycobacterium_tuberculosis_thyA_with_mutation_conferring_resistance_to_para-aminosalicylic_acid', 'tetR', 'CTX-M-115', \"ANT(2'')-Ia\", 'OXA-255', 'Acinetobacter_baumannii_ampC_beta-lactamase', 'BRP(MBL)', 'NDM-1', 'OXA-385', 'dfrA20', 'Tet(X3)', 'VEB-9', 'golS', 'sul1', 'qacH', 'VIM-4', \"AAC(6')-Ib7\", 'OXA-235']\n",
            "Fitting 10 folds for each of 60 candidates, totalling 600 fits\n"
          ],
          "name": "stdout"
        },
        {
          "output_type": "stream",
          "text": [
            "[Parallel(n_jobs=-1)]: Using backend LokyBackend with 2 concurrent workers.\n",
            "[Parallel(n_jobs=-1)]: Done  46 tasks      | elapsed:    6.1s\n",
            "[Parallel(n_jobs=-1)]: Done 196 tasks      | elapsed:   26.1s\n",
            "[Parallel(n_jobs=-1)]: Done 446 tasks      | elapsed:  1.0min\n",
            "[Parallel(n_jobs=-1)]: Done 600 out of 600 | elapsed:  1.4min finished\n"
          ],
          "name": "stderr"
        },
        {
          "output_type": "stream",
          "text": [
            "Best Params:  {'max_depth': 8, 'min_samples_leaf': 3, 'min_samples_split': 2}\n",
            "Mean Absolute Error_test: 0.6902661513190267\n",
            "Mean Absolute Error_train: 0.4716087124776007\n",
            "Mean Squared Error_test: 2.1212660154615635\n",
            "Mean Squared Error_train: 0.7675030073936836\n",
            "Root Mean Squared Error_test: 1.4564566644639871\n",
            "RMSE_train: 0.8760724898053149\n",
            "r2_train: 0.8336214371382713\n",
            "r2_teste: 0.5380832647451287\n",
            "['Escherichia_coli_EF-Tu_mutants_conferring_resistance_to_Pulvomycin', 'OXA-23', 'OXA-65', 'mphE', 'Escherichia_coli_EF-Tu_mutants_conferring_resistance_to_Pulvomycin_cp1', \"APH(3')-VI\", \"AAC(6')-Ian\", 'adeS', 'Escherichia_coli_gyrA_conferring_resistance_to_fluoroquinolones', 'OXA-72', 'msrE', 'OXA-259', 'abeS', 'cmlB1', 'ADC-2', 'ADC-5', 'Salmonella_serovars_gyrB_conferring_resistance_to_fluoroquinolone', 'OXA-64', 'adeL', 'Clostridioides_difficile_gyrB_conferring_resistance_to_fluoroquinolone', 'sul2', 'tet(B)', 'ugd', 'adeC', 'OXA-146', 'adeN', 'Acinetobacter_baumannii_AbaF', 'AAC(3)-IIe', 'TEM-1', 'Mycobacterium_tuberculosis_thyA_with_mutation_conferring_resistance_to_para-aminosalicylic_acid', 'tetR', 'CTX-M-115', \"ANT(2'')-Ia\", 'OXA-255', 'Acinetobacter_baumannii_ampC_beta-lactamase', 'BRP(MBL)', 'NDM-1', 'OXA-385', 'dfrA20', 'Tet(X3)', 'VEB-9', 'golS', 'sul1', 'qacH', 'VIM-4', \"AAC(6')-Ib7\", 'OXA-235', 'OXA-144']\n",
            "Fitting 10 folds for each of 60 candidates, totalling 600 fits\n"
          ],
          "name": "stdout"
        },
        {
          "output_type": "stream",
          "text": [
            "[Parallel(n_jobs=-1)]: Using backend LokyBackend with 2 concurrent workers.\n",
            "[Parallel(n_jobs=-1)]: Done  46 tasks      | elapsed:    6.1s\n",
            "[Parallel(n_jobs=-1)]: Done 196 tasks      | elapsed:   27.3s\n",
            "[Parallel(n_jobs=-1)]: Done 446 tasks      | elapsed:  1.0min\n",
            "[Parallel(n_jobs=-1)]: Done 600 out of 600 | elapsed:  1.4min finished\n"
          ],
          "name": "stderr"
        },
        {
          "output_type": "stream",
          "text": [
            "Best Params:  {'max_depth': 5, 'min_samples_leaf': 3, 'min_samples_split': 6}\n",
            "Mean Absolute Error_test: 0.7101546605180529\n",
            "Mean Absolute Error_train: 0.5180441172779342\n",
            "Mean Squared Error_test: 2.083385235144442\n",
            "Mean Squared Error_train: 0.8397724926210822\n",
            "Root Mean Squared Error_test: 1.4433936521768558\n",
            "RMSE_train: 0.9163910151355055\n",
            "r2_train: 0.8179549277238999\n",
            "r2_teste: 0.5463320021714833\n",
            "['Escherichia_coli_EF-Tu_mutants_conferring_resistance_to_Pulvomycin', 'OXA-23', 'OXA-65', 'mphE', 'Escherichia_coli_EF-Tu_mutants_conferring_resistance_to_Pulvomycin_cp1', \"APH(3')-VI\", \"AAC(6')-Ian\", 'adeS', 'Escherichia_coli_gyrA_conferring_resistance_to_fluoroquinolones', 'OXA-72', 'msrE', 'OXA-259', 'abeS', 'cmlB1', 'ADC-2', 'ADC-5', 'Salmonella_serovars_gyrB_conferring_resistance_to_fluoroquinolone', 'OXA-64', 'adeL', 'Clostridioides_difficile_gyrB_conferring_resistance_to_fluoroquinolone', 'sul2', 'tet(B)', 'ugd', 'adeC', 'OXA-146', 'adeN', 'Acinetobacter_baumannii_AbaF', 'AAC(3)-IIe', 'TEM-1', 'Mycobacterium_tuberculosis_thyA_with_mutation_conferring_resistance_to_para-aminosalicylic_acid', 'tetR', 'CTX-M-115', \"ANT(2'')-Ia\", 'OXA-255', 'Acinetobacter_baumannii_ampC_beta-lactamase', 'BRP(MBL)', 'NDM-1', 'OXA-385', 'dfrA20', 'Tet(X3)', 'VEB-9', 'golS', 'sul1', 'qacH', 'VIM-4', \"AAC(6')-Ib7\", 'OXA-235', 'OXA-144', 'OXA-24']\n",
            "Fitting 10 folds for each of 60 candidates, totalling 600 fits\n"
          ],
          "name": "stdout"
        },
        {
          "output_type": "stream",
          "text": [
            "[Parallel(n_jobs=-1)]: Using backend LokyBackend with 2 concurrent workers.\n",
            "[Parallel(n_jobs=-1)]: Done  46 tasks      | elapsed:    6.3s\n",
            "[Parallel(n_jobs=-1)]: Done 196 tasks      | elapsed:   26.3s\n",
            "[Parallel(n_jobs=-1)]: Done 446 tasks      | elapsed:  1.0min\n",
            "[Parallel(n_jobs=-1)]: Done 600 out of 600 | elapsed:  1.4min finished\n"
          ],
          "name": "stderr"
        },
        {
          "output_type": "stream",
          "text": [
            "Best Params:  {'max_depth': 8, 'min_samples_leaf': 3, 'min_samples_split': 6}\n",
            "Mean Absolute Error_test: 0.6743589286359035\n",
            "Mean Absolute Error_train: 0.47441704735577256\n",
            "Mean Squared Error_test: 2.0553263508102555\n",
            "Mean Squared Error_train: 0.7819681864043234\n",
            "Root Mean Squared Error_test: 1.4336409420807763\n",
            "RMSE_train: 0.8842896507391248\n",
            "r2_train: 0.8304856895618538\n",
            "r2_teste: 0.552441970535692\n",
            "['Escherichia_coli_EF-Tu_mutants_conferring_resistance_to_Pulvomycin', 'OXA-23', 'OXA-65', 'mphE', 'Escherichia_coli_EF-Tu_mutants_conferring_resistance_to_Pulvomycin_cp1', \"APH(3')-VI\", \"AAC(6')-Ian\", 'adeS', 'Escherichia_coli_gyrA_conferring_resistance_to_fluoroquinolones', 'OXA-72', 'msrE', 'OXA-259', 'abeS', 'cmlB1', 'ADC-2', 'ADC-5', 'Salmonella_serovars_gyrB_conferring_resistance_to_fluoroquinolone', 'OXA-64', 'adeL', 'Clostridioides_difficile_gyrB_conferring_resistance_to_fluoroquinolone', 'sul2', 'tet(B)', 'ugd', 'adeC', 'OXA-146', 'adeN', 'Acinetobacter_baumannii_AbaF', 'AAC(3)-IIe', 'TEM-1', 'Mycobacterium_tuberculosis_thyA_with_mutation_conferring_resistance_to_para-aminosalicylic_acid', 'tetR', 'CTX-M-115', \"ANT(2'')-Ia\", 'OXA-255', 'Acinetobacter_baumannii_ampC_beta-lactamase', 'BRP(MBL)', 'NDM-1', 'OXA-385', 'dfrA20', 'Tet(X3)', 'VEB-9', 'golS', 'sul1', 'qacH', 'VIM-4', \"AAC(6')-Ib7\", 'OXA-235', 'OXA-144', 'OXA-24', 'OXA-121']\n",
            "Fitting 10 folds for each of 60 candidates, totalling 600 fits\n"
          ],
          "name": "stdout"
        },
        {
          "output_type": "stream",
          "text": [
            "[Parallel(n_jobs=-1)]: Using backend LokyBackend with 2 concurrent workers.\n",
            "[Parallel(n_jobs=-1)]: Done  46 tasks      | elapsed:    6.2s\n",
            "[Parallel(n_jobs=-1)]: Done 196 tasks      | elapsed:   26.2s\n",
            "[Parallel(n_jobs=-1)]: Done 446 tasks      | elapsed:  1.0min\n",
            "[Parallel(n_jobs=-1)]: Done 600 out of 600 | elapsed:  1.4min finished\n"
          ],
          "name": "stderr"
        },
        {
          "output_type": "stream",
          "text": [
            "Best Params:  {'max_depth': 5, 'min_samples_leaf': 3, 'min_samples_split': 5}\n",
            "Mean Absolute Error_test: 0.6887820247255646\n",
            "Mean Absolute Error_train: 0.5175576240178923\n",
            "Mean Squared Error_test: 2.0522676141115572\n",
            "Mean Squared Error_train: 0.837928008736077\n",
            "Root Mean Squared Error_test: 1.43257377265939\n",
            "RMSE_train: 0.9153840771698386\n",
            "r2_train: 0.8183547731643118\n",
            "r2_teste: 0.5531080264002411\n",
            "['Escherichia_coli_EF-Tu_mutants_conferring_resistance_to_Pulvomycin', 'OXA-23', 'OXA-65', 'mphE', 'Escherichia_coli_EF-Tu_mutants_conferring_resistance_to_Pulvomycin_cp1', \"APH(3')-VI\", \"AAC(6')-Ian\", 'adeS', 'Escherichia_coli_gyrA_conferring_resistance_to_fluoroquinolones', 'OXA-72', 'msrE', 'OXA-259', 'abeS', 'cmlB1', 'ADC-2', 'ADC-5', 'Salmonella_serovars_gyrB_conferring_resistance_to_fluoroquinolone', 'OXA-64', 'adeL', 'Clostridioides_difficile_gyrB_conferring_resistance_to_fluoroquinolone', 'sul2', 'tet(B)', 'ugd', 'adeC', 'OXA-146', 'adeN', 'Acinetobacter_baumannii_AbaF', 'AAC(3)-IIe', 'TEM-1', 'Mycobacterium_tuberculosis_thyA_with_mutation_conferring_resistance_to_para-aminosalicylic_acid', 'tetR', 'CTX-M-115', \"ANT(2'')-Ia\", 'OXA-255', 'Acinetobacter_baumannii_ampC_beta-lactamase', 'BRP(MBL)', 'NDM-1', 'OXA-385', 'dfrA20', 'Tet(X3)', 'VEB-9', 'golS', 'sul1', 'qacH', 'VIM-4', \"AAC(6')-Ib7\", 'OXA-235', 'OXA-144', 'OXA-24', 'OXA-121', 'OXA-58']\n",
            "Fitting 10 folds for each of 60 candidates, totalling 600 fits\n"
          ],
          "name": "stdout"
        },
        {
          "output_type": "stream",
          "text": [
            "[Parallel(n_jobs=-1)]: Using backend LokyBackend with 2 concurrent workers.\n",
            "[Parallel(n_jobs=-1)]: Done  46 tasks      | elapsed:    6.3s\n",
            "[Parallel(n_jobs=-1)]: Done 196 tasks      | elapsed:   26.5s\n",
            "[Parallel(n_jobs=-1)]: Done 446 tasks      | elapsed:  1.0min\n",
            "[Parallel(n_jobs=-1)]: Done 600 out of 600 | elapsed:  1.4min finished\n"
          ],
          "name": "stderr"
        },
        {
          "output_type": "stream",
          "text": [
            "Best Params:  {'max_depth': 10, 'min_samples_leaf': 3, 'min_samples_split': 5}\n",
            "Mean Absolute Error_test: 0.6870622965876593\n",
            "Mean Absolute Error_train: 0.4692558918244707\n",
            "Mean Squared Error_test: 2.004835178143184\n",
            "Mean Squared Error_train: 0.7574717684854578\n",
            "Root Mean Squared Error_test: 1.4159220240335215\n",
            "RMSE_train: 0.870328540544005\n",
            "r2_train: 0.8357959994490313\n",
            "r2_teste: 0.5634366866474706\n",
            "['Escherichia_coli_EF-Tu_mutants_conferring_resistance_to_Pulvomycin', 'OXA-23', 'OXA-65', 'mphE', 'Escherichia_coli_EF-Tu_mutants_conferring_resistance_to_Pulvomycin_cp1', \"APH(3')-VI\", \"AAC(6')-Ian\", 'adeS', 'Escherichia_coli_gyrA_conferring_resistance_to_fluoroquinolones', 'OXA-72', 'msrE', 'OXA-259', 'abeS', 'cmlB1', 'ADC-2', 'ADC-5', 'Salmonella_serovars_gyrB_conferring_resistance_to_fluoroquinolone', 'OXA-64', 'adeL', 'Clostridioides_difficile_gyrB_conferring_resistance_to_fluoroquinolone', 'sul2', 'tet(B)', 'ugd', 'adeC', 'OXA-146', 'adeN', 'Acinetobacter_baumannii_AbaF', 'AAC(3)-IIe', 'TEM-1', 'Mycobacterium_tuberculosis_thyA_with_mutation_conferring_resistance_to_para-aminosalicylic_acid', 'tetR', 'CTX-M-115', \"ANT(2'')-Ia\", 'OXA-255', 'Acinetobacter_baumannii_ampC_beta-lactamase', 'BRP(MBL)', 'NDM-1', 'OXA-385', 'dfrA20', 'Tet(X3)', 'VEB-9', 'golS', 'sul1', 'qacH', 'VIM-4', \"AAC(6')-Ib7\", 'OXA-235', 'OXA-144', 'OXA-24', 'OXA-121', 'OXA-58', 'rosA']\n",
            "Fitting 10 folds for each of 60 candidates, totalling 600 fits\n"
          ],
          "name": "stdout"
        },
        {
          "output_type": "stream",
          "text": [
            "[Parallel(n_jobs=-1)]: Using backend LokyBackend with 2 concurrent workers.\n",
            "[Parallel(n_jobs=-1)]: Done  46 tasks      | elapsed:    6.2s\n",
            "[Parallel(n_jobs=-1)]: Done 196 tasks      | elapsed:   26.2s\n",
            "[Parallel(n_jobs=-1)]: Done 446 tasks      | elapsed:  1.0min\n",
            "[Parallel(n_jobs=-1)]: Done 600 out of 600 | elapsed:  1.4min finished\n"
          ],
          "name": "stderr"
        },
        {
          "output_type": "stream",
          "text": [
            "Best Params:  {'max_depth': 7, 'min_samples_leaf': 3, 'min_samples_split': 2}\n",
            "Mean Absolute Error_test: 0.6852799738193714\n",
            "Mean Absolute Error_train: 0.47697765314777546\n",
            "Mean Squared Error_test: 2.151807832013956\n",
            "Mean Squared Error_train: 0.7813195048997589\n",
            "Root Mean Squared Error_test: 1.4669041659269892\n",
            "RMSE_train: 0.8839227935174875\n",
            "r2_train: 0.8306263101137535\n",
            "r2_teste: 0.5314326249442713\n",
            "['Escherichia_coli_EF-Tu_mutants_conferring_resistance_to_Pulvomycin', 'OXA-23', 'OXA-65', 'mphE', 'Escherichia_coli_EF-Tu_mutants_conferring_resistance_to_Pulvomycin_cp1', \"APH(3')-VI\", \"AAC(6')-Ian\", 'adeS', 'Escherichia_coli_gyrA_conferring_resistance_to_fluoroquinolones', 'OXA-72', 'msrE', 'OXA-259', 'abeS', 'cmlB1', 'ADC-2', 'ADC-5', 'Salmonella_serovars_gyrB_conferring_resistance_to_fluoroquinolone', 'OXA-64', 'adeL', 'Clostridioides_difficile_gyrB_conferring_resistance_to_fluoroquinolone', 'sul2', 'tet(B)', 'ugd', 'adeC', 'OXA-146', 'adeN', 'Acinetobacter_baumannii_AbaF', 'AAC(3)-IIe', 'TEM-1', 'Mycobacterium_tuberculosis_thyA_with_mutation_conferring_resistance_to_para-aminosalicylic_acid', 'tetR', 'CTX-M-115', \"ANT(2'')-Ia\", 'OXA-255', 'Acinetobacter_baumannii_ampC_beta-lactamase', 'BRP(MBL)', 'NDM-1', 'OXA-385', 'dfrA20', 'Tet(X3)', 'VEB-9', 'golS', 'sul1', 'qacH', 'VIM-4', \"AAC(6')-Ib7\", 'OXA-235', 'OXA-144', 'OXA-24', 'OXA-121', 'OXA-58', 'rosA', 'rosA_cp1']\n",
            "Fitting 10 folds for each of 60 candidates, totalling 600 fits\n"
          ],
          "name": "stdout"
        },
        {
          "output_type": "stream",
          "text": [
            "[Parallel(n_jobs=-1)]: Using backend LokyBackend with 2 concurrent workers.\n",
            "[Parallel(n_jobs=-1)]: Done  46 tasks      | elapsed:    6.2s\n",
            "[Parallel(n_jobs=-1)]: Done 196 tasks      | elapsed:   26.4s\n",
            "[Parallel(n_jobs=-1)]: Done 446 tasks      | elapsed:  1.0min\n",
            "[Parallel(n_jobs=-1)]: Done 600 out of 600 | elapsed:  1.4min finished\n"
          ],
          "name": "stderr"
        },
        {
          "output_type": "stream",
          "text": [
            "Best Params:  {'max_depth': 8, 'min_samples_leaf': 3, 'min_samples_split': 5}\n",
            "Mean Absolute Error_test: 0.6805005277542797\n",
            "Mean Absolute Error_train: 0.46952137674578637\n",
            "Mean Squared Error_test: 2.0136804410455316\n",
            "Mean Squared Error_train: 0.7600737578245578\n",
            "Root Mean Squared Error_test: 1.4190420857203396\n",
            "RMSE_train: 0.8718220906954341\n",
            "r2_train: 0.8352319427057345\n",
            "r2_teste: 0.561510584530837\n"
          ],
          "name": "stdout"
        }
      ]
    },
    {
      "cell_type": "code",
      "metadata": {
        "id": "BvU4QsFVIsHl"
      },
      "source": [
        "resultadosdf=pd.DataFrame(resultados)\n",
        "print(resultadosdf)\n",
        "resultadosdf.to_excel ('MERO-95-RF-PER.xlsx', index = None, header=True)"
      ],
      "execution_count": null,
      "outputs": []
    }
  ]
}