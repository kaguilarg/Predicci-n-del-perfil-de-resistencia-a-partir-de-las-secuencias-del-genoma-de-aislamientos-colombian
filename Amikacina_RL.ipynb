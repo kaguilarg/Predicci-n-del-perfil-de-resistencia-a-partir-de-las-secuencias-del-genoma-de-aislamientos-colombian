{
  "nbformat": 4,
  "nbformat_minor": 0,
  "metadata": {
    "colab": {
      "name": "Amikacina-RL",
      "provenance": []
    },
    "kernelspec": {
      "name": "python3",
      "display_name": "Python 3"
    },
    "language_info": {
      "name": "python"
    }
  },
  "cells": [
    {
      "cell_type": "code",
      "metadata": {
        "id": "XYYmJwGUP9Fl"
      },
      "source": [
        "import pandas as pd\n",
        "import numpy as np\n",
        "import math \n",
        "import matplotlib.pyplot as plt \n",
        "from sklearn.linear_model import Lasso\n",
        "from sklearn.linear_model import LinearRegression\n",
        "from sklearn.metrics import r2_score\n",
        "from sklearn.metrics import mean_squared_error\n",
        "from sklearn.metrics import mean_absolute_error\n",
        "from sklearn.model_selection import cross_val_score\n",
        "from sklearn.preprocessing import OneHotEncoder\n",
        "from sklearn.metrics import  make_scorer\n",
        "from sklearn.externals import joblib"
      ],
      "execution_count": 33,
      "outputs": []
    },
    {
      "cell_type": "code",
      "metadata": {
        "colab": {
          "base_uri": "https://localhost:8080/"
        },
        "id": "3VAYc0eKcD3L",
        "outputId": "6d2f9ba6-552b-4014-fdab-c4537b96a4af"
      },
      "source": [
        "#cargo los datos en el dataframe\n",
        "dataframe=pd.read_csv('/content/100-amk-343.csv') # cargar archivo generado por tablaAlelosAB.py \n",
        "dataframe = dataframe.drop(['id', 'aislamiento', 'AMKI'], axis='columns') #AMKI hace referencia a la columna en donde esta clasificado el aislamiento como sensible, intermedio, resistente. En caso que contengan esa columna eliminar AMKI\n",
        "print(dataframe)"
      ],
      "execution_count": 34,
      "outputs": [
        {
          "output_type": "stream",
          "text": [
            "     OXA-64  rosA  rosA_cp1  macB  ...  OXA-104  OXA-132  OXA-180  AMIKACINA\n",
            "0       1.0   8.0      -1.0   1.0  ...     -1.0     -1.0     -1.0        128\n",
            "1       1.0   8.0      -1.0   1.0  ...     -1.0     -1.0     -1.0         64\n",
            "2      -1.0   5.0      -1.0   4.0  ...     -1.0     -1.0     -1.0         32\n",
            "3      -1.0   5.0      -1.0   4.0  ...     -1.0     -1.0     -1.0         32\n",
            "4      -1.0   5.0      -1.0   4.0  ...     -1.0     -1.0     -1.0         32\n",
            "..      ...   ...       ...   ...  ...      ...      ...      ...        ...\n",
            "337    -1.0  29.0      -1.0   1.0  ...     -1.0      1.0     -1.0         32\n",
            "338    -1.0   5.0      -1.0   4.0  ...     -1.0     -1.0     -1.0         64\n",
            "339    -1.0  28.0      -1.0  11.0  ...     -1.0     -1.0      1.0         64\n",
            "340    -1.0  27.0      -1.0   1.0  ...     -1.0     -1.0     -1.0         16\n",
            "341    -1.0   2.0      -1.0   2.0  ...     -1.0     -1.0     -1.0         64\n",
            "\n",
            "[342 rows x 212 columns]\n"
          ],
          "name": "stdout"
        }
      ]
    },
    {
      "cell_type": "code",
      "metadata": {
        "colab": {
          "base_uri": "https://localhost:8080/"
        },
        "id": "DGrVPT5HcNgB",
        "outputId": "7cb35f7c-0035-4cc5-e3ec-2941ff37d86c"
      },
      "source": [
        "#defino las variables \"X\" y \"y\"\n",
        "X = dataframe.drop(['AMIKACINA'], axis='columns')\n",
        "y = dataframe.iloc[:, -1] \n",
        "print(X)\n",
        "print(y)"
      ],
      "execution_count": 35,
      "outputs": [
        {
          "output_type": "stream",
          "text": [
            "     OXA-64  rosA  rosA_cp1  macB  ...  OXA-431  OXA-104  OXA-132  OXA-180\n",
            "0       1.0   8.0      -1.0   1.0  ...     -1.0     -1.0     -1.0     -1.0\n",
            "1       1.0   8.0      -1.0   1.0  ...     -1.0     -1.0     -1.0     -1.0\n",
            "2      -1.0   5.0      -1.0   4.0  ...     -1.0     -1.0     -1.0     -1.0\n",
            "3      -1.0   5.0      -1.0   4.0  ...     -1.0     -1.0     -1.0     -1.0\n",
            "4      -1.0   5.0      -1.0   4.0  ...     -1.0     -1.0     -1.0     -1.0\n",
            "..      ...   ...       ...   ...  ...      ...      ...      ...      ...\n",
            "337    -1.0  29.0      -1.0   1.0  ...     -1.0     -1.0      1.0     -1.0\n",
            "338    -1.0   5.0      -1.0   4.0  ...     -1.0     -1.0     -1.0     -1.0\n",
            "339    -1.0  28.0      -1.0  11.0  ...     -1.0     -1.0     -1.0      1.0\n",
            "340    -1.0  27.0      -1.0   1.0  ...     -1.0     -1.0     -1.0     -1.0\n",
            "341    -1.0   2.0      -1.0   2.0  ...     -1.0     -1.0     -1.0     -1.0\n",
            "\n",
            "[342 rows x 211 columns]\n",
            "0      128\n",
            "1       64\n",
            "2       32\n",
            "3       32\n",
            "4       32\n",
            "      ... \n",
            "337     32\n",
            "338     64\n",
            "339     64\n",
            "340     16\n",
            "341     64\n",
            "Name: AMIKACINA, Length: 342, dtype: int64\n"
          ],
          "name": "stdout"
        }
      ]
    },
    {
      "cell_type": "code",
      "metadata": {
        "colab": {
          "base_uri": "https://localhost:8080/"
        },
        "id": "pCfJH03VcOKp",
        "outputId": "a4dbeca1-551a-4a53-cf85-455139d23c7f"
      },
      "source": [
        "#cambio de variables a categoricas por dummys \n",
        "datadummy = pd.get_dummies(X.astype(str))\n",
        "print(datadummy)"
      ],
      "execution_count": 36,
      "outputs": [
        {
          "output_type": "stream",
          "text": [
            "     OXA-64_-1.0  OXA-64_1.0  rosA_-1.0  ...  OXA-132_1.0  OXA-180_-1.0  OXA-180_1.0\n",
            "0              0           1          0  ...            0             1            0\n",
            "1              0           1          0  ...            0             1            0\n",
            "2              1           0          0  ...            0             1            0\n",
            "3              1           0          0  ...            0             1            0\n",
            "4              1           0          0  ...            0             1            0\n",
            "..           ...         ...        ...  ...          ...           ...          ...\n",
            "337            1           0          0  ...            1             1            0\n",
            "338            1           0          0  ...            0             1            0\n",
            "339            1           0          0  ...            0             0            1\n",
            "340            1           0          0  ...            0             1            0\n",
            "341            1           0          0  ...            0             1            0\n",
            "\n",
            "[342 rows x 1537 columns]\n"
          ],
          "name": "stdout"
        }
      ]
    },
    {
      "cell_type": "code",
      "metadata": {
        "colab": {
          "base_uri": "https://localhost:8080/"
        },
        "id": "Q8ILjMO6cTG5",
        "outputId": "933722b8-5d93-40f4-f490-79737deb8a0e"
      },
      "source": [
        "#Eliminar columnas que indican la ausencia del gen \n",
        "for col in datadummy.columns: \n",
        "  if col[-4:] == '-1.0':\n",
        "    print(col)\n",
        "    del(datadummy[col])\n",
        "\n",
        "print(datadummy.columns)\n",
        "print(datadummy.shape)"
      ],
      "execution_count": 37,
      "outputs": [
        {
          "output_type": "stream",
          "text": [
            "OXA-64_-1.0\n",
            "rosA_-1.0\n",
            "rosA_cp1_-1.0\n",
            "abeM_-1.0\n",
            "Acinetobacter_baumannii_AmvA_-1.0\n",
            "Acinetobacter_baumannii_AmvA_cp1_-1.0\n",
            "adeN_-1.0\n",
            "adeH_-1.0\n",
            "adeF_-1.0\n",
            "adeF_cp1_-1.0\n",
            "adeL_-1.0\n",
            "abeS_-1.0\n",
            "abeS_cp1_-1.0\n",
            "ANT(3'')-IIc_-1.0\n",
            "ANT(3'')-IIc_cp1_-1.0\n",
            "Acinetobacter_baumannii_AbaQ_-1.0\n",
            "adeB_-1.0\n",
            "adeB_cp1_-1.0\n",
            "adeA_-1.0\n",
            "adeA_cp1_-1.0\n",
            "adeR_-1.0\n",
            "adeR_cp1_-1.0\n",
            "adeS_-1.0\n",
            "adeS_cp1_-1.0\n",
            "ADC-5_-1.0\n",
            "MexK_-1.0\n",
            "Mycobacterium_tuberculosis_rpoB_mutants_conferring_resistance_to_rifampicin_-1.0\n",
            "adeI_-1.0\n",
            "adeJ_-1.0\n",
            "Clostridioides_difficile_gyrB_conferring_resistance_to_fluoroquinolone_-1.0\n",
            "Clostridioides_difficile_gyrB_conferring_resistance_to_fluoroquinolone_cp1_-1.0\n",
            "Escherichia_coli_soxR_with_mutation_conferring_antibiotic_resistance_-1.0\n",
            "Acinetobacter_baumannii_AbaF_-1.0\n",
            "sul2_-1.0\n",
            "sul2_cp1_-1.0\n",
            "sul2_cp2_-1.0\n",
            "tet(B)_-1.0\n",
            "APH(6)-Id_-1.0\n",
            "APH(6)-Id_cp1_-1.0\n",
            "APH(3'')-Ib_-1.0\n",
            "APH(3'')-Ib_cp1_-1.0\n",
            "OXA-23_-1.0\n",
            "OXA-23_cp1_-1.0\n",
            "AAC(3)-IIe_-1.0\n",
            "AAC(6')-Ian_-1.0\n",
            "TEM-1_-1.0\n",
            "Escherichia_coli_gyrA_conferring_resistance_to_fluoroquinolones_-1.0\n",
            "Mycobacterium_tuberculosis_thyA_with_mutation_conferring_resistance_to_para-aminosalicylic_acid_-1.0\n",
            "Mycobacterium_tuberculosis_thyA_with_mutation_conferring_resistance_to_para-aminosalicylic_acid_cp1_-1.0\n",
            "Mycobacterium_tuberculosis_katG_mutations_conferring_resistance_to_isoniazid_-1.0\n",
            "tetR_-1.0\n",
            "ugd_-1.0\n",
            "OXA-65_-1.0\n",
            "cmlB1_-1.0\n",
            "OXA-90_-1.0\n",
            "Salmonella_serovars_gyrB_conferring_resistance_to_fluoroquinolone_-1.0\n",
            "ADC-2_-1.0\n",
            "CTX-M-115_-1.0\n",
            "mphE_-1.0\n",
            "msrE_-1.0\n",
            "armA_-1.0\n",
            "CARB-16_-1.0\n",
            "APH(3')-Ia_-1.0\n",
            "APH(3')-Ia_cp1_-1.0\n",
            "ANT(2'')-Ia_-1.0\n",
            "Escherichia_coli_EF-Tu_mutants_conferring_resistance_to_Pulvomycin_-1.0\n",
            "Escherichia_coli_EF-Tu_mutants_conferring_resistance_to_Pulvomycin_cp1_-1.0\n",
            "OXA-366_-1.0\n",
            "OXA-68_-1.0\n",
            "ADC-76_-1.0\n",
            "OXA-106_-1.0\n",
            "OXA-255_-1.0\n",
            "OXA-72_-1.0\n",
            "tmrB_-1.0\n",
            "vanRF_-1.0\n",
            "vanSM_-1.0\n",
            "bmr_-1.0\n",
            "Staphylococcus_aureus_rpoB_mutants_conferring_resistance_to_rifampicin_-1.0\n",
            "ykkD_-1.0\n",
            "ykkC_-1.0\n",
            "Clostridioides_difficile_gyrA_conferring_resistance_to_fluoroquinolones_-1.0\n",
            "Acinetobacter_baumannii_ampC_beta-lactamase_-1.0\n",
            "BRP(MBL)_-1.0\n",
            "NDM-1_-1.0\n",
            "adeC_-1.0\n",
            "OXA-385_-1.0\n",
            "dfrA20_-1.0\n",
            "Tet(X3)_-1.0\n",
            "VEB-9_-1.0\n",
            "APH(3')-VI_-1.0\n",
            "ADC-58_-1.0\n",
            "OXA-120_-1.0\n",
            "golS_-1.0\n",
            "sul1_-1.0\n",
            "sul1_cp1_-1.0\n",
            "qacH_-1.0\n",
            "VIM-4_-1.0\n",
            "AAC(6')-Ib7_-1.0\n",
            "APH(3')-VIa_-1.0\n",
            "OXA-259_-1.0\n",
            "OXA-146_-1.0\n",
            "floR_-1.0\n",
            "ADC-6_-1.0\n",
            "OXA-51_-1.0\n",
            "OprM_-1.0\n",
            "mdsA_-1.0\n",
            "KPC-2_-1.0\n",
            "AAC(3)-IIc_-1.0\n",
            "aadA_-1.0\n",
            "SAT-2_-1.0\n",
            "dfrA1_-1.0\n",
            "Escherichia_coli_emrE_-1.0\n",
            "mdsC_-1.0\n",
            "OXA-66_-1.0\n",
            "ADC-30_-1.0\n",
            "AAC(3)-Ia_-1.0\n",
            "ADC-79_-1.0\n",
            "OXA-71_-1.0\n",
            "tet(A)_-1.0\n",
            "OXA-113_-1.0\n",
            "dfrB1_-1.0\n",
            "aadA11_-1.0\n",
            "SHV-5_-1.0\n",
            "OXA-402_-1.0\n",
            "ADC-3_-1.0\n",
            "OXA-317_-1.0\n",
            "ADC-81_-1.0\n",
            "tet(D)_-1.0\n",
            "catB8_-1.0\n",
            "OXA-235_-1.0\n",
            "arr-2_-1.0\n",
            "cmlA5_-1.0\n",
            "PER-7_-1.0\n",
            "OXA-144_-1.0\n",
            "OXA-371_-1.0\n",
            "OXA-24_-1.0\n",
            "ADC-77_-1.0\n",
            "ADC-25_-1.0\n",
            "aadA2_-1.0\n",
            "OXA-223_-1.0\n",
            "ADC-82_-1.0\n",
            "catB3_-1.0\n",
            "AAC(6')-Iaf_-1.0\n",
            "OXA-100_-1.0\n",
            "OXA-121_-1.0\n",
            "OXA-82_-1.0\n",
            "ADC-56_-1.0\n",
            "FosA6_-1.0\n",
            "OXA-338_-1.0\n",
            "OXA-58_-1.0\n",
            "OXA-314_-1.0\n",
            "OXA-340_-1.0\n",
            "OXA-94_-1.0\n",
            "OXA-98_-1.0\n",
            "ADC-7_-1.0\n",
            "OXA-171_-1.0\n",
            "OXA-78_-1.0\n",
            "OXA-69_-1.0\n",
            "ADC-74_-1.0\n",
            "Mycobacterium_tuberculosis_rpsL_mutations_conferring_resistance_to_Streptomycin_-1.0\n",
            "OXA-217_-1.0\n",
            "OXA-172_-1.0\n",
            "ADC-4_-1.0\n",
            "Salmonella_enterica_gyrA_with_mutation_conferring_resistance_to_triclosan_-1.0\n",
            "ADC-10_-1.0\n",
            "rosB_-1.0\n",
            "catI_-1.0\n",
            "tet(39)_-1.0\n",
            "ADC-43_-1.0\n",
            "OXA-407_-1.0\n",
            "OXA-429_-1.0\n",
            "OXA-208_-1.0\n",
            "OXA-263_-1.0\n",
            "FosC2_-1.0\n",
            "ANT(3'')-IIa_-1.0\n",
            "ADC-11_-1.0\n",
            "GES-11_-1.0\n",
            "aadA3_-1.0\n",
            "dfrA19_-1.0\n",
            "Haemophilus_parainfluenzae_parC_conferring_resistance_to_fluoroquinolones_-1.0\n",
            "CTX-M-15_-1.0\n",
            "PER-1_-1.0\n",
            "catB11_-1.0\n",
            "cmlA6_-1.0\n",
            "CARB-3_-1.0\n",
            "Pseudomonas_aeruginosa_parE_conferring_resistance_to_fluoroquinolones_-1.0\n",
            "OXA-88_-1.0\n",
            "OXA-365_-1.0\n",
            "OXA-95_-1.0\n",
            "OXA-126_-1.0\n",
            "ADC-75_-1.0\n",
            "AAC(3)-IId_-1.0\n",
            "OXA-374_-1.0\n",
            "OXA-387_-1.0\n",
            "arr-3_-1.0\n",
            "AAC(6')-Ib9_-1.0\n",
            "IMP-16_-1.0\n",
            "OXA-70_-1.0\n",
            "OXA-253_-1.0\n",
            "ADC-73_-1.0\n",
            "dfrA16_-1.0\n",
            "CARB-4_-1.0\n",
            "OXA-424_-1.0\n",
            "OXA-431_-1.0\n",
            "OXA-104_-1.0\n",
            "OXA-132_-1.0\n",
            "OXA-180_-1.0\n",
            "Index(['OXA-64_1.0', 'rosA_1.0', 'rosA_10.0', 'rosA_11.0', 'rosA_12.0',\n",
            "       'rosA_13.0', 'rosA_14.0', 'rosA_15.0', 'rosA_16.0', 'rosA_17.0',\n",
            "       ...\n",
            "       'OXA-70_1.0', 'OXA-253_1.0', 'ADC-73_1.0', 'dfrA16_1.0', 'CARB-4_1.0',\n",
            "       'OXA-424_1.0', 'OXA-431_1.0', 'OXA-104_1.0', 'OXA-132_1.0',\n",
            "       'OXA-180_1.0'],\n",
            "      dtype='object', length=1330)\n",
            "(342, 1330)\n"
          ],
          "name": "stdout"
        }
      ]
    },
    {
      "cell_type": "code",
      "metadata": {
        "colab": {
          "base_uri": "https://localhost:8080/"
        },
        "id": "OiSrEAajcYzZ",
        "outputId": "ec858021-8c3c-4277-aad9-d4707871571a"
      },
      "source": [
        "#convierto la variable de \"y\" en log2\n",
        "\n",
        "y_test1 = np.log2(y)\n",
        "print(y_test1)\n"
      ],
      "execution_count": 38,
      "outputs": [
        {
          "output_type": "stream",
          "text": [
            "0      7.0\n",
            "1      6.0\n",
            "2      5.0\n",
            "3      5.0\n",
            "4      5.0\n",
            "      ... \n",
            "337    5.0\n",
            "338    6.0\n",
            "339    6.0\n",
            "340    4.0\n",
            "341    6.0\n",
            "Name: AMIKACINA, Length: 342, dtype: float64\n"
          ],
          "name": "stdout"
        }
      ]
    },
    {
      "cell_type": "code",
      "metadata": {
        "colab": {
          "base_uri": "https://localhost:8080/"
        },
        "id": "mvAH5EVXccsw",
        "outputId": "63502208-f507-47b3-e7da-469bdf6db651"
      },
      "source": [
        "#hacer prediccion \n",
        "Lasso_from_joblib = joblib.load('/content/amk-100-rl.pkl') #cargar archivo pkl correspondiente al modelo que desea probar\n",
        "print(\"Predicciones\")\n",
        "predictions = 2**np.round(Lasso_from_joblib.predict(datadummy))\n",
        "print(predictions)\n",
        "verdaderos = y.to_numpy()\n",
        "print(verdaderos)\n",
        "# Por último, calculamos el error cuadrático medio y el estadístico R^2\n",
        "print ('Error cuadrático medio: %.2f' % mean_squared_error(y_test1, np.log2(predictions)))\n",
        "print ('Estadístico R_2: %.2f' % r2_score(y_test1, np.log2(predictions)))\n",
        "print(mean_absolute_error(y_test1, np.log2(predictions)))"
      ],
      "execution_count": 29,
      "outputs": [
        {
          "output_type": "stream",
          "text": [
            "Predicciones\n",
            "[ 32.  32.  64.  64.  16.  64.  16.  64.  32.  64.  64. 256.  64.   8.\n",
            "  64.  64.  16.  16.  32.  64.  64.  64.  32.  32.  16.  16.  64.  32.\n",
            "  16.  64.  32.  64.  16.   8.  64.  64.  32.  32.  64.  32. 128.  64.\n",
            "  64.  16.  16.  16.  64.  64.   8.  32.  16.   8.  64.  64. 128.  64.\n",
            " 128.  64.  64.  16.  16.  32. 128.  32.  64.  16.  32.  32.  16.  16.\n",
            "  64. 128.  64.  64.  16.  32.  16.  32.  32.  16.  32.  64.   8.  64.\n",
            "  32.  32.  32.  32.  16.  32.  64.  16.  16.  32.   8.  64.  32.  32.\n",
            "  16.   8.  32.   8.  64.  16.  32.   8.  32.   8.   8.   8.  32.   8.\n",
            "   8.  32.  32.   8.   8.  16.  16.   8.  32.  32.  64.   8.   8.  32.\n",
            "  32.  16.  32.   8.   8.   8.  32.  32.   8.  16.  16.  32.  32.  16.\n",
            "  16.  16.  32.  32.   8.  16.   8.  32.  32.   8.  16.   8.  32.   8.\n",
            "  64.  32.  32.   8.   8.  32.  32.  32.   8.  16.  64.   8.   8.  32.\n",
            "   8.  32.  32.  32.  32.  32.  16.  32.  16.  32.  64.  32.  32.   8.\n",
            "   8.  32.  32.  32.  32.  16.   8.  32.  16.   8.  32.  16.  32.  16.\n",
            "  32.   8.   8.  32.  32.  32.   8.  16.  32.  32.  32.  16.   8.   8.\n",
            "  32.  16.  32.  16.  16.   8.  64.   8.  32.   8.   8.  16.  64.  16.\n",
            "  16.  32.  32.  64.   8.  32.  16.  32.  16.  16.   4.   8.   8.   8.\n",
            "   8.   8.  32.  16.  16.   8.   8.   8.  32.  32.  16.   8.  16.  32.\n",
            "  32.  32.  16.   8.  16.  16.   8.  32.  16.  16.   8.   8.  16.   8.\n",
            "   8.  16.   8.  16.  16.   8.  32.  16.  16.  32.  32.  64.  64.  64.\n",
            "   8.   8.   8.   8.  32.  16.  16.  16.  64.   8.  64.  64.  16.   8.\n",
            "   8.  64.  32.  16.   8.   8.   8.   8.  16.  16.   8.  32.   4.   8.\n",
            "  16.   8.   8.  16.  32.   8.  32.   8.  32.   8.  16.  32.  64.  64.\n",
            "  32.  16.  16.  16.  16.  16.   8.   8.   8.   8.  64.  64.  64.  32.\n",
            "  32.  16.  32.  64.  16.  64.]\n",
            "[ 128   64   32   32   32  128   32   32    8  128   64 1024   16    2\n",
            "   32   32    4    4  128  128   32   64   64   64   32   16   32   32\n",
            "   64   32   32  128   32    2  128   32   16   64   32   64   64  128\n",
            "  128   16   32    4   64  128    2  128   32    4  128   64   64  128\n",
            "  256  128  128   16    4   32  128   64   64   32   32   32   32   32\n",
            "    8   64   64   32   32   32   16   64   64   16   64   64   16   32\n",
            "   32   32   32   32   32   32   32   64   32   32   16   64   32    8\n",
            "   32    4   32    8   32    4   32    4   32    4    4    4   32    4\n",
            "    4   32   32    4   32    4   32    4   32   32   32    4    4   32\n",
            "   32    8   32    4    4    4   32   32    4   32   16   32   32    4\n",
            "   32   32    8   32    4    4    8   32   32    4    4    4   32    4\n",
            "   32   32   32    4    4   32   32   32    4    8   32    4    4   32\n",
            "    4   32   32   32   32   32   32   32   32   32   32   32   32    4\n",
            "    4   32   32   32   32    4    4   16    4    4   32   32   32    8\n",
            "   32    4    4   32   32   32    4   32   32   32   32   32    4    4\n",
            "   32   32   32   32    4    4   32    4   32    4    4    4   32   32\n",
            "   32   32   32   32    4   32   32   32    4    4    4    4    4    4\n",
            "    4    4   32   32    4    4    4    4   32   32   32    4   32   64\n",
            "   64   64   16   16   16   16   16   64   16   16   16   16   16   16\n",
            "   16   16   16   16   16   16   32   16   64   64   64   64   32   64\n",
            "   16   16   16   16   64   16   16   64   64   16   64   64   16   16\n",
            "   16   64   64   16   16   16   16   16   16   16   16   64   16   16\n",
            "   16   16   16   16   64   16   64   16   64   16   16   32   64   64\n",
            "   64   64   32   16   16   16   16   16   16   16   64   64   64   64\n",
            "   16   32   64   64   16   64]\n",
            "Error cuadrático medio: 0.95\n",
            "Estadístico R_2: 0.58\n",
            "0.7368421052631579\n"
          ],
          "name": "stdout"
        }
      ]
    },
    {
      "cell_type": "code",
      "metadata": {
        "id": "UVCyL1YLdSPj"
      },
      "source": [
        "#funcion para calcular la excatitud con +/- una dilucion \n",
        "def within_dillution(y, predictions, dill=2):\n",
        "    frac = np.array(y) / np.array(predictions)\n",
        "    return ((frac >= 1/dill) & (frac <= dill)).mean()\n",
        "   "
      ],
      "execution_count": 30,
      "outputs": []
    },
    {
      "cell_type": "code",
      "metadata": {
        "colab": {
          "base_uri": "https://localhost:8080/"
        },
        "id": "5WQj-cSRdYvG",
        "outputId": "2f6009b9-9500-4ca3-9ffb-58fcdc17e7a7"
      },
      "source": [
        "acc2 = within_dillution(y, predictions, dill=2)\n",
        "acc4 = within_dillution(y, predictions, dill=4)\n",
        "print(acc2)\n",
        "print(acc4)"
      ],
      "execution_count": 31,
      "outputs": [
        {
          "output_type": "stream",
          "text": [
            "0.8976608187134503\n",
            "0.9970760233918129\n"
          ],
          "name": "stdout"
        }
      ]
    },
    {
      "cell_type": "code",
      "metadata": {
        "colab": {
          "base_uri": "https://localhost:8080/"
        },
        "id": "qRLBFLpXdcNe",
        "outputId": "9ae20e8b-ce3e-405f-ac05-1b0774fa79e3"
      },
      "source": [
        "threshold = 16 # estos valores correspondientes a los puntos de corte del para clasificar como suceptible un genoma (varia segun antibiotico)\n",
        "threshold1 = 32 # valor correspondiente a los puntos de corte para clasificar como intermedio en el caso que amerite, caso contrario colocamos suceptible\n",
        "predDF = pd.DataFrame({'predictions':predictions, 'y':y})\n",
        "vme = len(predDF[(predDF.predictions<=threshold) & (predDF.y>threshold1)])\n",
        "me = len(predDF[(predDF.predictions>threshold1) & (predDF.y<=threshold)])\n",
        "print(vme)\n",
        "print(me)"
      ],
      "execution_count": 32,
      "outputs": [
        {
          "output_type": "stream",
          "text": [
            "5\n",
            "2\n"
          ],
          "name": "stdout"
        }
      ]
    }
  ]
}