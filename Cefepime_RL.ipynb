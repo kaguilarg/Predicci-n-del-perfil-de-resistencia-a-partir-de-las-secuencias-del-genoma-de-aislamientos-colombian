{
  "nbformat": 4,
  "nbformat_minor": 0,
  "metadata": {
    "colab": {
      "name": "Cefepime-RL",
      "provenance": []
    },
    "kernelspec": {
      "name": "python3",
      "display_name": "Python 3"
    },
    "language_info": {
      "name": "python"
    }
  },
  "cells": [
    {
      "cell_type": "code",
      "metadata": {
        "colab": {
          "base_uri": "https://localhost:8080/"
        },
        "id": "RVFM_CjtooVt",
        "outputId": "ed361c12-436d-44ae-a8d2-7e0be8caf7cd"
      },
      "source": [
        "import pandas as pd\n",
        "import numpy as np\n",
        "import math \n",
        "import matplotlib.pyplot as plt \n",
        "from sklearn.linear_model import Lasso\n",
        "from sklearn.linear_model import LinearRegression\n",
        "from sklearn.metrics import r2_score\n",
        "from sklearn.metrics import mean_squared_error\n",
        "from sklearn.metrics import mean_absolute_error\n",
        "from sklearn.model_selection import cross_val_score\n",
        "from sklearn.preprocessing import OneHotEncoder\n",
        "from sklearn.metrics import  make_scorer\n",
        "from sklearn.externals import joblib"
      ],
      "execution_count": 3,
      "outputs": [
        {
          "output_type": "stream",
          "text": [
            "/usr/local/lib/python3.7/dist-packages/sklearn/externals/joblib/__init__.py:15: FutureWarning: sklearn.externals.joblib is deprecated in 0.21 and will be removed in 0.23. Please import this functionality directly from joblib, which can be installed with: pip install joblib. If this warning is raised when loading pickled models, you may need to re-serialize those models with scikit-learn 0.21+.\n",
            "  warnings.warn(msg, category=FutureWarning)\n"
          ],
          "name": "stderr"
        }
      ]
    },
    {
      "cell_type": "code",
      "metadata": {
        "colab": {
          "base_uri": "https://localhost:8080/"
        },
        "id": "q7g-IAraqwtO",
        "outputId": "bfbfc6da-c82d-4769-c52b-e4df8e7a8be4"
      },
      "source": [
        "#cargo los datos en el dataframe\n",
        "dataframe=pd.read_csv('/content/95-cefe-343.csv') #cargar archivo generado por tablaAlelosAB.py\n",
        "dataframe = dataframe.drop(['id', 'aislamiento', 'CEFI'], axis='columns') #CEFI hace referencia a la columna en donde esta clasificado el aislamiento como sensible, intermedio, resistente. En caso que contengan esa columna eliminar CEFI\n",
        "print(dataframe)"
      ],
      "execution_count": 4,
      "outputs": [
        {
          "output_type": "stream",
          "text": [
            "     OXA-64  rosA  rosA_cp1  macB  ...  OXA-104  OXA-132  OXA-180  CEFEPIME\n",
            "0       1.0   1.0      -1.0   1.0  ...     -1.0     -1.0     -1.0       256\n",
            "1       1.0   1.0      -1.0   1.0  ...     -1.0     -1.0     -1.0        64\n",
            "2      -1.0   1.0      -1.0   1.0  ...     -1.0     -1.0     -1.0        32\n",
            "3      -1.0   1.0      -1.0   1.0  ...     -1.0     -1.0     -1.0        32\n",
            "4      -1.0   1.0      -1.0   1.0  ...     -1.0     -1.0     -1.0        64\n",
            "..      ...   ...       ...   ...  ...      ...      ...      ...       ...\n",
            "338    -1.0   1.0      -1.0   1.0  ...     -1.0      1.0     -1.0        32\n",
            "339    -1.0   1.0      -1.0   1.0  ...     -1.0     -1.0     -1.0         8\n",
            "340    -1.0   1.0      -1.0   1.0  ...     -1.0     -1.0      1.0         8\n",
            "341    -1.0   1.0      -1.0   1.0  ...     -1.0     -1.0     -1.0         8\n",
            "342    -1.0   1.0      -1.0   1.0  ...     -1.0     -1.0     -1.0        32\n",
            "\n",
            "[343 rows x 212 columns]\n"
          ],
          "name": "stdout"
        }
      ]
    },
    {
      "cell_type": "code",
      "metadata": {
        "id": "_ldFHTcfrAq9"
      },
      "source": [
        "#defino las variables \"X\" y \"y\"\n",
        "X = dataframe.drop(['CEFEPIME'], axis='columns')\n",
        "y = dataframe.iloc[:, -1] \n",
        "print(X)\n",
        "print(y)"
      ],
      "execution_count": null,
      "outputs": []
    },
    {
      "cell_type": "code",
      "metadata": {
        "id": "R3-U-7M5rH0P"
      },
      "source": [
        "#cambio de variables a categoricas por dummys \n",
        "datadummy = pd.get_dummies(X.astype(str))\n",
        "print(datadummy)"
      ],
      "execution_count": null,
      "outputs": []
    },
    {
      "cell_type": "code",
      "metadata": {
        "id": "sbIdyhb7rK5l"
      },
      "source": [
        "#Eliminar columnas que indican la ausencia del gen \n",
        "for col in datadummy.columns: \n",
        "  if col[-4:] == '-1.0':\n",
        "    print(col)\n",
        "    del(datadummy[col])\n",
        "\n",
        "print(datadummy.columns)\n",
        "print(datadummy.shape)"
      ],
      "execution_count": null,
      "outputs": []
    },
    {
      "cell_type": "code",
      "metadata": {
        "colab": {
          "base_uri": "https://localhost:8080/"
        },
        "id": "9uCbHrRKrL4U",
        "outputId": "0de80b31-7b41-43db-e662-bf27db134fac"
      },
      "source": [
        "#convierto la variable de \"y\" en log2\n",
        "y_test1 = np.log2(y)\n",
        "print(y_test1)"
      ],
      "execution_count": 8,
      "outputs": [
        {
          "output_type": "stream",
          "text": [
            "0      8.0\n",
            "1      6.0\n",
            "2      5.0\n",
            "3      5.0\n",
            "4      6.0\n",
            "      ... \n",
            "338    5.0\n",
            "339    3.0\n",
            "340    3.0\n",
            "341    3.0\n",
            "342    5.0\n",
            "Name: CEFEPIME, Length: 343, dtype: float64\n"
          ],
          "name": "stdout"
        }
      ]
    },
    {
      "cell_type": "code",
      "metadata": {
        "colab": {
          "base_uri": "https://localhost:8080/"
        },
        "id": "lUT8k7sPruYD",
        "outputId": "710b7c16-2afc-47ff-f45d-6ecabbdc915e"
      },
      "source": [
        "#hacer prediccion \n",
        "Lasso_from_joblib = joblib.load('/content/CEFEPIME-95-rl.pkl') #cargar archivo pkl correspondiente al modelo que desea probar\n",
        "print(\"Predicciones\")\n",
        "predictions = 2**np.round(Lasso_from_joblib.predict(datadummy))\n",
        "print(predictions)\n",
        "verdaderos = y.to_numpy()\n",
        "print(verdaderos)\n",
        "# Por último, calculamos el error cuadrático medio y el estadístico R^2\n",
        "print ('Error cuadrático medio: %.2f' % mean_squared_error(y_test1, np.log2(predictions)))\n",
        "print ('Estadístico R_2: %.2f' % r2_score(y_test1, np.log2(predictions)))\n",
        "print(mean_absolute_error(y_test1, np.log2(predictions)))"
      ],
      "execution_count": 9,
      "outputs": [
        {
          "output_type": "stream",
          "text": [
            "Predicciones\n",
            "[ 64.  64.  64.  64.  64.  32.  64.  64.  64.  32. 128. 256.  64.   4.\n",
            "  64.  64.  64.  64.  64.  64. 128.  64. 128.  64.  64. 128.  64.  64.\n",
            "  64.  64.  64.  32.  64.   8.  32.  32.  32.  64.  64.  64.  64.  16.\n",
            "  64.   4.  16.  32.  64.  32.  32.  64. 256.  32.  64.  64. 256.  32.\n",
            "  32.  32.  32.  64.  32.  32. 128. 128. 128.  64. 128. 128.  64.  64.\n",
            "  32. 128.  64.  64.  64.  64.  16.  16.  16.  16.  16.  32.   4.  32.\n",
            "  16.  32.  32.  32.  16.  32.  32.  32.  32.  32.  32.   4.   8.  16.\n",
            "  16.  16.  16.  16.  16.  16.  16.  16.   4.  16.  16.   4.   4.  16.\n",
            "   4.   4.  16.  16.   4.  16.   8.  16.   4.  16.  16.  32.   8.   4.\n",
            "  16.  16.  16.  16.   4.   4.   4.  16.  32.  16.  16.  16.  16.  16.\n",
            "  16.  16.  16.  16.  16.   4.  16.   4.  16.  16.   4.   8.  16.  16.\n",
            "   4.  32.  16.  16.   4.   4.  16.  16.  16.  16.  16.  32.   8.   4.\n",
            "  16.   4.  16.  16.  16.  16.  16.  16.  16.   8.  16.  32.  16.  16.\n",
            "   4.   8.  16.  16.  16.  16.  16.  16.  16.  16.   4.  16.  16.  16.\n",
            "   8.  16.   2.   4.  16.  16.  16.   4.  16.  16.  16.  16.  16.   4.\n",
            "   8.  16.  16.  16.  16.  16.   8.  32.  16.   4.   4.   4.  16.  32.\n",
            "  16.   8.  16.  16.  16.   4.  16.   8.  16.  16.   8.   4.   4.   4.\n",
            "   8.   4.   2.  16.  16.  16.   4.   4.   4.  16.  16.  16.  16.   8.\n",
            "  32.  16.  32.  16.   4.   8.  32.   4.  16.   8.   8.  16.  16.   4.\n",
            "   4.  16.   8.   4.  16.  16.   4.  32.   8.  16.  16.  16.  32.  16.\n",
            "  16.   4.   4.   4.   4.  16.  32.  16.  16.   8.   4.  16.  16.   4.\n",
            "   8.   8.  16.  16.   4.   4.   4.   4.   4.  16.   4.   4.  32.   4.\n",
            "   4.   4.   4.   4.   4.  16.   4.  16.   4.  16.   4.  16.  32.  64.\n",
            "  32.  32.  16.  16.  32.  16.  16.   4.   4.   4.   4.  16.  32.  16.\n",
            "  16.  32.  16.  32.  16.   4.  16.]\n",
            "[256  64  32  32  64  32  64  64 256  32  64 512  32   4 128  64 512  16\n",
            "  64  32 512  32 256  32  64 512  64 128 128 512 128  64  32   8  64  64\n",
            "  32  32  32 128  32  32 256   2 256   8  32   4  16  32 512  64  64 128\n",
            " 512  32  32  32  32  32  32  32  32  16 128  32  64 512  64  32 256  32\n",
            "  64  64 128  64  32  32  32  32  32  32   8  32  32  32  32  32  32  32\n",
            "  32  32  32  32  32   8   8  16   2  16  16  16  16  16  16  16   2  16\n",
            "  16   2   2  16   2   2  16  16   2  16   4  16   2  16  16  16   4   2\n",
            "  16  16   8  16   2   2   2  16  16   4  16  16  16  16  16  16  16  16\n",
            "  16   2  16   2  16   8   2   2  16  16   2  16  16  16   2   2  16  16\n",
            "  16  16   8  16   2  16  16   2  16  16  16  16  16  16  16  16  16  16\n",
            "  16  16   2  16  16  16  16  16  16  16  16  16   2  16  16  16  16  16\n",
            "   2   2  16  16  16   4  16  16  16  16  16   2  16  16  16  16  16  16\n",
            "   4  16  16   4   2   2  16  16   8   2  16  16  16   2  16  16  16  16\n",
            "   4   2   2   2   2   8   2  16  16  16   2   2   2  16  16  16  16  16\n",
            "  32  32  32   8   8   8  32   8   8   8   8  32  32   8   8   8   8   8\n",
            "   8  32   8  32   8  32  32  32  32   8  32   8   8   8   8  32  32  32\n",
            "  32   8   8  32  32   8   8  32   8   8   8   8   8   8   8  32   8   8\n",
            "  32   8   8   8   8   8   8  32   8  32   8  32   8  32  32  32  32  32\n",
            "  32   8  32   8   8   8   8   8   8  32  32  32  32  32  32   8   8   8\n",
            "  32]\n",
            "Error cuadrático medio: 0.90\n",
            "Estadístico R_2: 0.68\n",
            "0.6530612244897959\n"
          ],
          "name": "stdout"
        }
      ]
    },
    {
      "cell_type": "code",
      "metadata": {
        "colab": {
          "base_uri": "https://localhost:8080/"
        },
        "id": "V8DIGR53r0NT",
        "outputId": "b87e6ee2-37f8-4734-ea3f-415313712b17"
      },
      "source": [
        "#funcion para calcular la excatitud con +/- una dilucion \n",
        "def within_dillution(y, predictions, dill=2):\n",
        "    frac = np.array(y) / np.array(predictions)\n",
        "    return ((frac >= 1/dill) & (frac <= dill)).mean()\n",
        "acc2 = within_dillution(y, predictions, dill=2)\n",
        "acc4 = within_dillution(y, predictions, dill=4)\n",
        "print(acc2)\n",
        "print(acc4)\n",
        "threshold = 8 # estos valores correspondientes a los puntos de corte del para clasificar como suceptible un genoma (varia segun antibiotico)\n",
        "threshold1 = 16 # valor correspondiente a los puntos de corte para clasificar como intermedio en el caso que amerite, caso contrario colocamos suceptible\n",
        "predDF = pd.DataFrame({'predictions':predictions, 'y':y})\n",
        "vme = len(predDF[(predDF.predictions<=threshold) & (predDF.y>threshold1)])\n",
        "me = len(predDF[(predDF.predictions>threshold1) & (predDF.y<=threshold)])\n",
        "print(vme)\n",
        "print(me)"
      ],
      "execution_count": 10,
      "outputs": [
        {
          "output_type": "stream",
          "text": [
            "0.9271137026239067\n",
            "0.9795918367346939\n",
            "1\n",
            "3\n"
          ],
          "name": "stdout"
        }
      ]
    }
  ]
}