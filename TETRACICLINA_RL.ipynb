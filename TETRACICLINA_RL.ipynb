{
  "nbformat": 4,
  "nbformat_minor": 0,
  "metadata": {
    "colab": {
      "name": "TETRACICLINA-RL",
      "provenance": []
    },
    "kernelspec": {
      "name": "python3",
      "display_name": "Python 3"
    },
    "language_info": {
      "name": "python"
    }
  },
  "cells": [
    {
      "cell_type": "code",
      "metadata": {
        "colab": {
          "base_uri": "https://localhost:8080/"
        },
        "id": "RVFM_CjtooVt",
        "outputId": "ed361c12-436d-44ae-a8d2-7e0be8caf7cd"
      },
      "source": [
        "import pandas as pd\n",
        "import numpy as np\n",
        "import math \n",
        "import matplotlib.pyplot as plt \n",
        "from sklearn.linear_model import Lasso\n",
        "from sklearn.linear_model import LinearRegression\n",
        "from sklearn.metrics import r2_score\n",
        "from sklearn.metrics import mean_squared_error\n",
        "from sklearn.metrics import mean_absolute_error\n",
        "from sklearn.model_selection import cross_val_score\n",
        "from sklearn.preprocessing import OneHotEncoder\n",
        "from sklearn.metrics import  make_scorer\n",
        "from sklearn.externals import joblib"
      ],
      "execution_count": null,
      "outputs": [
        {
          "output_type": "stream",
          "text": [
            "/usr/local/lib/python3.7/dist-packages/sklearn/externals/joblib/__init__.py:15: FutureWarning: sklearn.externals.joblib is deprecated in 0.21 and will be removed in 0.23. Please import this functionality directly from joblib, which can be installed with: pip install joblib. If this warning is raised when loading pickled models, you may need to re-serialize those models with scikit-learn 0.21+.\n",
            "  warnings.warn(msg, category=FutureWarning)\n"
          ],
          "name": "stderr"
        }
      ]
    },
    {
      "cell_type": "code",
      "metadata": {
        "colab": {
          "base_uri": "https://localhost:8080/"
        },
        "id": "q7g-IAraqwtO",
        "outputId": "bfbfc6da-c82d-4769-c52b-e4df8e7a8be4"
      },
      "source": [
        "#cargo los datos en el dataframe\n",
        "dataframe=pd.read_csv('/content/97-fosfo-343.csv')\n",
        "dataframe = dataframe.drop(['id', 'aislamiento', 'TRETAI'], axis='columns')\n",
        "print(dataframe)"
      ],
      "execution_count": null,
      "outputs": [
        {
          "output_type": "stream",
          "text": [
            "     OXA-64  rosA  rosA_cp1  macB  ...  OXA-104  OXA-132  OXA-180  CEFEPIME\n",
            "0       1.0   1.0      -1.0   1.0  ...     -1.0     -1.0     -1.0       256\n",
            "1       1.0   1.0      -1.0   1.0  ...     -1.0     -1.0     -1.0        64\n",
            "2      -1.0   1.0      -1.0   1.0  ...     -1.0     -1.0     -1.0        32\n",
            "3      -1.0   1.0      -1.0   1.0  ...     -1.0     -1.0     -1.0        32\n",
            "4      -1.0   1.0      -1.0   1.0  ...     -1.0     -1.0     -1.0        64\n",
            "..      ...   ...       ...   ...  ...      ...      ...      ...       ...\n",
            "338    -1.0   1.0      -1.0   1.0  ...     -1.0      1.0     -1.0        32\n",
            "339    -1.0   1.0      -1.0   1.0  ...     -1.0     -1.0     -1.0         8\n",
            "340    -1.0   1.0      -1.0   1.0  ...     -1.0     -1.0      1.0         8\n",
            "341    -1.0   1.0      -1.0   1.0  ...     -1.0     -1.0     -1.0         8\n",
            "342    -1.0   1.0      -1.0   1.0  ...     -1.0     -1.0     -1.0        32\n",
            "\n",
            "[343 rows x 212 columns]\n"
          ],
          "name": "stdout"
        }
      ]
    },
    {
      "cell_type": "code",
      "metadata": {
        "id": "_ldFHTcfrAq9"
      },
      "source": [
        "#defino las variables \"X\" y \"y\"\n",
        "X = dataframe.drop(['TETRACICLINA_'], axis='columns')\n",
        "y = dataframe.iloc[:, -1] \n",
        "print(X)\n",
        "print(y)"
      ],
      "execution_count": null,
      "outputs": []
    },
    {
      "cell_type": "code",
      "metadata": {
        "id": "R3-U-7M5rH0P"
      },
      "source": [
        "#cambio de variables a categoricas por dummys \n",
        "datadummy = pd.get_dummies(X.astype(str))\n",
        "print(datadummy)"
      ],
      "execution_count": null,
      "outputs": []
    },
    {
      "cell_type": "code",
      "metadata": {
        "id": "sbIdyhb7rK5l"
      },
      "source": [
        "#Eliminar columnas que indican la ausencia del gen \n",
        "for col in datadummy.columns: \n",
        "  if col[-4:] == '-1.0':\n",
        "    print(col)\n",
        "    del(datadummy[col])\n",
        "\n",
        "print(datadummy.columns)\n",
        "print(datadummy.shape)"
      ],
      "execution_count": null,
      "outputs": []
    },
    {
      "cell_type": "code",
      "metadata": {
        "id": "9uCbHrRKrL4U"
      },
      "source": [
        "#convierto la variable de \"y\" en log2\n",
        "y_test1 = np.log2(y)\n",
        "print(y_test1)"
      ],
      "execution_count": null,
      "outputs": []
    },
    {
      "cell_type": "code",
      "metadata": {
        "id": "lUT8k7sPruYD"
      },
      "source": [
        "#hacer prediccion \n",
        "Lasso_from_joblib = joblib.load('/content/CEFEPIME-95-rl.pkl') #cargar archivo pkl correspondiente al modelo que desea probar\n",
        "print(\"Predicciones\")\n",
        "predictions = 2**np.round(Lasso_from_joblib.predict(datadummy))\n",
        "print(predictions)\n",
        "verdaderos = y.to_numpy()\n",
        "print(verdaderos)\n",
        "# Por último, calculamos el error cuadrático medio y el estadístico R^2\n",
        "print ('Error cuadrático medio: %.2f' % mean_squared_error(y_test1, np.log2(predictions)))\n",
        "print ('Estadístico R_2: %.2f' % r2_score(y_test1, np.log2(predictions)))\n",
        "print(mean_absolute_error(y_test1, np.log2(predictions)))"
      ],
      "execution_count": null,
      "outputs": []
    },
    {
      "cell_type": "code",
      "metadata": {
        "id": "V8DIGR53r0NT"
      },
      "source": [
        "#funcion para calcular la excatitud con +/- una dilucion \n",
        "def within_dillution(y, predictions, dill=2):\n",
        "    frac = np.array(y) / np.array(predictions)\n",
        "    return ((frac >= 1/dill) & (frac <= dill)).mean()\n",
        "acc2 = within_dillution(y, predictions, dill=2)\n",
        "acc4 = within_dillution(y, predictions, dill=4)\n",
        "print(acc2)\n",
        "print(acc4)\n",
        "threshold = 4 # estos valores correspondientes a los puntos de corte del para clasificar como suceptible un genoma (varia segun antibiotico)\n",
        "threshold1 = 8 \n",
        "predDF = pd.DataFrame({'predictions':predictions, 'y':y})\n",
        "vme = len(predDF[(predDF.predictions<=threshold) & (predDF.y>threshold1)])\n",
        "me = len(predDF[(predDF.predictions>threshold1) & (predDF.y<=threshold)])\n",
        "print(vme)\n",
        "print(me)"
      ],
      "execution_count": null,
      "outputs": []
    }
  ]
}