{
  "nbformat": 4,
  "nbformat_minor": 0,
  "metadata": {
    "colab": {
      "name": "gardientboosting",
      "provenance": [],
      "collapsed_sections": []
    },
    "kernelspec": {
      "name": "python3",
      "display_name": "Python 3"
    }
  },
  "cells": [
    {
      "cell_type": "code",
      "metadata": {
        "id": "1e3SzqekSDim"
      },
      "source": [
        "#Importar librerias\n",
        "import pandas as pd\n",
        "import numpy as np\n",
        "from sklearn.feature_selection import SelectFromModel\n",
        "from sklearn.ensemble import GradientBoostingRegressor\n",
        "from sklearn.model_selection import train_test_split\n",
        "from sklearn.metrics import mean_squared_error, r2_score, mean_absolute_error\n",
        "from sklearn import metrics\n",
        "from sklearn.model_selection import GridSearchCV\n",
        "from sklearn.model_selection import validation_curve\n",
        "import matplotlib.pyplot as plt "
      ],
      "execution_count": null,
      "outputs": []
    },
    {
      "cell_type": "code",
      "metadata": {
        "id": "0YbihGhVIthw"
      },
      "source": [
        "#leer el dataframe \n",
        "dataframe=pd.read_csv('/content/95-amk-343.csv')\n",
        "dataframe = dataframe.drop(['id', 'aislamiento', 'AMKI'], axis='columns')"
      ],
      "execution_count": null,
      "outputs": []
    },
    {
      "cell_type": "code",
      "metadata": {
        "id": "YS-Oy83BpFpN",
        "colab": {
          "base_uri": "https://localhost:8080/",
          "height": 459
        },
        "outputId": "e832667c-d4bd-4677-edfa-9d8f8e98305e"
      },
      "source": [
        "#defino las variables \"X\" y \"y\"\n",
        "X = dataframe.drop(['AMIKACINA'], axis='columns') #e\n",
        "print(X)\n",
        "print(y)"
      ],
      "execution_count": null,
      "outputs": [
        {
          "output_type": "stream",
          "text": [
            "     APH(3')-VIa  AAC(6')-Ian  ...  OXA-171  OXA-69\n",
            "0           -1.0          1.0  ...     -1.0    -1.0\n",
            "1           -1.0          1.0  ...     -1.0    -1.0\n",
            "2           -1.0          1.0  ...     -1.0    -1.0\n",
            "3           -1.0          1.0  ...     -1.0    -1.0\n",
            "4           -1.0         -1.0  ...     -1.0    -1.0\n",
            "..           ...          ...  ...      ...     ...\n",
            "337         -1.0         -1.0  ...     -1.0    -1.0\n",
            "338         -1.0          1.0  ...     -1.0    -1.0\n",
            "339         -1.0          1.0  ...     -1.0    -1.0\n",
            "340         -1.0         -1.0  ...     -1.0    -1.0\n",
            "341         -1.0         -1.0  ...     -1.0    -1.0\n",
            "\n",
            "[342 rows x 58 columns]\n",
            "0      128\n",
            "1       64\n",
            "2       32\n",
            "3       32\n",
            "4       32\n",
            "      ... \n",
            "337     32\n",
            "338     64\n",
            "339     64\n",
            "340     16\n",
            "341     64\n",
            "Name: AMIKACINA, Length: 342, dtype: int64\n"
          ],
          "name": "stdout"
        }
      ]
    },
    {
      "cell_type": "code",
      "metadata": {
        "id": "MU9xc7puKXNA",
        "colab": {
          "base_uri": "https://localhost:8080/",
          "height": 221
        },
        "outputId": "d88eeb41-0276-4bff-a916-08094ebd940a"
      },
      "source": [
        "#division de los datos en entrenamiento y prueba \n",
        "X_train, X_test, y_train, y_test = train_test_split(X, y, test_size=0.20, random_state=27)\n",
        "#print(X_train)\n",
        "print(y_test)"
      ],
      "execution_count": null,
      "outputs": [
        {
          "output_type": "stream",
          "text": [
            "91     64\n",
            "199    32\n",
            "21     64\n",
            "215     4\n",
            "230    32\n",
            "       ..\n",
            "86     32\n",
            "142     8\n",
            "246    32\n",
            "200    32\n",
            "173    32\n",
            "Name: AMIKACINA, Length: 69, dtype: int64\n"
          ],
          "name": "stdout"
        }
      ]
    },
    {
      "cell_type": "code",
      "metadata": {
        "id": "Yl4Ct2PGrFT_",
        "colab": {
          "base_uri": "https://localhost:8080/",
          "height": 425
        },
        "outputId": "7e04e055-0908-41f4-c612-55942dd14716"
      },
      "source": [
        "#convierto la variable \"y\" en log \n",
        "y_train1 = np.log2(y_train)\n",
        "y_test1 = np.log2(y_test)\n",
        "print(y_test1)\n",
        "print(y_train1)"
      ],
      "execution_count": null,
      "outputs": [
        {
          "output_type": "stream",
          "text": [
            "91     6.0\n",
            "199    5.0\n",
            "21     6.0\n",
            "215    2.0\n",
            "230    5.0\n",
            "      ... \n",
            "86     5.0\n",
            "142    3.0\n",
            "246    5.0\n",
            "200    5.0\n",
            "173    5.0\n",
            "Name: AMIKACINA, Length: 69, dtype: float64\n",
            "69     5.0\n",
            "330    4.0\n",
            "282    4.0\n",
            "213    5.0\n",
            "147    5.0\n",
            "      ... \n",
            "312    6.0\n",
            "31     7.0\n",
            "328    4.0\n",
            "184    5.0\n",
            "19     7.0\n",
            "Name: AMIKACINA, Length: 273, dtype: float64\n"
          ],
          "name": "stdout"
        }
      ]
    },
    {
      "cell_type": "code",
      "metadata": {
        "id": "wfzv5BMlUr92"
      },
      "source": [
        "modelo = GradientBoostingRegressor()"
      ],
      "execution_count": null,
      "outputs": []
    },
    {
      "cell_type": "code",
      "metadata": {
        "id": "0Z2XYWtruGCf",
        "colab": {
          "base_uri": "https://localhost:8080/",
          "height": 275
        },
        "outputId": "26b2a45a-e639-4221-bed6-435b8dbaacf3"
      },
      "source": [
        "#ajuste de hiperparametros por gridesearch\n",
        "modelo1 = GradientBoostingRegressor()\n",
        "max_depth = [5, 6, 7, 8, 10]\n",
        "min_samples_split = [2, 3, 5, 6] \n",
        "max_features = ['auto', 'sqrt', 0.4, 0.5, 0.2, 0.30, 0.6]\n",
        "min_samples_leaf = [1, 2, 3]\n",
        "learning_rate = [0.001, 0.01, 0.05, 0.1, 0.2] \n",
        "n_estimators = [40, 50, 60, 70, 80, 100, 200, 300 ]\n",
        "\n",
        "#hyperF = dict(learning_rate = learning_rate, n_estimators = n_estimators)\n",
        "hyperF = dict(max_depth = max_depth, learning_rate = learning_rate, min_samples_leaf = min_samples_leaf, min_samples_split = min_samples_split, max_features = max_features)\n",
        "gridF = GridSearchCV(modelo1, hyperF, cv = 10, verbose = 1, \n",
        "                      n_jobs = -1)\n",
        "bestF = gridF.fit(X_train, y_train)\n",
        "print('Best Params: ', gridF.best_params_)\n",
        "\n"
      ],
      "execution_count": null,
      "outputs": [
        {
          "output_type": "stream",
          "text": [
            "Fitting 10 folds for each of 2100 candidates, totalling 21000 fits\n"
          ],
          "name": "stdout"
        },
        {
          "output_type": "stream",
          "text": [
            "[Parallel(n_jobs=-1)]: Using backend LokyBackend with 2 concurrent workers.\n",
            "[Parallel(n_jobs=-1)]: Done  46 tasks      | elapsed:    4.4s\n",
            "[Parallel(n_jobs=-1)]: Done 392 tasks      | elapsed:   19.9s\n",
            "[Parallel(n_jobs=-1)]: Done 1392 tasks      | elapsed:  1.1min\n",
            "[Parallel(n_jobs=-1)]: Done 2792 tasks      | elapsed:  2.3min\n",
            "[Parallel(n_jobs=-1)]: Done 4592 tasks      | elapsed:  4.0min\n",
            "[Parallel(n_jobs=-1)]: Done 6792 tasks      | elapsed:  5.8min\n",
            "[Parallel(n_jobs=-1)]: Done 9392 tasks      | elapsed:  8.1min\n",
            "[Parallel(n_jobs=-1)]: Done 12392 tasks      | elapsed: 10.8min\n",
            "[Parallel(n_jobs=-1)]: Done 15792 tasks      | elapsed: 13.6min\n",
            "[Parallel(n_jobs=-1)]: Done 19592 tasks      | elapsed: 16.9min\n"
          ],
          "name": "stderr"
        },
        {
          "output_type": "stream",
          "text": [
            "Best Params:  {'learning_rate': 0.01, 'max_depth': 10, 'max_features': 'sqrt', 'min_samples_leaf': 3, 'min_samples_split': 3}\n"
          ],
          "name": "stdout"
        },
        {
          "output_type": "stream",
          "text": [
            "[Parallel(n_jobs=-1)]: Done 21000 out of 21000 | elapsed: 18.3min finished\n"
          ],
          "name": "stderr"
        }
      ]
    },
    {
      "cell_type": "code",
      "metadata": {
        "id": "-uOH-3s-KlSn"
      },
      "source": [
        "#definir el modelo con los valores optimos establecidos con gride search \n",
        "modelo = GradientBoostingRegressor(max_depth = 10, min_samples_leaf = 3, min_samples_split = 3, max_features = 'sqrt', learning_rate = 0.01)"
      ],
      "execution_count": null,
      "outputs": []
    },
    {
      "cell_type": "code",
      "metadata": {
        "id": "mBDP01YSa4Ld"
      },
      "source": [
        "#tunning de hiperparametros (resultados con RMSE)\n",
        "#parametros = [1, 3, 8, 10, 20, 30, 50, 100, 150, 200, 250] # parametros para n_estimators\n",
        "#train_scores, valid_scores = validation_curve(GradientBoostingRegressor(max_depth= 8, learning_rate = 0.01, max_features= 'sqrt', min_samples_leaf= 3, min_samples_split = 6), X = X_train, y=y_train1, param_name =\"n_estimators\", param_range= parametros, cv=5, scoring=\"neg_mean_squared_error\")\n",
        "#parametros = [1, 2, 3, 4, 5, 6, 7, 10, 15, 20]  #parametros para max_depth\n",
        "#train_scores, valid_scores = validation_curve(GradientBoostingRegressor(), X = X_train, y=y_train1, param_name =\"max_depth\", param_range= parametros, cv=5, scoring=\"neg_mean_squared_error\")\n",
        "#parametros = [1, 2, 3, 4, 5, 6, 7, 8, 10] #parametros para min_samples-split y min_samples_leaf\n",
        "#train_scores, valid_scores = validation_curve(GradientBoostingRegressor(), X = X_train, y=y_train1, param_name =\"min_samples_leaf\", param_range= parametros, cv=5, scoring=\"neg_mean_squared_error\")\n",
        "parametros = [0.001, 0.005, 0.01, 0.05, 0.1, 0.2, 0.5] #parametros para learning_rate\n",
        "train_scores, valid_scores = validation_curve(GradientBoostingRegressor(), X = X_train, y=y_train1, param_name =\"learning_rate\", param_range= parametros, cv=5, scoring=\"neg_mean_squared_error\")\n",
        "train_scores_positive = np.array(train_scores) * -1\n",
        "valid_scores_positive = np.array(valid_scores) * -1\n",
        "train_mean = np.mean(train_scores_positive, axis=1)\n",
        "train_std = np.std(train_scores_positive, axis=1)\n",
        "val_mean = np.mean(valid_scores_positive, axis=1)\n",
        "val_std = np.std(valid_scores_positive, axis=1)\n",
        "print('Score train: ', train_scores_positive)\n",
        "print('Score test: ', valid_scores_positive)\n",
        "print('RMSE train: ', train_mean)\n",
        "print('RMSE val: ', val_mean)\n",
        "#grafica de validacion RMSE\n",
        "plt.plot(parametros, train_mean, color='blue', marker='o', markersize=5, label='training score')\n",
        "plt.fill_between(parametros, train_mean + train_std, train_mean - train_std, alpha=0.15, color='blue')\n",
        "\n",
        "plt.plot(parametros, val_mean, color='green', linestyle='--', marker='s', markersize=5, label='validation score')\n",
        "plt.fill_between(parametros, val_mean + val_std, val_mean - val_std, alpha=0.15, color='green')\n",
        "\n",
        "plt.grid()\n",
        "plt.xscale('log')\n",
        "#plt.xscale('linear')\n",
        "#plt.xticks(parametros)\n",
        "plt.title('Amikacina 100%-GBR')\n",
        "plt.legend(loc='upper righ')\n",
        "plt.xlabel('Tasa de aprendizaje')\n",
        "plt.ylabel('RMSE')\n",
        "plt.ylim([-1, 5])\n",
        "plt.show()"
      ],
      "execution_count": null,
      "outputs": []
    },
    {
      "cell_type": "code",
      "metadata": {
        "id": "dhq_tSDbuBfM",
        "colab": {
          "base_uri": "https://localhost:8080/",
          "height": 357
        },
        "outputId": "57c6a45f-92ce-4921-beb0-ef714fc5e680"
      },
      "source": [
        "#entreno modelo y realiazo predicciones \n",
        "modelo.fit(X_train, y_train1) #entreno\n",
        "y_pred = modelo.predict(X_test)\n",
        "#hago predicciones \n",
        "print(y_pred)\n",
        "y_pred1 = 2**np.round(modelo.predict(X_test))\n",
        "print(y_pred1)\n",
        "verdaderos = y_test.to_numpy()\n",
        "print(verdaderos)"
      ],
      "execution_count": null,
      "outputs": [
        {
          "output_type": "stream",
          "text": [
            "[4.23712547 4.77867561 5.13172579 3.66156324 4.30293034 3.36422594\n",
            " 3.77493237 4.56747917 4.8203424  5.13172579 3.88237831 4.63414282\n",
            " 3.76150903 4.49717303 4.83429524 4.63414282 4.99425759 3.59125244\n",
            " 5.29128156 4.28621467 3.11296167 4.77867561 4.22532027 5.32356519\n",
            " 3.62020594 3.563658   4.75275907 3.40869611 5.13172579 4.65788081\n",
            " 4.73486347 3.38287507 4.63554554 4.20530636 5.67900879 3.29300689\n",
            " 3.58303685 4.63414282 4.71132799 5.25353929 5.21362262 5.09373361\n",
            " 3.75727763 4.63414282 4.63751117 4.74129155 3.96816565 3.57694441\n",
            " 5.0441856  4.56166659 4.74129155 5.15283491 4.54437445 3.60753235\n",
            " 4.69331073 5.67900879 4.78817543 4.69331073 3.63046514 4.74129155\n",
            " 3.60555219 3.88831567 4.79614257 3.57735738 4.73469459 4.68662955\n",
            " 4.63414282 4.77867561 4.56747917]\n",
            "[16. 32. 32. 16. 16.  8. 16. 32. 32. 32. 16. 32. 16. 16. 32. 32. 32. 16.\n",
            " 32. 16.  8. 32. 16. 32. 16. 16. 32.  8. 32. 32. 32.  8. 32. 16. 64.  8.\n",
            " 16. 32. 32. 32. 32. 32. 16. 32. 32. 32. 16. 16. 32. 32. 32. 32. 32. 16.\n",
            " 32. 64. 32. 32. 16. 32. 16. 16. 32. 16. 32. 32. 32. 32. 32.]\n",
            "[ 64  32  64   4  32   4  16  32  64  32   8  32   8  32  16  32  64  16\n",
            " 128  16  16  32  16   8   4   4  64   4  32  32  16   4  32  64 128   4\n",
            "  16  32  32  32  64  64  16  32  32  64  16   4   8  16  64  64  32  16\n",
            "  32 128  32  32   4  64  16  32  32  16  32   8  32  32  32]\n"
          ],
          "name": "stdout"
        }
      ]
    },
    {
      "cell_type": "code",
      "metadata": {
        "id": "HFUExHpSOujH",
        "colab": {
          "base_uri": "https://localhost:8080/",
          "height": 153
        },
        "outputId": "95d14b4f-bf10-488b-e46c-f41416f06450"
      },
      "source": [
        "#obtengo los valores que muestran el desempeño del modelo\n",
        "print('Mean Absolute Error_test:', metrics.mean_absolute_error(y_test1, y_pred))\n",
        "print('Mean Absolute Error_train:', metrics.mean_absolute_error(y_train1, modelo.predict(X_train)))\n",
        "print('Mean Squared Error_test:', metrics.mean_squared_error(y_test1, y_pred))\n",
        "print('Mean Squared Error_train:', metrics.mean_squared_error(y_train1, modelo.predict(X_train)))\n",
        "print('Root Mean Squared Error_test:', np.sqrt(metrics.mean_squared_error(y_test1, y_pred)))\n",
        "print('RMSE_train:', np.sqrt(metrics.mean_squared_error(y_train1, modelo.predict(X_train))))\n",
        "print('r2_train:', metrics.r2_score(y_train1, modelo.predict(X_train)))\n",
        "print('r2_teste:', metrics.r2_score(y_test1, (y_pred)))"
      ],
      "execution_count": null,
      "outputs": [
        {
          "output_type": "stream",
          "text": [
            "Mean Absolute Error_test: 0.7983176385423434\n",
            "Mean Absolute Error_train: 0.7673813002589419\n",
            "Mean Squared Error_test: 0.9600001450861448\n",
            "Mean Squared Error_train: 0.9923025506714878\n",
            "Root Mean Squared Error_test: 0.9797959711522317\n",
            "RMSE_train: 0.996143840352129\n",
            "r2_train: 0.5849031409319766\n",
            "r2_teste: 0.46241346850680587\n"
          ],
          "name": "stdout"
        }
      ]
    },
    {
      "cell_type": "code",
      "metadata": {
        "id": "QRGXTm-ksEWA"
      },
      "source": [
        "#funcion para calcular la excatitud con +/- una dilucion \n",
        "def within_dillution(y_test, y_pred1, dill=2):\n",
        "    frac = np.array(y_test) / np.array(y_pred1)\n",
        "    return ((frac >= 1/dill) & (frac <= dill)).mean()"
      ],
      "execution_count": null,
      "outputs": []
    },
    {
      "cell_type": "code",
      "metadata": {
        "id": "G5WnqejqsSWb",
        "colab": {
          "base_uri": "https://localhost:8080/",
          "height": 85
        },
        "outputId": "7ae36969-09bf-4a52-9f0d-9d2e60f5c662"
      },
      "source": [
        "#saco accuracy con +/- 1 dilucion, VME y ME\n",
        "acc2 = within_dillution(y_test, y_pred1, dill=2)\n",
        "acc4 = within_dillution(y_test, y_pred1, dill=4)\n",
        "threshold = 16 \n",
        "threshold1 = 32 #colacel el punto de corte para el antibiotico que esta probando\n",
        "predDF = pd.DataFrame({'y_pred1':y_pred1, 'y_test':y_test})\n",
        "vme = len(predDF[(predDF.y_pred1<=threshold) & (predDF.y_test>threshold1)])\n",
        "me = len(predDF[(predDF.y_pred1>threshold1) & (predDF.y_test<=threshold)])\n",
        "print(vme)\n",
        "print(me)\n",
        "print(acc2)\n",
        "print(acc4)"
      ],
      "execution_count": null,
      "outputs": [
        {
          "output_type": "stream",
          "text": [
            "2\n",
            "0\n",
            "0.8405797101449275\n",
            "1.0\n"
          ],
          "name": "stdout"
        }
      ]
    }
  ]
}