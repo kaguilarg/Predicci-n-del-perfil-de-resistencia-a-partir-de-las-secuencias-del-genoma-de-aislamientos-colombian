{
  "nbformat": 4,
  "nbformat_minor": 0,
  "metadata": {
    "colab": {
      "name": "RF tesis final",
      "provenance": [],
      "collapsed_sections": []
    },
    "kernelspec": {
      "name": "python3",
      "display_name": "Python 3"
    }
  },
  "cells": [
    {
      "cell_type": "code",
      "metadata": {
        "id": "RrwcAnce9n_J"
      },
      "source": [
        "#Importar librerias\n",
        "import pandas as pd\n",
        "import numpy as np\n",
        "from sklearn.feature_selection import SelectFromModel\n",
        "from sklearn.ensemble import RandomForestRegressor\n",
        "from sklearn.model_selection import train_test_split\n",
        "from sklearn.metrics import mean_squared_error, r2_score, mean_absolute_error\n",
        "from sklearn import metrics\n",
        "from sklearn.model_selection import GridSearchCV\n",
        "from sklearn.model_selection import validation_curve\n",
        "from sklearn.inspection import permutation_importance\n",
        "import matplotlib.pyplot as plt "
      ],
      "execution_count": null,
      "outputs": []
    },
    {
      "cell_type": "code",
      "metadata": {
        "id": "0YbihGhVIthw"
      },
      "source": [
        "#leer el dataframe \n",
        "dataframe=pd.read_csv('/content/97-fosfo-343.csv')\n",
        "dataframe = dataframe.drop(['id', 'aislamiento', 'FOSFOI'], axis='columns')"
      ],
      "execution_count": null,
      "outputs": []
    },
    {
      "cell_type": "code",
      "metadata": {
        "id": "YS-Oy83BpFpN"
      },
      "source": [
        "#defino las variables \"X\" y \"y\"\n",
        "X = dataframe.drop(['FOSFOMICINA_'], axis='columns')\n",
        "y = dataframe.iloc[:, -1]  \n",
        "print(X)\n",
        "print(y)"
      ],
      "execution_count": null,
      "outputs": []
    },
    {
      "cell_type": "code",
      "metadata": {
        "id": "MU9xc7puKXNA"
      },
      "source": [
        "#division de los datos en entrenamiento y prueba \n",
        "X_train, X_test, y_train, y_test = train_test_split(X, y, test_size=0.20, random_state=27)\n",
        "#print(X_train)\n",
        "print(y_test)"
      ],
      "execution_count": null,
      "outputs": []
    },
    {
      "cell_type": "code",
      "metadata": {
        "id": "Yl4Ct2PGrFT_"
      },
      "source": [
        "#convierto la variable \"y\" en log \n",
        "y_train1 = np.log2(y_train)\n",
        "y_test1 = np.log2(y_test)\n",
        "print(y_test1)\n",
        "print(y_train1)"
      ],
      "execution_count": null,
      "outputs": []
    },
    {
      "cell_type": "code",
      "metadata": {
        "id": "0Z2XYWtruGCf"
      },
      "source": [
        "#ajuste de hiperparametros por gridesearch\n",
        "modelo1 = RandomForestRegressor()\n",
        "n_estimators = [50, 100, 200, 300]\n",
        "max_depth = [5, 6, 7, 8, 10]\n",
        "min_samples_split = [2, 3, 5, 6] \n",
        "min_samples_leaf = [1, 2, 3] \n",
        "max_features = ['sqrt', 10, 20, 30, 45, 57]\n",
        "\n",
        "hyperF = dict(max_depth = max_depth, min_samples_split = min_samples_split, min_samples_leaf = min_samples_leaf, max_features = max_features)\n",
        "\n",
        "gridF = GridSearchCV(modelo1, hyperF, cv = 10, verbose = 1, \n",
        "                      n_jobs = -1)\n",
        "bestF = gridF.fit(X_train, y_train)\n",
        "print('Best Params: ', gridF.best_params_)\n",
        "\n"
      ],
      "execution_count": null,
      "outputs": []
    },
    {
      "cell_type": "code",
      "metadata": {
        "id": "-uOH-3s-KlSn"
      },
      "source": [
        "#definir el modelo\n",
        "modelo = RandomForestRegressor(n_estimators = 100, max_depth= 6, min_samples_leaf= 2, min_samples_split= 2, max_features= 10)\n"
      ],
      "execution_count": null,
      "outputs": []
    },
    {
      "cell_type": "code",
      "metadata": {
        "id": "mBDP01YSa4Ld"
      },
      "source": [
        "#tunning de hiperparametros (resultados con RMSE)\n",
        "parametros = [10, 50, 100, 150, 200, 250] # parametros para n_estimators\n",
        "train_scores, valid_scores = validation_curve(RandomForestRegressor(max_features= 'sqrt'), X = X_train, y=y_train1, param_name =\"n_estimators\", param_range= parametros, cv=5, scoring=\"neg_mean_squared_error\")\n",
        "#parametros = [1, 2, 3, 4, 5, 6, 7, 10, 15, 20]  #parametros para max_depth\n",
        "#train_scores, valid_scores = validation_curve(RandomForestRegressor(max_features= 'sqrt'), X = X_train, y=y_train1, param_name =\"max_depth\", param_range= parametros, cv=5, scoring=\"neg_mean_squared_error\")\n",
        "#parametros = [1, 2, 3, 4, 5, 6, 7, 8, 10] #parametros para min_samples-split y min_samples_leaf\n",
        "#train_scores, valid_scores = validation_curve(RandomForestRegressor(max_features= 'sqrt'), X = X_train, y=y_train1, param_name =\"min_samples_split\", param_range= parametros, cv=5, scoring=\"neg_mean_squared_error\")\n",
        "train_scores_positive = np.array(train_scores) * -1\n",
        "valid_scores_positive = np.array(valid_scores) * -1\n",
        "train_mean = np.mean(train_scores_positive, axis=1)\n",
        "train_std = np.std(train_scores_positive, axis=1)\n",
        "val_mean = np.mean(valid_scores_positive, axis=1)\n",
        "val_std = np.std(valid_scores_positive, axis=1)\n",
        "print('Score train: ', train_scores_positive)\n",
        "print('Score test: ', valid_scores_positive)\n",
        "print('RMSE train: ', train_mean)\n",
        "print('RMSE val: ', val_mean)\n",
        "#grafica de validacion RMSE\n",
        "plt.plot(parametros, train_mean, color='blue', marker='o', markersize=5, label='training score')\n",
        "plt.fill_between(parametros, train_mean + train_std, train_mean - train_std, alpha=0.15, color='blue')\n",
        "\n",
        "plt.plot(parametros, val_mean, color='green', linestyle='--', marker='s', markersize=5, label='validation score')\n",
        "plt.fill_between(parametros, val_mean + val_std, val_mean - val_std, alpha=0.15, color='green')\n",
        "\n",
        "plt.grid()\n",
        "plt.xscale('log')\n",
        "#plt.xscale('linear')\n",
        "#plt.xticks(parametros)\n",
        "plt.title('FOSFOMICINA 100%')\n",
        "plt.legend(loc='upper righ')\n",
        "plt.xlabel('Número de EStimadores')\n",
        "plt.ylabel('RMSE')\n",
        "plt.ylim([-1, 5])\n",
        "plt.show()"
      ],
      "execution_count": null,
      "outputs": []
    },
    {
      "cell_type": "code",
      "metadata": {
        "id": "dhq_tSDbuBfM"
      },
      "source": [
        "#entreno modelo y realiazo predicciones \n",
        "modelo.fit(X_train, y_train1) #entreno\n",
        "y_pred = modelo.predict(X_test)\n",
        "#hago predicciones \n",
        "print(y_pred)\n",
        "y_pred1 = 2**np.round(modelo.predict(X_test))\n",
        "print(y_pred1)\n",
        "verdaderos = y_test.to_numpy()\n",
        "print(verdaderos)"
      ],
      "execution_count": null,
      "outputs": []
    },
    {
      "cell_type": "code",
      "metadata": {
        "id": "HFUExHpSOujH"
      },
      "source": [
        "#obtengo los valores que muestran el desempeño del modelo\n",
        "print('Mean Absolute Error_test:', metrics.mean_absolute_error(y_test1, y_pred))\n",
        "print('Mean Absolute Error_train:', metrics.mean_absolute_error(y_train1, modelo.predict(X_train)))\n",
        "print('Mean Squared Error_test:', metrics.mean_squared_error(y_test1, y_pred))\n",
        "print('Mean Squared Error_train:', metrics.mean_squared_error(y_train1, modelo.predict(X_train)))\n",
        "print('Root Mean Squared Error_test:', np.sqrt(metrics.mean_squared_error(y_test1, y_pred)))\n",
        "print('RMSE_train:', np.sqrt(metrics.mean_squared_error(y_train1, modelo.predict(X_train))))\n",
        "print('r2_train:', metrics.r2_score(y_train1, modelo.predict(X_train)))\n",
        "print('r2_teste:', metrics.r2_score(y_test1, (y_pred)))"
      ],
      "execution_count": null,
      "outputs": []
    },
    {
      "cell_type": "code",
      "metadata": {
        "id": "QRGXTm-ksEWA"
      },
      "source": [
        "#funcion para calcular la excatitud con +/- una dilucion \n",
        "def within_dillution(y_test, y_pred1, dill=2):\n",
        "    frac = np.array(y_test) / np.array(y_pred1)\n",
        "    return ((frac >= 1/dill) & (frac <= dill)).mean()"
      ],
      "execution_count": null,
      "outputs": []
    },
    {
      "cell_type": "code",
      "metadata": {
        "id": "G5WnqejqsSWb"
      },
      "source": [
        "#saco accuracy con +/- 1 dilucion, VME y ME\n",
        "acc2 = within_dillution(y_test, y_pred1, dill=2)\n",
        "acc4 = within_dillution(y_test, y_pred1, dill=4)\n",
        "threshold = 2\n",
        "threshold1 = 2 #colacel el punto de corte para el antibiotico que esta probando\n",
        "predDF = pd.DataFrame({'y_pred1':y_pred1, 'y_test':y_test})\n",
        "vme = len(predDF[(predDF.y_pred1<=threshold) & (predDF.y_test>threshold1)])\n",
        "me = len(predDF[(predDF.y_pred1>threshold1) & (predDF.y_test<=threshold)])\n",
        "print(vme)\n",
        "print(me)\n",
        "print(acc2)\n",
        "print(acc4)"
      ],
      "execution_count": null,
      "outputs": []
    }
  ]
}